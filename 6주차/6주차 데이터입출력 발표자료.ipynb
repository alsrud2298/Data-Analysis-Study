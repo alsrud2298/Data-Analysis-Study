{
 "cells": [
  {
   "cell_type": "code",
   "execution_count": 1,
   "metadata": {},
   "outputs": [],
   "source": [
    "import pandas as pd"
   ]
  },
  {
   "cell_type": "markdown",
   "metadata": {},
   "source": [
    "#### 1. 외부 파일 읽어오기"
   ]
  },
  {
   "cell_type": "markdown",
   "metadata": {},
   "source": [
    "##### 1-1. CSV 파일\n",
    "- csv(comma-separated values)\n",
    "- 쉼표로 구분하고 줄바꿈으로 행 구분하는 텍스트 파일\n",
    "- pandas.read_csv(\"파일경로(이름)\", header = 0 , index_col = False)\n",
    "    - csv 파일 읽어와서 데이터프레임으로 변환\n",
    "    - header : 열 이름이 되는 행 지정\n",
    "    - inex_col : 행 인덱스가 되는 열 지정"
   ]
  },
  {
   "cell_type": "code",
   "execution_count": 2,
   "metadata": {},
   "outputs": [
    {
     "name": "stdout",
     "output_type": "stream",
     "text": [
      "   c0  c1  c2  c3\n",
      "0   0   1   4   7\n",
      "1   1   2   5   8\n",
      "2   2   3   6   9\n",
      "\n",
      "\n",
      "    0   1   2   3\n",
      "0  c0  c1  c2  c3\n",
      "1   0   1   4   7\n",
      "2   1   2   5   8\n",
      "3   2   3   6   9\n",
      "\n",
      "\n",
      "   c0  c1  c2  c3\n",
      "0   0   1   4   7\n",
      "1   1   2   5   8\n",
      "2   2   3   6   9\n",
      "\n",
      "\n",
      "    c1  c2  c3\n",
      "c0            \n",
      "0    1   4   7\n",
      "1    2   5   8\n",
      "2    3   6   9\n"
     ]
    }
   ],
   "source": [
    "file_path = \"./read_csv_sample.csv\"\n",
    "\n",
    "df1 = pd.read_csv(file_path)\n",
    "print(df1)\n",
    "print(\"\\n\")\n",
    "# 파일 첫 행의 데이터가 열 이름이 됨.\n",
    "df2 = pd.read_csv(file_path, header = None)\n",
    "print(df2)\n",
    "print(\"\\n\")\n",
    "# 행 인덱스 정수로 자동 지정\n",
    "df3 = pd.read_csv(file_path, index_col = None)\n",
    "print(df3)\n",
    "print(\"\\n\")\n",
    "# 'c0'열이 행 인덱스가 됨\n",
    "df4 = pd.read_csv(file_path, index_col = 'c0')\n",
    "print(df4)"
   ]
  },
  {
   "cell_type": "markdown",
   "metadata": {},
   "source": [
    "##### 1-2. Excel 파일\n",
    "- read_excel() 함수 인자롤 전달\n",
    "- header 옵션 X -> 파일의 첫 행이 열 이름 구성\n",
    "- header = None : 정수형 인덱스를 열 이름으로 자동 할당"
   ]
  },
  {
   "cell_type": "code",
   "execution_count": 3,
   "metadata": {},
   "outputs": [
    {
     "name": "stdout",
     "output_type": "stream",
     "text": [
      "  전력량 (억㎾h) 발전 전력별  1990  1991  1992  1993  1994  1995  1996  1997  ...  2007  \\\n",
      "0        남한     합계  1077  1186  1310  1444  1650  1847  2055  2244  ...  4031   \n",
      "1       NaN     수력    64    51    49    60    41    55    52    54  ...    50   \n",
      "2       NaN     화력   484   573   696   803  1022  1122  1264  1420  ...  2551   \n",
      "3       NaN    원자력   529   563   565   581   587   670   739   771  ...  1429   \n",
      "4       NaN    신재생     -     -     -     -     -     -     -     -  ...     -   \n",
      "5        북한     합계   277   263   247   221   231   230   213   193  ...   236   \n",
      "6       NaN     수력   156   150   142   133   138   142   125   107  ...   133   \n",
      "7       NaN     화력   121   113   105    88    93    88    88    86  ...   103   \n",
      "8       NaN    원자력     -     -     -     -     -     -     -     -  ...     -   \n",
      "\n",
      "   2008  2009  2010  2011  2012  2013  2014  2015  2016  \n",
      "0  4224  4336  4747  4969  5096  5171  5220  5281  5404  \n",
      "1    56    56    65    78    77    84    78    58    66  \n",
      "2  2658  2802  3196  3343  3430  3581  3427  3402  3523  \n",
      "3  1510  1478  1486  1547  1503  1388  1564  1648  1620  \n",
      "4     -     -     -     -    86   118   151   173   195  \n",
      "5   255   235   237   211   215   221   216   190   239  \n",
      "6   141   125   134   132   135   139   130   100   128  \n",
      "7   114   110   103    79    80    82    86    90   111  \n",
      "8     -     -     -     -     -     -     -     -     -  \n",
      "\n",
      "[9 rows x 29 columns]\n",
      "\n",
      "\n",
      "          0       1     2     3     4     5     6     7     8     9   ...  \\\n",
      "0  전력량 (억㎾h)  발전 전력별  1990  1991  1992  1993  1994  1995  1996  1997  ...   \n",
      "1         남한      합계  1077  1186  1310  1444  1650  1847  2055  2244  ...   \n",
      "2        NaN      수력    64    51    49    60    41    55    52    54  ...   \n",
      "3        NaN      화력   484   573   696   803  1022  1122  1264  1420  ...   \n",
      "4        NaN     원자력   529   563   565   581   587   670   739   771  ...   \n",
      "5        NaN     신재생     -     -     -     -     -     -     -     -  ...   \n",
      "6         북한      합계   277   263   247   221   231   230   213   193  ...   \n",
      "7        NaN      수력   156   150   142   133   138   142   125   107  ...   \n",
      "8        NaN      화력   121   113   105    88    93    88    88    86  ...   \n",
      "9        NaN     원자력     -     -     -     -     -     -     -     -  ...   \n",
      "\n",
      "     19    20    21    22    23    24    25    26    27    28  \n",
      "0  2007  2008  2009  2010  2011  2012  2013  2014  2015  2016  \n",
      "1  4031  4224  4336  4747  4969  5096  5171  5220  5281  5404  \n",
      "2    50    56    56    65    78    77    84    78    58    66  \n",
      "3  2551  2658  2802  3196  3343  3430  3581  3427  3402  3523  \n",
      "4  1429  1510  1478  1486  1547  1503  1388  1564  1648  1620  \n",
      "5     -     -     -     -     -    86   118   151   173   195  \n",
      "6   236   255   235   237   211   215   221   216   190   239  \n",
      "7   133   141   125   134   132   135   139   130   100   128  \n",
      "8   103   114   110   103    79    80    82    86    90   111  \n",
      "9     -     -     -     -     -     -     -     -     -     -  \n",
      "\n",
      "[10 rows x 29 columns]\n"
     ]
    }
   ],
   "source": [
    "df1 = pd.read_excel(\"./남북한발전전력량.xlsx\") # header = 0 (default)\n",
    "df2 = pd.read_excel(\"./남북한발전전력량.xlsx\", header = None)\n",
    "\n",
    "print(df1)\n",
    "print(\"\\n\")\n",
    "print(df2)"
   ]
  },
  {
   "cell_type": "markdown",
   "metadata": {},
   "source": [
    "##### 1-3. JSON 파일\n",
    "- json : 데이터 공유를 목적으로 개발된 특수한 파일 형식\n",
    "- 딕셔너리와 비슷한 구조 key : value\n",
    "- pd.read_json(\"파일경로(이름)\")"
   ]
  },
  {
   "cell_type": "code",
   "execution_count": 4,
   "metadata": {},
   "outputs": [
    {
     "name": "stdout",
     "output_type": "stream",
     "text": [
      "           name  year        developer opensource\n",
      "pandas           2008    Wes Mckinneye       True\n",
      "NumPy            2006  Travis Oliphant       True\n",
      "matplotlib       2003   John D. Hunter       True\n",
      "\n",
      "\n",
      "Index(['pandas', 'NumPy', 'matplotlib'], dtype='object')\n"
     ]
    }
   ],
   "source": [
    "df = pd.read_json(\"./read_json_sample.json\")\n",
    "print(df)\n",
    "print(\"\\n\")\n",
    "print(df.index)"
   ]
  },
  {
   "cell_type": "markdown",
   "metadata": {},
   "source": [
    "#### 2. 웹에서 가져오기"
   ]
  },
  {
   "cell_type": "markdown",
   "metadata": {},
   "source": [
    "##### 2-1. HTML 웹 페이지에서 표 속성 가져오기\n",
    "- read_html() : HTML 웹 페이지에 있는 table 태그에서 표 형식의 데이터 모두 찾아서 데이터프레임으로 변환\n",
    "- 각각 별도의 데이터프레임으로 변환되므로 여러 개의 데이터프레임을 원소로 갖는 리스트 반환\n",
    "- 표 정보 파싱\n",
    "    - pd.read_html(\"https://www.naver.com/\")"
   ]
  },
  {
   "cell_type": "code",
   "execution_count": 5,
   "metadata": {},
   "outputs": [
    {
     "name": "stdout",
     "output_type": "stream",
     "text": [
      "2\n",
      "\n",
      "\n",
      "tables[0]\n",
      "   Unnamed: 0  c0  c1  c2  c3\n",
      "0           0   0   1   4   7\n",
      "1           1   1   2   5   8\n",
      "2           2   2   3   6   9\n",
      "\n",
      "\n",
      "tables[1]\n",
      "         name  year        developer  opensource\n",
      "0       NumPy  2006  Travis Oliphant        True\n",
      "1  matplotlib  2003   John D. Hunter        True\n",
      "2      pandas  2008    Wes Mckinneye        True\n",
      "\n",
      "\n",
      "            year        developer  opensource\n",
      "name                                         \n",
      "NumPy       2006  Travis Oliphant        True\n",
      "matplotlib  2003   John D. Hunter        True\n",
      "pandas      2008    Wes Mckinneye        True\n"
     ]
    }
   ],
   "source": [
    "url = \"./sample.html\"\n",
    "\n",
    "tables = pd.read_html(url)\n",
    "\n",
    "# 표 개수 확인\n",
    "print(len(tables))\n",
    "print(\"\\n\")\n",
    "\n",
    "# 테이블 출력\n",
    "for i in range(len(tables)):\n",
    "    print(\"tables[%s]\" % i)\n",
    "    print(tables[i])\n",
    "    print(\"\\n\")\n",
    "\n",
    "# 두 번째 데이터 프레임 df에 저장\n",
    "df = tables[1]\n",
    "\n",
    "# \"name\" 열 인덱스로 지정\n",
    "df.set_index([\"name\"],inplace = True)\n",
    "print(df)"
   ]
  },
  {
   "cell_type": "markdown",
   "metadata": {},
   "source": [
    "##### 2-2. 웹 스크래핑 "
   ]
  },
  {
   "cell_type": "code",
   "execution_count": 6,
   "metadata": {
    "scrolled": true
   },
   "outputs": [
    {
     "name": "stdout",
     "output_type": "stream",
     "text": [
      "{}\n",
      "\n",
      "\n",
      "Empty DataFrame\n",
      "Columns: []\n",
      "Index: []\n"
     ]
    }
   ],
   "source": [
    "from bs4 import BeautifulSoup\n",
    "import requests\n",
    "import re\n",
    "# 위키피디아 미국 ETF 웹 페이지 스크래핑 후 딕셔너리 형태로 저장\n",
    "url = \"https://en.wikipedia.org/wiki/List_of_American_exchange-traded_funds\"\n",
    "resp = requests.get(url)\n",
    "soup = BeautifulSoup(resp.text, 'lxml')   \n",
    "rows = soup.select('div > ul > li')\n",
    "    \n",
    "etfs = {}\n",
    "for row in rows:\n",
    "    \n",
    "    try:\n",
    "        etf_name = re.findall('^(.*) \\(NYSE', row.text)\n",
    "        etf_market = re.findall('\\((.*)\\|', row.text)\n",
    "        etf_ticker = re.findall('NYSE Arca\\|(.*)\\)', row.text)\n",
    "        \n",
    "        if (len(etf_ticker) > 0) & (len(etf_market) > 0) & (len(etf_name) > 0):\n",
    "            # 리스트를 원소로 갖는 딕셔너리 정의\n",
    "            etfs[etf_ticker[0]] = [etf_market[0], etf_name[0]]\n",
    "\n",
    "    except AttributeError as err:\n",
    "        pass    \n",
    "\n",
    "# etfs 딕셔너리 출력\n",
    "print(etfs)\n",
    "print('\\n')\n",
    "\n",
    "# etfs 딕셔너리를 데이터프레임으로 변환\n",
    "df = pd.DataFrame(etfs)\n",
    "print(df)"
   ]
  },
  {
   "cell_type": "markdown",
   "metadata": {},
   "source": [
    "#### 추가 자료"
   ]
  },
  {
   "cell_type": "markdown",
   "metadata": {},
   "source": [
    "**- 웹 스크래핑 vs. 웹 크롤링**\n",
    "- 웹 스크래핑 : 웹페이지에서 원하는 부분만 가져오는 것\n",
    "- 웹 크롤링 : 웹페이지가 주어졌을 때, 그 페이지 내부의 링크를 따라가면서 모든 내용을 가져오는 것"
   ]
  },
  {
   "cell_type": "markdown",
   "metadata": {},
   "source": [
    "**Request**\n",
    "- HTML 문서 정보 가져오는데 사용"
   ]
  },
  {
   "cell_type": "code",
   "execution_count": 8,
   "metadata": {},
   "outputs": [
    {
     "name": "stdout",
     "output_type": "stream",
     "text": [
      "웹 스크래핑을 진행합니다\n",
      "<!doctype html><html class=\"notion-html\"><head lang=\"en\"><meta charset=\"utf-8\"><meta name=\"viewport\" content=\"width=device-width,height=device-height,initial-scale=1,maximum-scale=1,user-scalable=no,viewport-fit=cover\"><title>Notion – The all-in-one workspace for your notes, tasks, wikis, and databases.</title><meta name=\"description\" content=\"A new tool that blends your everyday work apps into one. It's the all-in-one workspace for you and your team\"><script>window.__webStartTime=Date.now(),window.__webStartTimePerformance=performance.now()</script><meta name=\"twitter:card\" content=\"summary_large_image\"><meta name=\"twitter:site\" content=\"@NotionHQ\"><meta name=\"twitter:title\" content=\"Notion – The all-in-one workspace for your notes, tasks, wikis, and databases.\"><meta name=\"twitter:description\" content=\"A new tool that blends your everyday work apps into one. It's the all-in-one workspace for you and your team\"><meta name=\"twitter:url\" content=\"https://www.notion.so\"><meta name=\"twitter:image\" content=\"https://www.notion.so/images/meta/default.png\"><meta property=\"og:site_name\" content=\"Notion\"><meta property=\"og:type\" content=\"website\"><meta property=\"og:url\" content=\"https://www.notion.so\"><meta property=\"og:title\" content=\"Notion – The all-in-one workspace for your notes, tasks, wikis, and databases.\"><meta property=\"og:description\" content=\"A new tool that blends your everyday work apps into one. It's the all-in-one workspace for you and your team\"><meta property=\"og:image\" content=\"https://www.notion.so/images/meta/default.png\"><meta property=\"og:locale\" content=\"en_US\"><link rel=\"shortcut icon\" type=\"image/x-icon\" href=\"/images/favicon.ico\"><link rel=\"apple-touch-icon\" href=\"/images/logo-ios.png\"><meta name=\"apple-mobile-web-app-capable\" content=\"yes\"><meta name=\"apple-itunes-app\" content=\"app-id=1232780281\"><meta name=\"format-detection\" content=\"telephone=no\"><meta name=\"msapplication-tap-highlight\" content=\"no\"><link href=\"/print.b31f28aa.css\" rel=\"stylesheet\" media=\"print\"><script defer=\"defer\" src=\"/677-07d069a322d4d0596686.js\"></script><script defer=\"defer\" src=\"/app-f302c1783146251e5ddd.js\"></script><link href=\"/app-6cb7cd1dced475bbd416.css\" rel=\"stylesheet\"></head><body class=\"notion-body\"><script>var parsed,theme=\"light\",localThemeKey=\"theme\",themeRecord=localStorage.getItem(\"theme\");!themeRecord||(parsed=JSON.parse(themeRecord))&&parsed.mode&&(theme=parsed.mode),\"dark\"===theme&&document.body.classList.add(\"dark\")</script><style>body{background:#fff}body.dark{background:#2f3437}.initial-loading-spinner{-webkit-animation:rotate 1s linear infinite;animation:rotate 1s linear infinite;-webkit-transform-origin:center center;transform-origin:center center;width:1em;height:1em;opacity:.5;display:block;pointer-events:none}@-webkit-keyframes rotate{0%{-webkit-transform:rotate(0) translateZ(0);transform:rotate(0) translateZ(0)}100%{-webkit-transform:rotate(360deg) translateZ(0);transform:rotate(360deg) translateZ(0)}}@keyframes rotate{0%{-webkit-transform:rotate(0) translateZ(0);transform:rotate(0) translateZ(0)}100%{-webkit-transform:rotate(360deg) translateZ(0);transform:rotate(360deg) translateZ(0)}}</style><div id=\"initial-loading-spinner\" style=\"position:absolute;top:0;bottom:0;left:0;right:0;display:flex;align-items:center;justify-content:center;opacity:0\"><div class=\"initial-loading-spinner\" style=\"width:24px;height:24px\"><svg xmlns=\"http://www.w3.org/2000/svg\" xmlns:xlink=\"http://www.w3.org/1999/xlink\" xmlns:sketch=\"http://www.bohemiancoding.com/sketch/ns\" width=\"100%\" height=\"100%\" viewBox=\"0 0 24 24\" version=\"1.1\" data-ember-extension=\"1\"><defs><linearGradient x1=\"28.1542969%\" y1=\"63.7402344%\" x2=\"74.6289062%\" y2=\"17.7832031%\" id=\"linearGradient-1\"><stop stop-color=\"rgba(164, 164, 164, 1)\" offset=\"0%\"/><stop stop-color=\"rgba(164, 164, 164, 0)\" stop-opacity=\"0\" offset=\"100%\"/></linearGradient></defs><g id=\"Page-1\" stroke=\"none\" stroke-width=\"1\" fill=\"none\"><g transform=\"translate(-236.000000, -286.000000)\"><g transform=\"translate(238.000000, 286.000000)\"><circle id=\"Oval-2\" stroke=\"url(#linearGradient-1)\" stroke-width=\"4\" cx=\"10\" cy=\"12\" r=\"10\"/><path d=\"M10,2 C4.4771525,2 0,6.4771525 0,12\" id=\"Oval-2\" stroke=\"rgba(164, 164, 164, 1)\" stroke-width=\"4\"/><rect id=\"Rectangle-1\" fill=\"rgba(164, 164, 164, 1)\" x=\"8\" y=\"0\" width=\"4\" height=\"4\" rx=\"8\"/></g></g></g></svg></div></div><script>var spinner,isElectron=\"undefined\"!=typeof global||window.__isElectron,isReactNative=/ReactNative/.test(navigator.userAgent),showSpinner=isElectron||isReactNative;!showSpinner||(spinner=document.getElementById(\"initial-loading-spinner\"))&&(spinner.style.opacity=1)</script><style id=\"scroll-properties\"></style><div id=\"notion-app\"></div><script>window.CONFIG={env:\"production\",isAdminMode:!1,isLocalhost:!1,offline:!0,version:\"23.10.24.5\",domainBaseUrl:\"https://www.notion.so\",adminUrl:\"https://admin.notion.so\",publicDomainName:\"notion.site\",protocol:\"notion\",staticS3:{url:\"https://prod-notion-assets.s3-us-west-2.amazonaws.com\",bucket:\"prod-notion-assets\"},lastUpdatedTime:1647545516105,api:{http:\"/api/v3\"},googleOAuth:{clientId:\"905154081809-858sm3f0qnalqd9d44d9gecjtrdji9tf.apps.googleusercontent.com\"},messageStore:{url:\"https://msgstore.www.notion.so\",api:\"/api/v1\"},stripe:{key:\"pk_live_vuNO27XGTCbXjVwneiECILjT\"},revenueCat:{apiResponseMaxAge:6048e5,entitlementIDs:{personal:\"notion.id.personal_pro\"},productIDs:{personal:{monthly:\"notion.id.personal_pro_monthly\",yearly:\"notion.id.personal_pro_yearly\"}}},intercom:{appId:\"gpfdrxfd\",adminId:\"3483686\"},mutiny:{personalKey:\"1149e901f65fc47c\"},segment:{writeKey:\"g1mMn2qquRcv7exBIVDivoKl9cOrdxLA\"},amplitude:{apiKey:\"af43d4b535912f7751949bfb061d8659\"},pricing:{invoiceDaysUntilDue:30,team_free:{spaceBlockLimit:1e3,fileUploadMaxBytes:5e6},personal_free:{fileUploadMaxBytes:5e6},student:{productId:\"prod_FhChFoDp7gS1Ba\"},personal:{productId:\"prod_CpavZFCbxF2YGx\",monthlyPrice:500,yearlyPrice:4800},team:{productId:\"prod_CpawK4ih14xs4t\",monthlyPricePerMember:1e3,yearlyPricePerMember:9600},business:{productId:\"prod_LEnFERYcTgENz8\",monthlyPricePerMember:1600,yearlyPricePerMember:16800},enterprise:{productId:\"prod_Cpb8M1AFEFhdy1\",monthlyPricePerMember:2500,yearlyPricePerMember:24e3}},desktopS3:{url:\"https://s3-us-west-2.amazonaws.com/desktop-release.notion-static.com\"},publicFileS3:{url:\"https://s3-us-west-2.amazonaws.com/public.notion-static.com\",bucket:\"public.notion-static.com\"},temporaryFileS3:{url:\"https://s3-us-west-2.amazonaws.com/temporary.notion-static.com\",bucket:\"temporary.notion-static.com\"},secureFileS3:{url:\"https://s3-us-west-2.amazonaws.com/secure.notion-static.com\",bucket:\"secure.notion-static.com\"},loggly:{token:\"edcca201-4028-4ef1-bbb1-c78b430dd74e\"},embedly:{key:\"421626497c5d4fc2ae6b075189d602a2\"},aif:{url:\"https://aif.notion.so/aif-production.html\"},contentful:{spaceId:\"spoqsaf9291f\",contentDeliveryToken:\"AGqteRpWD8aE_kxy_s7_hSFAlKCh5qf-RctSU6vV6u0\",contentPreviewToken:\"uR2ZVAs-9TMKDq0YKYVtczFplx6P9p06huCibZDJZKA\"},iOSAppId:1232780281,facebook:{pixelId:\"499229960464487\"},statsig:{apiKey:\"client-Tgza5wNFa8dVt9BdeUfG6Vkm29bHxX10MhoztTMzLBB\"}}</script></body></html>\n"
     ]
    }
   ],
   "source": [
    "import requests\n",
    "# res = requests.get(\"http://naver.com\")\n",
    "# 스터디 노션 주소\n",
    "res = requests.get(\"https://www.notion.so/670f78fdee4a4e72a8003c55ad21e220\")\n",
    "\n",
    "# if문 대신 사용 가능\n",
    "res.raise_for_status() # HTML 문서를 가져오지 못한 경우 에러 발생 & 프로그램 종료\n",
    "print(\"웹 스크래핑을 진행합니다\")\n",
    "\n",
    "print(res.text)"
   ]
  },
  {
   "cell_type": "markdown",
   "metadata": {},
   "source": [
    "**BeautifulSoup**\n",
    "- 스크래핑 패키지\n",
    "- lxml : 구문 분석 phaser"
   ]
  },
  {
   "cell_type": "code",
   "execution_count": 13,
   "metadata": {},
   "outputs": [
    {
     "name": "stdout",
     "output_type": "stream",
     "text": [
      "<title>네이버 만화 &gt; 요일별  웹툰 &gt; 전체웹툰</title>\n",
      "\n",
      "\n",
      "네이버 만화 > 요일별  웹툰 > 전체웹툰\n",
      "\n",
      "\n",
      "<a href=\"#menu\" onclick=\"document.getElementById('menu').tabIndex=-1;document.getElementById('menu').focus();return false;\"><span>메인 메뉴로 바로가기</span></a>\n",
      "\n",
      "\n",
      "{'href': '#menu', 'onclick': \"document.getElementById('menu').tabIndex=-1;document.getElementById('menu').focus();return false;\"}\n",
      "\n",
      "\n",
      "#menu\n",
      "\n",
      "\n",
      "<a href=\"/webtoon/detail?titleId=735661&amp;no=108\" onclick=\"nclk_v2(event,'rnk*p.cont','735661','3')\" title=\"재혼 황후-105화\">재혼 황후-105화</a>\n"
     ]
    }
   ],
   "source": [
    "# 네이버 웹툰 페이지 예제\n",
    "url = \"https://comic.naver.com/webtoon/weekday\"\n",
    "res = requests.get(url)\n",
    "res.raise_for_status()\n",
    "# 가져온 html 문서 -> lmxl 파서를 통해서 beautiful soup 객체로 만듦.\n",
    "soup = BeautifulSoup(res.text, \"lxml\") \n",
    "print(soup.title)\n",
    "print(\"\\n\")\n",
    "print(soup.title.get_text())\n",
    "print(\"\\n\")\n",
    "# soup 객체에서 첫번째로 발견되는 a태그 정보 출력\n",
    "print(soup.a) \n",
    "print(\"\\n\")\n",
    "# a element의 속성 , 딕셔너리로 반환\n",
    "print(soup.a.attrs) \n",
    "print(\"\\n\")\n",
    "# a element의 href 속성 '값' 정보 출력\n",
    "print(soup.a[\"href\"]) \n",
    "print(\"\\n\")\n",
    "# 텍스트에 해당하는 a 태그 찾기\n",
    "webtoon = soup.find(\"a\", text = \"재혼 황후-105화\") \n",
    "print(webtoon)"
   ]
  }
 ],
 "metadata": {
  "kernelspec": {
   "display_name": "Python 3",
   "language": "python",
   "name": "python3"
  },
  "language_info": {
   "codemirror_mode": {
    "name": "ipython",
    "version": 3
   },
   "file_extension": ".py",
   "mimetype": "text/x-python",
   "name": "python",
   "nbconvert_exporter": "python",
   "pygments_lexer": "ipython3",
   "version": "3.8.5"
  }
 },
 "nbformat": 4,
 "nbformat_minor": 4
}
