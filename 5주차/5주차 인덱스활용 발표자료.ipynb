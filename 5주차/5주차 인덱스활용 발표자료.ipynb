{
 "cells": [
  {
   "cell_type": "markdown",
   "metadata": {},
   "source": [
    "### 5주차 발표자료"
   ]
  },
  {
   "cell_type": "markdown",
   "metadata": {},
   "source": [
    "#### 3. 인덱스 활용"
   ]
  },
  {
   "cell_type": "code",
   "execution_count": 34,
   "metadata": {},
   "outputs": [],
   "source": [
    "import pandas as pd\n",
    "exam_data = {'이름':['서준','우현','인아'],\n",
    "             '수학':[90,80,70],'영어':[98,89,95],\n",
    "             '음악':[85,95,100],'체육':[100,90,90]}\n",
    "df = pd.DataFrame(exam_data)"
   ]
  },
  {
   "cell_type": "markdown",
   "metadata": {},
   "source": [
    "##### 특정 열을 행 인덱스로 설정\n",
    "- set_index() 사용\n",
    "- 원본 데이터프레임을 바꾸지 않고 새로운 데이터프레임 객체 반환\n",
    "\n",
    "```DataFrame.set_index(keys, drop = True, append = False, inplace = False)```\n",
    "- keys : 인덱스로 세팅하려는 열의 레이블\n",
    "- drop : 인덱스로 세팅한 열을 데이터프레임내에서 삭제할 지 여부 결정\n",
    "- append : 기존에 존재하던 인덱스 삭제할 지 여부\n",
    "- inplace : 원본 객체 변경할 지 여부"
   ]
  },
  {
   "cell_type": "code",
   "execution_count": 35,
   "metadata": {},
   "outputs": [
    {
     "name": "stdout",
     "output_type": "stream",
     "text": [
      "   이름  수학  영어   음악   체육\n",
      "0  서준  90  98   85  100\n",
      "1  우현  80  89   95   90\n",
      "2  인아  70  95  100   90\n",
      "<drop = True>\n",
      "    수학  영어   음악   체육\n",
      "이름                  \n",
      "서준  90  98   85  100\n",
      "우현  80  89   95   90\n",
      "인아  70  95  100   90\n",
      "<drop = False>\n",
      "    이름  수학  영어   음악   체육\n",
      "이름                      \n",
      "서준  서준  90  98   85  100\n",
      "우현  우현  80  89   95   90\n",
      "인아  인아  70  95  100   90\n",
      "<append = True>\n",
      "      수학  영어   음악   체육\n",
      "  이름                  \n",
      "0 서준  90  98   85  100\n",
      "1 우현  80  89   95   90\n",
      "2 인아  70  95  100   90\n",
      "<append = False>\n",
      "    수학  영어   음악   체육\n",
      "이름                  \n",
      "서준  90  98   85  100\n",
      "우현  80  89   95   90\n",
      "인아  70  95  100   90\n"
     ]
    }
   ],
   "source": [
    "print(df)\n",
    "print(\"<drop = True>\")\n",
    "df1 = df.set_index(['이름'], drop = True) # 인덱스 설정 열 삭제\n",
    "print(df1)\n",
    "print(\"<drop = False>\")\n",
    "df2 = df.set_index(['이름'], drop = False) # 인덱스 설정 열 유지\n",
    "print(df2)\n",
    "print(\"<append = True>\")\n",
    "df3 = df.set_index(['이름'], append = True) # 기존 인덱스 유지\n",
    "print(df3)\n",
    "print(\"<append = False>\")\n",
    "df4 = df.set_index(['이름'], append = False) # 기존 인덱스 삭제\n",
    "print(df4)"
   ]
  },
  {
   "cell_type": "code",
   "execution_count": 36,
   "metadata": {
    "scrolled": true
   },
   "outputs": [
    {
     "name": "stdout",
     "output_type": "stream",
     "text": [
      "   이름  수학  영어   음악   체육\n",
      "0  서준  90  98   85  100\n",
      "1  우현  80  89   95   90\n",
      "2  인아  70  95  100   90\n",
      "\n",
      "\n",
      "    수학  영어   음악   체육\n",
      "이름                  \n",
      "서준  90  98   85  100\n",
      "우현  80  89   95   90\n",
      "인아  70  95  100   90\n",
      "\n",
      "\n",
      "     수학  영어   체육\n",
      "음악              \n",
      "85   90  98  100\n",
      "95   80  89   90\n",
      "100  70  95   90\n",
      "\n",
      "\n",
      "        영어   체육\n",
      "수학 음악          \n",
      "90 85   98  100\n",
      "80 95   89   90\n",
      "70 100  95   90\n"
     ]
    }
   ],
   "source": [
    "print(df)\n",
    "print('\\n')\n",
    "ndf = df.set_index(['이름'])\n",
    "print(ndf)\n",
    "print('\\n')\n",
    "ndf2 = ndf.set_index('음악') # 기존의 인덱스는 사라짐\n",
    "print(ndf2)\n",
    "print('\\n')\n",
    "ndf3 = ndf.set_index(['수학','음악'])\n",
    "print(ndf3)"
   ]
  },
  {
   "cell_type": "markdown",
   "metadata": {},
   "source": [
    "##### 행 인덱스 재배열\n",
    "- reindex()\n",
    "1. 기존에 존재하는 데이터에 레이블의 새로운 세트 매치시켜 순서 재조정\n",
    "2. 레이블은 존재하지만 데이터가 존재하지 않는 레이블 위치에 누락값 발생시켜 마커\n",
    "3. 로직을 사용해 레이블이 없는 데이터 채우기\n",
    "\n",
    "- 데이터프레임의 행 인덱스를 새로운 배열로 재지정\n",
    "- 새로운 데이터프레임 객체 반환\n",
    "- 기존 데이터프레임에 존재하지 않는 행 인덱스가 새롭게 추가되는 경우 그 행의 데이터값은 Nan이 됨 -> fill_value 옵션으로 원하는 값 입력\n",
    "\n",
    "```DataFrame.reindex(index, columns, axis = 0, method = None, fill_value = np.nan , limit = None)```\n",
    "- method : 위 index가 데이터프레임에 없는 경우 해당값 채우는 방식 입력\n",
    "    - pad / ffill : 앞쪽 방향으로 채우기\n",
    "    - bfill / backfill : 뒤쪽방향으로 채우기\n",
    "    - nearest : 가장 근처에 있는 인덱스 값으로 채우기 ( 문자열 인덱스 시 에러 )\n",
    "- fill_value : 위 index가 데이터프레임에 없는 경우 채울 값 입력\n",
    "- limit : 누락값이 연속적으로 여러 개 존재 시 method 방식에 따라 누락값 채우는 개수 지정\n",
    "- axis : 0 -> 행에 대해서만 정렬 수행 1-> 열에 대해서만 정렬 수행"
   ]
  },
  {
   "cell_type": "code",
   "execution_count": 37,
   "metadata": {
    "scrolled": true
   },
   "outputs": [
    {
     "name": "stdout",
     "output_type": "stream",
     "text": [
      "    c0  c1  c2  c3  c4\n",
      "r0   1   4   7  10  13\n",
      "r1   2   5   8  11  14\n",
      "r2   3   6   9  12  15\n",
      "\n",
      "\n",
      "     c0   c1   c2    c3    c4\n",
      "r0  1.0  4.0  7.0  10.0  13.0\n",
      "r1  2.0  5.0  8.0  11.0  14.0\n",
      "r2  3.0  6.0  9.0  12.0  15.0\n",
      "r3  NaN  NaN  NaN   NaN   NaN\n",
      "r4  NaN  NaN  NaN   NaN   NaN\n",
      "\n",
      "\n",
      "    c0  c1  c2  c3  c4\n",
      "r0   1   4   7  10  13\n",
      "r1   2   5   8  11  14\n",
      "r2   3   6   9  12  15\n",
      "r3   0   0   0   0   0\n",
      "r4   0   0   0   0   0\n"
     ]
    }
   ],
   "source": [
    "dict_data = {'c0':[1,2,3], 'c1':[4,5,6], 'c2':[7,8,9],'c3':[10,11,12],'c4':[13,14,15]}\n",
    "\n",
    "df = pd.DataFrame(dict_data, index = ['r0','r1','r2'])\n",
    "print(df)\n",
    "print('\\n')\n",
    "new_index = ['r0','r1','r2','r3','r4']\n",
    "ndf = df.reindex(new_index)\n",
    "print(ndf)\n",
    "print('\\n')\n",
    "ndf2 = df.reindex(new_index, fill_value = 0)\n",
    "print(ndf2)"
   ]
  },
  {
   "cell_type": "code",
   "execution_count": 38,
   "metadata": {},
   "outputs": [
    {
     "name": "stdout",
     "output_type": "stream",
     "text": [
      "     0\n",
      "1  1.0\n",
      "2  NaN\n",
      "3  3.0\n",
      "4  NaN\n",
      "5  5.0\n",
      "\n",
      "\n",
      "앞쪽방향\n",
      "    0\n",
      "1  1\n",
      "2  1\n",
      "3  3\n",
      "4  3\n",
      "5  5\n",
      "\n",
      "\n",
      "뒤쪽방향\n",
      "    0\n",
      "1  1\n",
      "2  3\n",
      "3  3\n",
      "4  5\n",
      "5  5\n",
      "\n",
      "\n",
      "근처 값\n",
      "    0\n",
      "1  1\n",
      "2  3\n",
      "3  3\n",
      "4  5\n",
      "5  5\n"
     ]
    }
   ],
   "source": [
    "# 누락값 채우기\n",
    "sample = pd.DataFrame([1,2,3,4,5], index = [1,2,3,4,5])\n",
    "sample1 = pd.DataFrame([1,3,5], index = [1,3,5])\n",
    "print(sample1.reindex(sample.index))\n",
    "print('\\n')\n",
    "print('앞쪽방향\\n',sample1.reindex(sample.index, method = 'ffill'))\n",
    "print('\\n')\n",
    "print('뒤쪽방향\\n',sample1.reindex(sample.index, method = 'bfill'))\n",
    "print('\\n')\n",
    "print('근처 값\\n',sample1.reindex(sample.index, method = 'nearest'))"
   ]
  },
  {
   "cell_type": "markdown",
   "metadata": {},
   "source": [
    "##### 행 인덱스 초기화\n",
    "- reset_index() 메소드 활용해 행 인덱스 -> 정수형 위치 인덱스로 초기화\n",
    "- set_index() 기능을 역으로 수행\n",
    "- 새로운 데이터 프레임 객체 반환\n",
    "\n",
    "```DataFrame.reset_index(drop = False, inplace = False)```\n",
    "- drop : 인덱스로 세팅한 열 데이터프레임내에서 삭제할 지 여부 결정\n",
    "- inplace : 원본 객체 변경할 지 여부 결정"
   ]
  },
  {
   "cell_type": "code",
   "execution_count": 39,
   "metadata": {},
   "outputs": [
    {
     "name": "stdout",
     "output_type": "stream",
     "text": [
      "    c0  c1  c2  c3  c4\n",
      "r0   1   2   3  10  13\n",
      "r1   3   4   6  11  14\n",
      "r2   5   7   9  12  15\n",
      "\n",
      "\n",
      "  index  c0  c1  c2  c3  c4\n",
      "0    r0   1   2   3  10  13\n",
      "1    r1   3   4   6  11  14\n",
      "2    r2   5   7   9  12  15\n",
      "\n",
      "\n",
      "   c0  c1  c2  c3  c4\n",
      "0   1   2   3  10  13\n",
      "1   3   4   6  11  14\n",
      "2   5   7   9  12  15\n"
     ]
    }
   ],
   "source": [
    "dict_data = {'c0':[1,3,5], 'c1':[2,4,7], 'c2':[3,6,9],'c3':[10,11,12],'c4':[13,14,15]}\n",
    "\n",
    "df = pd.DataFrame(dict_data, index = ['r0','r1','r2'])\n",
    "print(df)\n",
    "print('\\n')\n",
    "ndf = df.reset_index(drop = False)\n",
    "print(ndf)\n",
    "print('\\n')\n",
    "# reset 한 인덱스 삭제\n",
    "ndf1 = df.reset_index(drop = True)\n",
    "print(ndf1)"
   ]
  },
  {
   "cell_type": "markdown",
   "metadata": {},
   "source": [
    "##### 인덱스 기준으로 데이터프레임 정렬\n",
    "- sort_index() 메소드 활용\n",
    "- 새롭게 정렬된 데이터프레임 반환\n",
    "\n",
    "```DataFrame.sort_index(axis = 0, ascending = True)```\n",
    "- axis = 0 : 행 기준 , axis = 1 : 열 기준\n",
    "- ascending 옵션을 사용해 오름차순 또는 내림차순으로 설정\n",
    "- ascending = False : 내림차순"
   ]
  },
  {
   "cell_type": "code",
   "execution_count": 40,
   "metadata": {},
   "outputs": [
    {
     "name": "stdout",
     "output_type": "stream",
     "text": [
      "    c0  c1  c2  c3  c4\n",
      "r0   1   2   3  10  13\n",
      "r1   3   4   6  11  14\n",
      "r2   5   7   9  12  15\n",
      "\n",
      "\n",
      "    c0  c1  c2  c3  c4\n",
      "r0   1   2   3  10  13\n",
      "r1   3   4   6  11  14\n",
      "r2   5   7   9  12  15\n",
      "\n",
      "\n",
      "    c0  c1  c2  c3  c4\n",
      "r2   5   7   9  12  15\n",
      "r1   3   4   6  11  14\n",
      "r0   1   2   3  10  13\n",
      "\n",
      "\n",
      "    c4  c3  c2  c1  c0\n",
      "r0  13  10   3   2   1\n",
      "r1  14  11   6   4   3\n",
      "r2  15  12   9   7   5\n"
     ]
    }
   ],
   "source": [
    "print(df)\n",
    "print('\\n')\n",
    "print(df.sort_index())\n",
    "print('\\n')\n",
    "ndf = df.sort_index(ascending = False)\n",
    "print(ndf)\n",
    "print('\\n')\n",
    "ndf1 = df.sort_index(axis = 1, ascending = False)\n",
    "print(ndf1)\n"
   ]
  },
  {
   "cell_type": "markdown",
   "metadata": {},
   "source": [
    "##### 특정 열 데이터 값 기준으로 데이터프레임 정렬하기\n",
    "- sort_values() 메소드 활용\n",
    "- 새롭게 정렬된 데이터프레임 객체 반환"
   ]
  },
  {
   "cell_type": "code",
   "execution_count": 41,
   "metadata": {},
   "outputs": [
    {
     "name": "stdout",
     "output_type": "stream",
     "text": [
      "    c0  c1  c2  c3  c4\n",
      "r0   1   2   3  10  13\n",
      "r1   3   4   6  11  14\n",
      "r2   5   7   9  12  15\n",
      "\n",
      "\n",
      "    c0  c1  c2  c3  c4\n",
      "r2   5   7   9  12  15\n",
      "r1   3   4   6  11  14\n",
      "r0   1   2   3  10  13\n"
     ]
    }
   ],
   "source": [
    "print(df)\n",
    "print('\\n')\n",
    "ndf = df.sort_values(by = 'c1', ascending = False)\n",
    "print(ndf)"
   ]
  },
  {
   "cell_type": "code",
   "execution_count": 42,
   "metadata": {},
   "outputs": [
    {
     "name": "stdout",
     "output_type": "stream",
     "text": [
      "    c0  c1  c2  c3  c4\n",
      "r0   1   2   3  10  13\n",
      "r1   3   4   6  11  14\n",
      "r2   5   7   9  12  15\n"
     ]
    }
   ],
   "source": [
    "# 여러 칼럼을 기준으로 정렬 -> by옵션에 리스트 사용\n",
    "ndf2 = df.sort_values(by=['c0','c1'])\n",
    "print(ndf2)"
   ]
  }
 ],
 "metadata": {
  "kernelspec": {
   "display_name": "Python 3",
   "language": "python",
   "name": "python3"
  },
  "language_info": {
   "codemirror_mode": {
    "name": "ipython",
    "version": 3
   },
   "file_extension": ".py",
   "mimetype": "text/x-python",
   "name": "python",
   "nbconvert_exporter": "python",
   "pygments_lexer": "ipython3",
   "version": "3.8.5"
  }
 },
 "nbformat": 4,
 "nbformat_minor": 4
}
