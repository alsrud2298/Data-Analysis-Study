{
 "cells": [
  {
   "cell_type": "markdown",
   "metadata": {},
   "source": [
    "#### NLP / 텍스트 분석"
   ]
  },
  {
   "cell_type": "markdown",
   "metadata": {},
   "source": [
    "NLP(National Language Processing)   \n",
    "- 머신이 인간의 언어를 이해하고 해석하는데 중점을 두고 발전\n",
    "- 기계 번역, 질의응답 시스템\n",
    "- 텍스트 분석을 향상하게 하는 기반 기술이라고 볼 수도 있음\n",
    "\n",
    "TA(Text Analytics)   \n",
    "- 텍스트 마이닝이라고도 불림\n",
    "- 비정형 텍스트에서 의미 있는 정보를 추출하는 것에 좀 더 중점을 두고 발전\n",
    "- 머신러닝, 언어 이해, 통계 등을 활용해 모델을 수립하고 정보 추출해 비즈니스 인텔리전스나 예측 분석 등의 분석 작업을 주로 수행\n",
    "    - 텍스트 분류 : 문서가 특정 분류 또는 카테고리에 속하는 것을 예측하는 기법 통칭/ 지도학습을 적용\n",
    "        - ex ) 기사 카테고리 분류 / 스팸 메일 검출 \n",
    "    - 감성 분석 : 텍스트에서 나타나는 감정/판단/믿음/의견/기분 등 주관적 요소를 분석하는 기법 총칭 / 지도학습 , 비지도학습에도 적용 가능\n",
    "        - ex ) SNS 감정 분석 / 제품에 대한 긍정 또는 리뷰,조사 의견 분석\n",
    "        - TA에서 가장 활발하게 사용 \n",
    "    - 텍스트 요약 : 텍스트 내 중요한 주제나 중심 사상을 추출하는 기법\n",
    "        - ex) 토픽 모델링\n",
    "    - 텍스트 군집화와 유사도 측정 : 비슷한 유형의 문서에 대한 군집화 수행\n",
    "    - 텍스트 분류를 비지도학습으로 수행하는 방법의 일환으로 사용 가능\n",
    "    \n",
    "NLP와 TA를 구분하는 것이 큰 의미는 없음"
   ]
  },
  {
   "cell_type": "markdown",
   "metadata": {},
   "source": [
    "### 1. 텍스트 분석 이해"
   ]
  },
  {
   "cell_type": "markdown",
   "metadata": {},
   "source": [
    "비정형 데이터인 텍스트 분석   \n",
    "머신러닝 알고리즘은 숫자형의 피처 기반 데이터만 입력받을 수 있기 때문에 비정형 텍스트 데이터를 어떻게 피처 형태로 추출하고 추출된 피처에 의미 있는 값을 부여하는가 하는 것이 매우 중요한 요소임   \n",
    "텍스트를 word 기반의 다수 피처로 추출하고 단어 빈도수와 같은 숫자 값을 부여하면 단어 조합인 벡터값으로 표현 가능 => 피처 벡터화 / 피처 추출   \n",
    "ex) BOW / Word2Vec"
   ]
  },
  {
   "cell_type": "markdown",
   "metadata": {},
   "source": [
    "#### 텍스트 분석 수행 프로세스\n",
    "1. 텍스트 사전 준비작업(텍스트 전처리)\n",
    "    - 피처로 만들기 전에 미리 클렌징,대/소문자 변경, 특수문자 삭제 등 클렌징 작업, 단어 등의 토큰화 작업, 의미 없는 단어(Stop word_ 제거 작업, 어근 추출(Stemming/Lemmatization) 등의 텍스트 정규화 작업 수행\n",
    "2. 피처 벡터화/추출\n",
    "    - 사전 준비 작업으로 가공된 텍스트에서 피처 추출하고 여기에 벡터 값 할당\n",
    "    - BOW / Word2Vec , BOW는 대표적으로 Count 기반 , TF-IDF 기반 벡터화로 나뉨\n",
    "3. ML 모델 수립 및 학습/예측/평가\n",
    "    - 피처 벡터화된 데이터 세트에 ML모델 적용해 학습/예측 및 평가 수행"
   ]
  },
  {
   "cell_type": "markdown",
   "metadata": {},
   "source": [
    "#### 파이썬 기반의 NLP , 텍스트 분석 패키지\n",
    "파이썬 기반 NLP / 텍스트 분석 패키지\n",
    "1. NLTK(Natural Language Toolkit for Python) : 파이썬의 가장 대표적인 NLP 패키지 / 방대한 데이터 세트와 서브 모듈 가지고 있으며 NLP의 거의 모든 영역 커버 / 수행속도 측면에서 아쉬운 부분이 있어 대량 데이터 기반에서는 제대로 활용 X\n",
    "2. Gensim : 토픽 모델링 분야에서 두각을 나타냄 / SpaCy와 함께 가장 많이 사용됨\n",
    "3. SpaCy : 뛰어난 수행 성능으로 최근에 가장 주목 받음"
   ]
  },
  {
   "cell_type": "markdown",
   "metadata": {},
   "source": [
    "### 2. 텍스트 사전 준비 작업(텍스트 전처리) - 텍스트 정규화"
   ]
  },
  {
   "cell_type": "markdown",
   "metadata": {},
   "source": [
    "- 텍스트 자체를 바로 피처로 만들 수는 없음. 사전에 텍스트 가공하는 준비 작업 필요\n",
    "- 클렌징, 정제, 토큰화, 어근화 등 텍스트 사전작업 수행을 의미함\n",
    "- 클랜징 : 분석에 방해되는 불필요한 문자, 기호 등을 사전에 제거하는 작업 / HTML,XML 태그나 특정 기호 등 제거\n",
    "- 텍스트 토큰화 : 문장토큰화 / 단어토큰화\n",
    "    - 문장 토큰화 : 마침표 , 개행문자 등 문장의 마지막을 뜻하는 기호에 따라 분리하는 것이 일반적임 / 정규 표현식에 따른 토큰화도 가능   \n",
    "    각 문장이 가지는 시맨틱적 의미가 중요한 요소로 사용되는 경우 사용\n",
    "    - 단어 토큰화 : 공백, 콤마, 마침표, 개행문자등으로 단어 분리 / 정규 표현식을 이용해 다양한 유형으로 토큰화 수행 가능   \n",
    "    단어 순서가 중요하지 않은 경우 주로 단어 토큰화만 사용해도 충분함"
   ]
  },
  {
   "cell_type": "code",
   "execution_count": 2,
   "metadata": {},
   "outputs": [
    {
     "name": "stdout",
     "output_type": "stream",
     "text": [
      "<class 'list'> 3\n",
      "['The Matrix is everywhere its all around us, here even in this room.', 'You can see it out your window or on your television.', 'You feel it when you go to work, or go to church or pay your taxes.']\n"
     ]
    }
   ],
   "source": [
    "# NLTK sent_tokenize로 문장 토큰화 수행\n",
    "from nltk import sent_tokenize\n",
    "import nltk\n",
    "\n",
    "text_sample = 'The Matrix is everywhere its all around us, here even in this room. \\\n",
    "                You can see it out your window or on your television. \\\n",
    "                You feel it when you go to work, or go to church or pay your taxes.'\n",
    "sentences = sent_tokenize(text=text_sample)\n",
    "print(type(sentences), len(sentences))\n",
    "print(sentences)"
   ]
  },
  {
   "cell_type": "code",
   "execution_count": 3,
   "metadata": {},
   "outputs": [
    {
     "name": "stdout",
     "output_type": "stream",
     "text": [
      "<class 'list'> 15\n",
      "['The', 'Matrix', 'is', 'everywhere', 'its', 'all', 'around', 'us', ',', 'here', 'even', 'in', 'this', 'room', '.']\n"
     ]
    }
   ],
   "source": [
    "# NLTK word_tokenize로 단어 토큰화 수행\n",
    "from nltk import word_tokenize\n",
    "\n",
    "sentence = 'The Matrix is everywhere its all around us, here even in this room.'\n",
    "words = word_tokenize(sentence)\n",
    "print(type(words),len(words))\n",
    "print(words)"
   ]
  },
  {
   "cell_type": "code",
   "execution_count": 4,
   "metadata": {
    "scrolled": true
   },
   "outputs": [
    {
     "name": "stdout",
     "output_type": "stream",
     "text": [
      "<class 'list'> 3\n",
      "[['The', 'Matrix', 'is', 'everywhere', 'its', 'all', 'around', 'us', ',', 'here', 'even', 'in', 'this', 'room', '.'], ['You', 'can', 'see', 'it', 'out', 'your', 'window', 'or', 'on', 'your', 'television', '.'], ['You', 'feel', 'it', 'when', 'you', 'go', 'to', 'work', ',', 'or', 'go', 'to', 'church', 'or', 'pay', 'your', 'taxes', '.']]\n"
     ]
    }
   ],
   "source": [
    "# sent_tokenize와 word_tokenize로 모든 단어 토큰화\n",
    "def tokenize_text(text):\n",
    "    sentences = sent_tokenize(text)\n",
    "    word_tokens = [word_tokenize(sentence) for sentence in sentences]\n",
    "    return word_tokens\n",
    "\n",
    "word_tokens = tokenize_text(text_sample)\n",
    "print(type(word_tokens), len(word_tokens))\n",
    "print(word_tokens)\n",
    "# 문장을 단어별로 하나씩 토큰화 할 경우 문맥적 의미 무시될 수 밖에 없음\n",
    "# n-gram : 연속된 n개의 단어를 하나의 토큰화 단위로 분리"
   ]
  },
  {
   "cell_type": "markdown",
   "metadata": {},
   "source": [
    "#### 스톱 워드 제거\n",
    "- Stop word ; 분석에 큰 의미가 없는 단어 지칭\n",
    "- 문법적 특성에 의해 빈번하게 나타나므로 중요한 단어로 인지될 수 있음"
   ]
  },
  {
   "cell_type": "code",
   "execution_count": 5,
   "metadata": {},
   "outputs": [
    {
     "name": "stderr",
     "output_type": "stream",
     "text": [
      "[nltk_data] Downloading package stopwords to\n",
      "[nltk_data]     C:\\Users\\samsung\\AppData\\Roaming\\nltk_data...\n",
      "[nltk_data]   Unzipping corpora\\stopwords.zip.\n"
     ]
    },
    {
     "data": {
      "text/plain": [
       "True"
      ]
     },
     "execution_count": 5,
     "metadata": {},
     "output_type": "execute_result"
    }
   ],
   "source": [
    "nltk.download('stopwords')"
   ]
  },
  {
   "cell_type": "code",
   "execution_count": 6,
   "metadata": {},
   "outputs": [
    {
     "name": "stdout",
     "output_type": "stream",
     "text": [
      "영어 stop words 개수: 179\n",
      "['i', 'me', 'my', 'myself', 'we', 'our', 'ours', 'ourselves', 'you', \"you're\", \"you've\", \"you'll\", \"you'd\", 'your', 'yours', 'yourself', 'yourselves', 'he', 'him', 'his']\n"
     ]
    }
   ],
   "source": [
    "print('영어 stop words 개수:', len(nltk.corpus.stopwords.words('english')))\n",
    "print(nltk.corpus.stopwords.words('english')[:20])"
   ]
  },
  {
   "cell_type": "code",
   "execution_count": 7,
   "metadata": {},
   "outputs": [
    {
     "name": "stdout",
     "output_type": "stream",
     "text": [
      "[['matrix', 'everywhere', 'around', 'us', ',', 'even', 'room', '.'], ['see', 'window', 'television', '.'], ['feel', 'go', 'work', ',', 'go', 'church', 'pay', 'taxes', '.']]\n"
     ]
    }
   ],
   "source": [
    "# stopwords 필터링으로 제거해 분석에 의미 있는 단어만 추출\n",
    "stopwords = nltk.corpus.stopwords.words('english')\n",
    "all_tokens = []\n",
    "\n",
    "for sentence in word_tokens:\n",
    "    filtered_words = []\n",
    "    for word in sentence :\n",
    "        word = word.lower()\n",
    "        \n",
    "        if word not in stopwords:\n",
    "            filtered_words.append(word)\n",
    "    all_tokens.append(filtered_words)\n",
    "\n",
    "print(all_tokens)"
   ]
  },
  {
   "cell_type": "markdown",
   "metadata": {},
   "source": [
    "#### Stemming 과 Lemmatization\n",
    "- 문법적 또는 의미적으로 변화하는 단어의 원형 찾아줌\n",
    "- Lemmatization이 Stemming보다 정교하며 의미론적인 기반에서 단어의 원형 찾음 \n",
    "- Stemming은 좀 더 일반적이고 단순화된 방법을 적용해 원래 단어에서 일부 철자가 훼손된 어근 단어 추출하는 경향이 있음\n",
    "- Lemmatization이 변환에 더 오랜 시간 필요함"
   ]
  },
  {
   "cell_type": "code",
   "execution_count": 8,
   "metadata": {
    "scrolled": true
   },
   "outputs": [
    {
     "name": "stdout",
     "output_type": "stream",
     "text": [
      "work work work\n",
      "amus amus amus\n",
      "happy happiest\n",
      "fant fanciest\n"
     ]
    }
   ],
   "source": [
    "# NLTK의 LancasterStemmer를 이용해 Stemmer 살펴보기\n",
    "# 진행형, 3인칭 단수, 과거형에 따른 동사, 비교, 최상에 따른 형용사 변화에 따라 원형 단어 찾아줌\n",
    "from nltk.stem import LancasterStemmer\n",
    "\n",
    "stemmer = LancasterStemmer()\n",
    "\n",
    "print(stemmer.stem('working'), stemmer.stem('works'), stemmer.stem('worked'))\n",
    "print(stemmer.stem('amusing'), stemmer.stem('amuses'), stemmer.stem('amused'))\n",
    "print(stemmer.stem('happier'), stemmer.stem('happiest'))\n",
    "print(stemmer.stem('fancier'), stemmer.stem('fanciest'))\n",
    "# 정확한 원형을 찾지 못하거나 , 비교형, 최상급형으로 변형된 단어의 원형 찾지 못하는 경우가 발생함"
   ]
  },
  {
   "cell_type": "code",
   "execution_count": 9,
   "metadata": {},
   "outputs": [
    {
     "name": "stderr",
     "output_type": "stream",
     "text": [
      "[nltk_data] Downloading package wordnet to\n",
      "[nltk_data]     C:\\Users\\samsung\\AppData\\Roaming\\nltk_data...\n",
      "[nltk_data]   Package wordnet is already up-to-date!\n"
     ]
    },
    {
     "name": "stdout",
     "output_type": "stream",
     "text": [
      "amuse amuse amuse\n",
      "happy happy\n",
      "fancy fancy\n"
     ]
    }
   ],
   "source": [
    "# WordNetLemmatizer로 Lemmatization 수행\n",
    "# 단어의 품사 입력 필요\n",
    "from nltk.stem import WordNetLemmatizer\n",
    "nltk.download('wordnet')\n",
    "\n",
    "lemma = WordNetLemmatizer()\n",
    "print(lemma.lemmatize('amusing','v'), lemma.lemmatize('amuses','v'), lemma.lemmatize('amused','v'))\n",
    "print(lemma.lemmatize('happier','a'), lemma.lemmatize('happiest','a'))\n",
    "print(lemma.lemmatize('fancier','a'), lemma.lemmatize('fanciest','a'))\n",
    "# Stemmer보다 정확하게 원형 단어 추출해줌"
   ]
  },
  {
   "cell_type": "markdown",
   "metadata": {},
   "source": [
    "### 3. Bag of Words - BOW"
   ]
  },
  {
   "cell_type": "markdown",
   "metadata": {},
   "source": [
    "모든 문서가 가지는 모든 단어를 문맥이나 순서를 무시하고 일괄적으로 단어에 대한 빈도값을 부여해 피처 값 추출하는 모델   \n",
    "1. 모든 단어의 중복 제거하고 각 단어를 칼럼 형태로 나열해 고유 인덱스 부여\n",
    "2. 개별 문장에서 단어가 나타나는 횟수를 단어 인덱스에 기재\n",
    "\n",
    "장점\n",
    "- 쉽고 빠른 구축\n",
    "- 예상보다 문서의 특징을 잘 나타낼 수 있는 모델로 여러 분야에서 활용도가 높음\n",
    "\n",
    "단점\n",
    "- 문맥 의미(Semantic Context) 반영 부족\n",
    "- 희소 행렬 문제 -> ML 알고리즘의 수행 시간과 예측 성능 떨어뜨림"
   ]
  },
  {
   "attachments": {
    "image.png": {
     "image/png": "[encoded data removed]"
    }
   },
   "cell_type": "markdown",
   "metadata": {},
   "source": [
    "#### BOW 피처 벡터화\n",
    "- 모든 문서에서 모든 단어를 칼럼 형태로 나열하고 각 문서에서 해당 단어의 횟수나 정규화된 빈도를 값으로 부여하는 데이터 세트 모델로 변경\n",
    "- M개의 문서에 총 N개의 단어가 있다면 M*N개의 단어 피처로 이뤄진 행렬 구성\n",
    "\n",
    "1. 카운트 기반 벡터화\n",
    "    - 단어 피처에 값 부여 시 단어가 나타나는 횟수 부여하는 경우\n",
    "    - 그 문서의 특징보다는 언어의 특성상 문장에서 자주 사용될 수 밖에 없는 단어까지 높은 값 부여\n",
    "2. TF-IDF(Term Frequency - Inverse Document Frequency) 기반 벡터화\n",
    "    - 카운트 기반 벡터화의 문제 보완\n",
    "    - 개별 문서에 자주 나타나는 단어에 높은 가중치 주되, 모든 문서에 전반적으로 자주 나타나는 단어에 대해서는 페널티 주는 방식으로 값 부여\n",
    "    - 문서마다 텍스트가 길고 문서 개수가 많은 경우 더 좋은 예측 성능 보장\n",
    "    ![image.png](attachment:image.png)"
   ]
  },
  {
   "cell_type": "markdown",
   "metadata": {},
   "source": [
    "#### 사이킷런의 Count 및 TF-IDF 벡터화 구현 : CountVectorizer, TfidVectorizer\n",
    "- CountVectorizer / TfidVectorizer 벡터화 방법\n",
    "    1. 영어의 경우 모든 문자 소문자로 변경\n",
    "    2. 디폴트로 단어 기준으로 n_gram_range 반영해 각 단어 토큰화\n",
    "    3. 텍스트 정규화 수행 / stop_words 파라미터가 주어진 경우 스톱 워드 필터링\n",
    "    4. 토큰화된 단어 피처로 추출하고 단어 빈도수 벡터값 적용"
   ]
  },
  {
   "cell_type": "markdown",
   "metadata": {},
   "source": [
    "#### BOW 벡터화를 위한 희소 행렬\n",
    "- 희소행렬 : 대규모 행렬의 대부분의 값을 0이 차지하는 행렬\n",
    "- BOW 형태를 가진 언어 모델의 피처 벡터화는 대부분 희소 행렬임\n",
    "- 너무 많은 불필요한 0 값이 메모리 공간에 할당되어 메모리 공간이 많이 필요하고, 행렬 크기가 커서 연산 시에도 데이터 액세스를 위한 시간 많이 소모\n",
    "- COO 형식 / CSR 형식으로 물리적으로 적은 메모리 공간 차지하도록 변환 가능\n",
    "- 일반적으로 큰 희소 행렬 저장하고 계산 수행 능력이 뛰어난 CSR 형식 많이 사용"
   ]
  },
  {
   "cell_type": "markdown",
   "metadata": {},
   "source": [
    "#### 희소 행렬 - COO 형식\n",
    "- COO(Coordinate:좌표) 형식\n",
    "    - 0이 아닌 데이터만 별도의 데이터 배열에 저장하고, 그 데이터가 가리키는 행과 열의 위치를 별도의 배열로 저장하는 방식"
   ]
  },
  {
   "cell_type": "code",
   "execution_count": 12,
   "metadata": {},
   "outputs": [
    {
     "data": {
      "text/plain": [
       "array([[3, 0, 1],\n",
       "       [0, 2, 0]])"
      ]
     },
     "execution_count": 12,
     "metadata": {},
     "output_type": "execute_result"
    }
   ],
   "source": [
    "import numpy as np\n",
    "dense = np.array([[3,0,1], [0,2,0]])\n",
    "\n",
    "from scipy import sparse\n",
    "# 0이 아닌 데이터 추출\n",
    "data = np.array([3,1,2])\n",
    "\n",
    "# 행과 열 위치 각각 배열로 생성\n",
    "row_pos = np.array([0,0,1])\n",
    "col_pos = np.array([0,2,1])\n",
    "\n",
    "sparse_coo = sparse.coo_matrix((data, (row_pos, col_pos))) # 희소 행렬 객체 변수\n",
    "sparse_coo.toarray() # 다시 밀집 행렬 형태로 출력"
   ]
  },
  {
   "cell_type": "markdown",
   "metadata": {},
   "source": [
    "#### 희소 행렬 - CSR 형식\n",
    "- CSR(Compressed Sparse Row) 형식 \n",
    "    - COO 형식의 경우 행과 열 위치를 나타내기 위해 반복적인 위치 데이터 사용해야함\n",
    "    - 행 위치 배열 내에 있는 고유한 값의 시작 위치만 다시 별도의 위치 배열로 가지는 변환 방식"
   ]
  },
  {
   "cell_type": "code",
   "execution_count": 13,
   "metadata": {
    "scrolled": true
   },
   "outputs": [
    {
     "name": "stdout",
     "output_type": "stream",
     "text": [
      "COO 변환 다시 Dense로 출력 확인\n",
      "[[0 0 1 0 0 5]\n",
      " [1 4 0 3 2 5]\n",
      " [0 6 0 3 0 0]\n",
      " [2 0 0 0 0 0]\n",
      " [0 0 0 7 0 8]\n",
      " [1 0 0 0 0 0]]\n",
      "CSR 변환 다시 Dense로 출력 확인\n",
      "[[0 0 1 0 0 5]\n",
      " [1 4 0 3 2 5]\n",
      " [0 6 0 3 0 0]\n",
      " [2 0 0 0 0 0]\n",
      " [0 0 0 7 0 8]\n",
      " [1 0 0 0 0 0]]\n"
     ]
    }
   ],
   "source": [
    "from scipy import sparse\n",
    "\n",
    "dense2 = np.array([[0,0,1,0,0,5],\n",
    "                  [1,4,0,3,2,5],\n",
    "                  [0,6,0,3,0,0],\n",
    "                  [2,0,0,0,0,0],\n",
    "                  [0,0,0,7,0,8],\n",
    "                  [1,0,0,0,0,0]])\n",
    "data2 = np.array([1,5,1,4,3,2,5,6,3,2,7,8,1])\n",
    "\n",
    "row_pos = np.array([0,0,1,1,1,1,1,2,2,3,4,4,5])\n",
    "col_pos = np.array([2,5,0,1,3,4,5,1,3,0,3,5,0])\n",
    "\n",
    "sparse_coo = sparse.coo_matrix((data2, (row_pos, col_pos)))\n",
    "\n",
    "row_pos_ind = np.array([0,2,7,9,10,12,13])\n",
    "\n",
    "sparse_csr = sparse.csr_matrix((data2, col_pos, row_pos_ind))\n",
    "\n",
    "print('COO 변환 다시 Dense로 출력 확인')\n",
    "print(sparse_coo.toarray())\n",
    "print('CSR 변환 다시 Dense로 출력 확인')\n",
    "print(sparse_csr.toarray())"
   ]
  },
  {
   "cell_type": "code",
   "execution_count": 14,
   "metadata": {},
   "outputs": [],
   "source": [
    "# 실제 사용 시 밀집 행렬을 파라미터로 입력하면 COO나 CSR 희소 행렬로 생성해줌\n",
    "dense3 = np.array([[0,0,1,0,0,5],\n",
    "                  [1,4,0,3,2,5],\n",
    "                  [0,6,0,3,0,0],\n",
    "                  [2,0,0,0,0,0],\n",
    "                  [0,0,0,7,0,8],\n",
    "                  [1,0,0,0,0,0]])\n",
    "coo = sparse.coo_matrix(dense3)\n",
    "csr = sparse.csr_matrix(dense3)"
   ]
  },
  {
   "cell_type": "markdown",
   "metadata": {},
   "source": [
    "### 4. 텍스트 분류 실습 - 20 뉴스 그룹 분류\n",
    "- 사이킷런 fetch_20newsgroups() API를 이용해 뉴스그룹의 분류 수행 예제 데이터 제공\n",
    "- 텍스트 분류 : 특정 문서의 분류를 학습 데이터를 통해 학습해 모델을 생성한 뒤 이 학습 모델을 이용해 다른 문서의 분류 예측\n",
    "- 텍스트 피처 벡터화 -> 희소 행렬 형태가 됨\n",
    "    - 희소 행렬 분류에 효과적인 알고리즘\n",
    "    - 로지스틱 회귀\n",
    "    - 선형 서포트 벡터 머신\n",
    "    - 나이브 베이즈 등\n",
    "  \n",
    " - 텍스트 기반 분류 수행 시\n",
    "     1. 텍스트 정규화\n",
    "     2. 피처 벡터화 적용\n",
    "     3. 알고리즘을 적용해 분류를 학습/예측/평가\n",
    "  "
   ]
  },
  {
   "cell_type": "markdown",
   "metadata": {},
   "source": [
    "#### 텍스트 정규화"
   ]
  },
  {
   "cell_type": "code",
   "execution_count": 1,
   "metadata": {},
   "outputs": [
    {
     "name": "stdout",
     "output_type": "stream",
     "text": [
      "dict_keys(['data', 'filenames', 'target_names', 'target', 'DESCR'])\n"
     ]
    }
   ],
   "source": [
    "from sklearn.datasets import fetch_20newsgroups\n",
    "\n",
    "news_data = fetch_20newsgroups(subset='all', random_state=156)\n",
    "print(news_data.keys())"
   ]
  },
  {
   "cell_type": "code",
   "execution_count": 3,
   "metadata": {},
   "outputs": [
    {
     "name": "stdout",
     "output_type": "stream",
     "text": [
      "0     799\n",
      "1     973\n",
      "2     985\n",
      "3     982\n",
      "4     963\n",
      "5     988\n",
      "6     975\n",
      "7     990\n",
      "8     996\n",
      "9     994\n",
      "10    999\n",
      "11    991\n",
      "12    984\n",
      "13    990\n",
      "14    987\n",
      "15    997\n",
      "16    910\n",
      "17    940\n",
      "18    775\n",
      "19    628\n",
      "dtype: int64\n",
      "['alt.atheism', 'comp.graphics', 'comp.os.ms-windows.misc', 'comp.sys.ibm.pc.hardware', 'comp.sys.mac.hardware', 'comp.windows.x', 'misc.forsale', 'rec.autos', 'rec.motorcycles', 'rec.sport.baseball', 'rec.sport.hockey', 'sci.crypt', 'sci.electronics', 'sci.med', 'sci.space', 'soc.religion.christian', 'talk.politics.guns', 'talk.politics.mideast', 'talk.politics.misc', 'talk.religion.misc']\n"
     ]
    }
   ],
   "source": [
    "# Target 클래스 확인\n",
    "import pandas as pd\n",
    "print(pd.Series(news_data.target).value_counts().sort_index())\n",
    "print(news_data.target_names)"
   ]
  },
  {
   "cell_type": "code",
   "execution_count": 4,
   "metadata": {},
   "outputs": [
    {
     "name": "stdout",
     "output_type": "stream",
     "text": [
      "From: egreen@east.sun.com (Ed Green - Pixel Cruncher)\n",
      "Subject: Re: Observation re: helmets\n",
      "Organization: Sun Microsystems, RTP, NC\n",
      "Lines: 21\n",
      "Distribution: world\n",
      "Reply-To: egreen@east.sun.com\n",
      "NNTP-Posting-Host: laser.east.sun.com\n",
      "\n",
      "In article 211353@mavenry.altcit.eskimo.com, maven@mavenry.altcit.eskimo.com (Norman Hamer) writes:\n",
      "> \n",
      "> The question for the day is re: passenger helmets, if you don't know for \n",
      ">certain who's gonna ride with you (like say you meet them at a .... church \n",
      ">meeting, yeah, that's the ticket)... What are some guidelines? Should I just \n",
      ">pick up another shoei in my size to have a backup helmet (XL), or should I \n",
      ">maybe get an inexpensive one of a smaller size to accomodate my likely \n",
      ">passenger? \n",
      "\n",
      "If your primary concern is protecting the passenger in the event of a\n",
      "crash, have him or her fitted for a helmet that is their size.  If your\n",
      "primary concern is complying with stupid helmet laws, carry a real big\n",
      "spare (you can put a big or small head in a big helmet, but not in a\n",
      "small one).\n",
      "\n",
      "---\n",
      "Ed Green, former Ninjaite |I was drinking last night with a biker,\n",
      "  Ed.Green@East.Sun.COM   |and I showed him a picture of you.  I said,\n",
      "DoD #0111  (919)460-8302  |\"Go on, get to know her, you'll like her!\"\n",
      " (The Grateful Dead) -->  |It seemed like the least I could do...\n",
      "\n",
      "\n"
     ]
    }
   ],
   "source": [
    "print(news_data.data[0])\n",
    "# 뉴스그룹 기사 내용뿐만 아니라 제목, 작성자, 소속, 이메일 등 다양한 정보 존재"
   ]
  },
  {
   "cell_type": "markdown",
   "metadata": {},
   "source": [
    "- 내용을 제외하고 제목 등 다른 정보는 제거\n",
    "- 제목,소속,이메일 주소등 헤더와 푸터 정보들은 Target 클래스값과 유사한 데이터 가지는 경우가 많음\n",
    "- remove 파라미터로 제거 가능"
   ]
  },
  {
   "cell_type": "code",
   "execution_count": 6,
   "metadata": {},
   "outputs": [
    {
     "name": "stdout",
     "output_type": "stream",
     "text": [
      "학습 데이터 크기 11314 테스트 데이터 크기 7532\n"
     ]
    }
   ],
   "source": [
    "from sklearn.datasets import fetch_20newsgroups\n",
    "\n",
    "# subset='train'으로 학습 데이터만 추출 , 헤더와 푸터, quotes 제거 \n",
    "train_news = fetch_20newsgroups(subset='train',remove=('headers','footers','quotes'),\n",
    "                   random_state=156)\n",
    "X_train = train_news.data\n",
    "y_train = train_news.target\n",
    "\n",
    "# subset='test'으로 테스트 데이터만 추출 , 헤더와 푸터, quotes 제거 \n",
    "test_news = fetch_20newsgroups(subset='test',remove=('headers','footers','quotes'),\n",
    "                   random_state=156)\n",
    "X_test = test_news.data\n",
    "y_test = test_news.target\n",
    "print('학습 데이터 크기',len(train_news.data),'테스트 데이터 크기',len(test_news.data))"
   ]
  },
  {
   "cell_type": "markdown",
   "metadata": {},
   "source": [
    "#### 피처 벡터화 변환과 머신러닝 모델 학습/예측/평가\n",
    "- CountVectorizer를 이용해 학습데이터 텍스트 피처화\n",
    "- 테스트 데이터 피처 벡터화 시 학습 데이터로 fit() 수행된 CountVectorizer 객체로 테스트 데이터 변환해야함\n",
    "    - fit_transform 사용 XX"
   ]
  },
  {
   "cell_type": "code",
   "execution_count": 7,
   "metadata": {},
   "outputs": [
    {
     "name": "stdout",
     "output_type": "stream",
     "text": [
      "학습 데이터 텍스트의 CountVectorizer Shape: (11314, 101631)\n"
     ]
    }
   ],
   "source": [
    "from sklearn.feature_extraction.text import CountVectorizer\n",
    "\n",
    "cnt_vect = CountVectorizer()\n",
    "cnt_vect.fit(X_train)\n",
    "X_train_cnt_vect = cnt_vect.transform(X_train)\n",
    "\n",
    "X_test_cnt_vect = cnt_vect.transform(X_test)\n",
    "\n",
    "print('학습 데이터 텍스트의 CountVectorizer Shape:',X_train_cnt_vect.shape)"
   ]
  },
  {
   "cell_type": "code",
   "execution_count": 8,
   "metadata": {},
   "outputs": [
    {
     "name": "stdout",
     "output_type": "stream",
     "text": [
      "예측 정확도: 0.617\n"
     ]
    }
   ],
   "source": [
    "# 피처 벡터화된 데이터에 로지스틱 회귀 적용해 뉴스그룹에 대한 분류 예측\n",
    "from sklearn.linear_model import LogisticRegression\n",
    "from sklearn.metrics import accuracy_score\n",
    "import warnings\n",
    "warnings.filterwarnings('ignore')\n",
    "\n",
    "lr_clf = LogisticRegression(solver='liblinear')\n",
    "lr_clf.fit(X_train_cnt_vect,y_train)\n",
    "pred = lr_clf.predict(X_test_cnt_vect)\n",
    "print('예측 정확도: {0:.3f}'.format(accuracy_score(y_test,pred)))"
   ]
  },
  {
   "cell_type": "code",
   "execution_count": 15,
   "metadata": {},
   "outputs": [
    {
     "name": "stdout",
     "output_type": "stream",
     "text": [
      "예측 정확도 :0.678\n"
     ]
    }
   ],
   "source": [
    "# TF-IDF 기반 벡터화로 변경해 예측 모델 수행\n",
    "from sklearn.feature_extraction.text import TfidfVectorizer\n",
    "\n",
    "tfidf_vect = TfidfVectorizer()\n",
    "tfidf_vect.fit(X_train)\n",
    "X_train_tfidf_vect = tfidf_vect.transform(X_train)\n",
    "X_test_tfidf_vect = tfidf_vect.transform(X_test)\n",
    "\n",
    "lr_clf = LogisticRegression(solver='liblinear')\n",
    "lr_clf.fit(X_train_tfidf_vect, y_train)\n",
    "pred = lr_clf.predict(X_test_tfidf_vect)\n",
    "print('예측 정확도 :{0:.3f}'.format(accuracy_score(y_test,pred)))\n",
    "# 일반적으로 문서 내 텍스트가 많고 많은 문서 가진 텍스트 문서는 TF-IDF벡터화가 더 좋은 예측 결과 도출함"
   ]
  },
  {
   "cell_type": "code",
   "execution_count": 16,
   "metadata": {},
   "outputs": [
    {
     "name": "stdout",
     "output_type": "stream",
     "text": [
      "예측 정확도 :0.690\n"
     ]
    }
   ],
   "source": [
    "# stop words 필터링 추가 , ngram을 (1,2)로 변경해 피처 벡터화 적용\n",
    "tfidf_vect = TfidfVectorizer(stop_words = 'english', ngram_range=(1,2), max_df=300)\n",
    "tfidf_vect.fit(X_train)\n",
    "X_train_tfidf_vect = tfidf_vect.transform(X_train)\n",
    "X_test_tfidf_vect = tfidf_vect.transform(X_test)\n",
    "\n",
    "lr_clf = LogisticRegression(solver='liblinear')\n",
    "lr_clf.fit(X_train_tfidf_vect, y_train)\n",
    "pred = lr_clf.predict(X_test_tfidf_vect)\n",
    "print('예측 정확도 :{0:.3f}'.format(accuracy_score(y_test,pred)))"
   ]
  },
  {
   "cell_type": "code",
   "execution_count": 17,
   "metadata": {},
   "outputs": [
    {
     "name": "stdout",
     "output_type": "stream",
     "text": [
      "Fitting 3 folds for each of 5 candidates, totalling 15 fits\n"
     ]
    },
    {
     "name": "stderr",
     "output_type": "stream",
     "text": [
      "[Parallel(n_jobs=1)]: Using backend SequentialBackend with 1 concurrent workers.\n",
      "[Parallel(n_jobs=1)]: Done  15 out of  15 | elapsed:  6.4min finished\n"
     ]
    },
    {
     "name": "stdout",
     "output_type": "stream",
     "text": [
      "best C parameter :  {'C': 10}\n",
      "예측 정확도 :0.704\n"
     ]
    }
   ],
   "source": [
    "# 하이퍼 파라미터 최적화\n",
    "from sklearn.model_selection import GridSearchCV\n",
    "\n",
    "params = {'C':[0.01,0.1,1,5,10]}\n",
    "grid_cv_lr = GridSearchCV(lr_clf, param_grid=params, cv=3, scoring='accuracy', verbose=1)\n",
    "grid_cv_lr.fit(X_train_tfidf_vect,y_train)\n",
    "print('best C parameter : ', grid_cv_lr.best_params_)\n",
    "\n",
    "pred = grid_cv_lr.predict(X_test_tfidf_vect)\n",
    "print('예측 정확도 :{0:.3f}'.format(accuracy_score(y_test,pred)))"
   ]
  },
  {
   "cell_type": "markdown",
   "metadata": {},
   "source": [
    "### 사이킷런 파이프라인 사용 및 GridSearchCV와 의 결합\n",
    "- 사이킷런의 Pipeline 클래스 이용 시 피처 벡터화, ML 알고리즘 학습/예측을 위한 코드 작성 한번에 진행 가능\n",
    "- Pipeline : 데이터 가공, 변환 등의 전처리와 알고리즘 적용을 한꺼번에 스트림 기반으로 처리한다는 의미\n",
    "- 전처리와 머신러닝 학습 과정을 통일된 API 기반에서 처리할 수 있어 더 직관적인 ML 모델 코드 생성 가능\n",
    "- 대용량 데이터의 피처 벡터화 결과를 바로 머신러닝 알고리즘 데이터로 입력할 수 있어 수행 시간 절약 가능"
   ]
  },
  {
   "cell_type": "code",
   "execution_count": 18,
   "metadata": {},
   "outputs": [],
   "source": [
    "from sklearn.pipeline import Pipeline\n",
    "# TfidVectorizer의 fit(),predict()을 통한 피처벡터화와 LogisticRegressor의 fit()과 predict()가 \n",
    "# Pipeline의 fit()과 predict()로 통일돼 수행됨\n",
    "pipeline = Pipeline([('tfidf_vect',TfidfVectorizer(stop_words='english', ngram_range=(1,2), max_df=300)),\n",
    "                    ('lr_clf',LogisticRegression(solver='liblinear', C = 10))])"
   ]
  },
  {
   "cell_type": "code",
   "execution_count": 19,
   "metadata": {},
   "outputs": [
    {
     "name": "stdout",
     "output_type": "stream",
     "text": [
      "예측 정확도 :0.704\n"
     ]
    }
   ],
   "source": [
    "pipeline.fit(X_train,y_train)\n",
    "pred = pipeline.predict(X_test)\n",
    "print('예측 정확도 :{0:.3f}'.format(accuracy_score(y_test,pred)))"
   ]
  },
  {
   "cell_type": "code",
   "execution_count": null,
   "metadata": {},
   "outputs": [],
   "source": [
    "# GridSearchCV의 생성 파라미터로 Pipeline 입력해 Pipeline 기반에서도 GridSearchCV 방식으로 하이퍼 파라미터 튜닝 지원 가능\n",
    "# 시간 오래 걸림\n",
    "pipeline = Pipeline([('tfidf_vect',TfidfVectorizer(stop_words='english')),\n",
    "                    ('lr_clf',LogisticRegression())])\n",
    "params = {'tfidf_vect__ngram_range':[(1,1),(1,2),(1,3)],\n",
    "         'tfidf_vect_max_df':[100,300,700],\n",
    "         'lr_clf_C':[1,5,10]}\n",
    "\n",
    "# GridSearchCV의 생성자에 Pipeline 객체 입력\n",
    "grid_cv_pipe = GridSearchCV(pipeline, param_grid=params, cv=3, scoring='accuracy',verbose=1)\n",
    "grid_cv_pipe.fit(X_train, y_train)\n",
    "print(grid_cv_pipe.best_params_, grid_cv_pipe.best_score_)\n",
    "\n",
    "pred = grid_cv_pipe.predict(X_test)\n",
    "print('예측 정확도 :{0:.3f}'.format(accuracy_score(y_test,pred)))"
   ]
  },
  {
   "cell_type": "markdown",
   "metadata": {},
   "source": [
    "### 5. 감성 분석"
   ]
  },
  {
   "cell_type": "markdown",
   "metadata": {},
   "source": [
    "- 문서의 주관적인 감성/의견/감정/기분 등을 파악하기 위한 방법\n",
    "- 소셜 미디어, 여론조사, 온라인 리뷰, 피드백 등 다양한 분야에서 활용되고 있습니다.\n",
    "- 문서 내 텍스트가 나타내는 여러가지 주관적 단어와 문맥을 기반으로 감성수치를 계산하는 방법 이용\n",
    "- 감성 지수 = 긍정 감성지수와 부정 감성 지수로 구성 / 이들 지수를 합산해 긍정 감성 또는 부정 감성 결정\n",
    "    - 지도 학습 : 학습 데이터와 타깃 값 기반으로 감성 분석 학습 수행 후 이를 기반으로 다른 데이터의 감성 분석 예측\n",
    "    - 비지도 학습 : 'Lexicon'이라는 감성 어휘 사전 이용해 문서의 긍정적,부정적 감성 여부 판단"
   ]
  },
  {
   "cell_type": "markdown",
   "metadata": {},
   "source": [
    "#### 지도학습 기반 감성 분석 실습 - IMDB 영화평"
   ]
  },
  {
   "cell_type": "code",
   "execution_count": 21,
   "metadata": {
    "scrolled": true
   },
   "outputs": [
    {
     "data": {
      "text/html": [
       "<div>\n",
       "<style scoped>\n",
       "    .dataframe tbody tr th:only-of-type {\n",
       "        vertical-align: middle;\n",
       "    }\n",
       "\n",
       "    .dataframe tbody tr th {\n",
       "        vertical-align: top;\n",
       "    }\n",
       "\n",
       "    .dataframe thead th {\n",
       "        text-align: right;\n",
       "    }\n",
       "</style>\n",
       "<table border=\"1\" class=\"dataframe\">\n",
       "  <thead>\n",
       "    <tr style=\"text-align: right;\">\n",
       "      <th></th>\n",
       "      <th>id</th>\n",
       "      <th>sentiment</th>\n",
       "      <th>review</th>\n",
       "    </tr>\n",
       "  </thead>\n",
       "  <tbody>\n",
       "    <tr>\n",
       "      <th>0</th>\n",
       "      <td>\"5814_8\"</td>\n",
       "      <td>1</td>\n",
       "      <td>\"With all this stuff going down at the moment ...</td>\n",
       "    </tr>\n",
       "    <tr>\n",
       "      <th>1</th>\n",
       "      <td>\"2381_9\"</td>\n",
       "      <td>1</td>\n",
       "      <td>\"\\\"The Classic War of the Worlds\\\" by Timothy ...</td>\n",
       "    </tr>\n",
       "    <tr>\n",
       "      <th>2</th>\n",
       "      <td>\"7759_3\"</td>\n",
       "      <td>0</td>\n",
       "      <td>\"The film starts with a manager (Nicholas Bell...</td>\n",
       "    </tr>\n",
       "  </tbody>\n",
       "</table>\n",
       "</div>"
      ],
      "text/plain": [
       "         id  sentiment                                             review\n",
       "0  \"5814_8\"          1  \"With all this stuff going down at the moment ...\n",
       "1  \"2381_9\"          1  \"\\\"The Classic War of the Worlds\\\" by Timothy ...\n",
       "2  \"7759_3\"          0  \"The film starts with a manager (Nicholas Bell..."
      ]
     },
     "execution_count": 21,
     "metadata": {},
     "output_type": "execute_result"
    }
   ],
   "source": [
    "import pandas as pd\n",
    "\n",
    "review_df = pd.read_csv('./data/labeledTrainData.tsv', header=0, sep='\\t', quoting=3)\n",
    "review_df.head(3)"
   ]
  },
  {
   "cell_type": "code",
   "execution_count": 22,
   "metadata": {
    "scrolled": true
   },
   "outputs": [
    {
     "name": "stdout",
     "output_type": "stream",
     "text": [
      "\"With all this stuff going down at the moment with MJ i've started listening to his music, watching the odd documentary here and there, watched The Wiz and watched Moonwalker again. Maybe i just want to get a certain insight into this guy who i thought was really cool in the eighties just to maybe make up my mind whether he is guilty or innocent. Moonwalker is part biography, part feature film which i remember going to see at the cinema when it was originally released. Some of it has subtle messages about MJ's feeling towards the press and also the obvious message of drugs are bad m'kay.<br /><br />Visually impressive but of course this is all about Michael Jackson so unless you remotely like MJ in anyway then you are going to hate this and find it boring. Some may call MJ an egotist for consenting to the making of this movie BUT MJ and most of his fans would say that he made it for the fans which if true is really nice of him.<br /><br />The actual feature film bit when it finally starts is only on for 20 minutes or so excluding the Smooth Criminal sequence and Joe Pesci is convincing as a psychopathic all powerful drug lord. Why he wants MJ dead so bad is beyond me. Because MJ overheard his plans? Nah, Joe Pesci's character ranted that he wanted people to know it is he who is supplying drugs etc so i dunno, maybe he just hates MJ's music.<br /><br />Lots of cool things in this like MJ turning into a car and a robot and the whole Speed Demon sequence. Also, the director must have had the patience of a saint when it came to filming the kiddy Bad sequence as usually directors hate working with one kid let alone a whole bunch of them performing a complex dance scene.<br /><br />Bottom line, this movie is for people who like MJ on one level or another (which i think is most people). If not, then stay away. It does try and give off a wholesome message and ironically MJ's bestest buddy in this movie is a girl! Michael Jackson is truly one of the most talented people ever to grace this planet but is he guilty? Well, with all the attention i've gave this subject....hmmm well i don't know because people can be different behind closed doors, i know this for a fact. He is either an extremely nice but stupid guy or one of the most sickest liars. I hope he is not the latter.\"\n"
     ]
    }
   ],
   "source": [
    "print(review_df['review'][0])"
   ]
  },
  {
   "cell_type": "code",
   "execution_count": 23,
   "metadata": {},
   "outputs": [],
   "source": [
    "# <br> html 태그 공백으로 변환\n",
    "import re\n",
    "review_df['review'] = review_df['review'].str.replace('<br \\>', ' ')\n",
    "\n",
    "# 영어 문자열이 아닌 문자는 모두 공백으로 변환\n",
    "review_df['review'] = review_df['review'].apply(lambda x : re.sub(\"[^a-zA-Z]\", \" \",x))"
   ]
  },
  {
   "cell_type": "code",
   "execution_count": 26,
   "metadata": {},
   "outputs": [
    {
     "data": {
      "text/plain": [
       "((17500, 1), (7500, 1))"
      ]
     },
     "execution_count": 26,
     "metadata": {},
     "output_type": "execute_result"
    }
   ],
   "source": [
    "# 피처 데이터 세트 생성 후 학습/테스트 데이터 분리\n",
    "from sklearn.model_selection import train_test_split\n",
    "\n",
    "class_df = review_df['sentiment']\n",
    "feature_df = review_df.drop(['id','sentiment'], axis=1, inplace=False)\n",
    "X_train, X_test, y_train, y_test = train_test_split(feature_df, class_df, test_size=0.3, random_state=156)\n",
    "X_train.shape, X_test.shape"
   ]
  },
  {
   "cell_type": "code",
   "execution_count": 27,
   "metadata": {},
   "outputs": [
    {
     "name": "stdout",
     "output_type": "stream",
     "text": [
      "예측 정확도 : 0.8867, ROC-AUC : 0.9505\n"
     ]
    }
   ],
   "source": [
    "# CountVectorizer\n",
    "from sklearn.metrics import accuracy_score, roc_auc_score\n",
    "pipeline = Pipeline([('cnt_vect',CountVectorizer(stop_words='english', ngram_range=(1,2))),\n",
    "                    ('lr_clf',LogisticRegression(solver='liblinear', C = 10))])\n",
    "\n",
    "pipeline.fit(X_train['review'], y_train)\n",
    "pred = pipeline.predict(X_test['review'])\n",
    "pred_probs = pipeline.predict_proba(X_test['review'])[:,1]\n",
    "\n",
    "print('예측 정확도 : {0:.4f}, ROC-AUC : {1:.4f}'.format(accuracy_score(y_test, pred),\n",
    "                                                        roc_auc_score(y_test, pred_probs)))"
   ]
  },
  {
   "cell_type": "code",
   "execution_count": 28,
   "metadata": {},
   "outputs": [
    {
     "name": "stdout",
     "output_type": "stream",
     "text": [
      "예측 정확도 : 0.8932, ROC-AUC : 0.9600\n"
     ]
    }
   ],
   "source": [
    "# TfidVectorizer\n",
    "# CountVectorizer\n",
    "from sklearn.metrics import accuracy_score, roc_auc_score\n",
    "pipeline = Pipeline([('tfidf_vect',TfidfVectorizer(stop_words='english', ngram_range=(1,2))),\n",
    "                    ('lr_clf',LogisticRegression(solver='liblinear', C = 10))])\n",
    "\n",
    "pipeline.fit(X_train['review'], y_train)\n",
    "pred = pipeline.predict(X_test['review'])\n",
    "pred_probs = pipeline.predict_proba(X_test['review'])[:,1]\n",
    "\n",
    "print('예측 정확도 : {0:.4f}, ROC-AUC : {1:.4f}'.format(accuracy_score(y_test, pred),\n",
    "                                                        roc_auc_score(y_test, pred_probs)))"
   ]
  },
  {
   "cell_type": "markdown",
   "metadata": {},
   "source": [
    "#### 비지도학습 기반 감성 분석 소개\n",
    "- 많은 감성 분석용 데이터는 결정된 레이블 값 가지고 있지 ㅇ낳음\n",
    "- 한글을 지원하는 Lexicon은 없음 \n",
    "- 감성 지수 : 단어의 위치, 주변 단어, 문맥, POS(Part of Speech) 등을 참고해 결정됨\n",
    "- 감성 사전 구현한 대표 패키지 : NLTK 패키지\n",
    "\n",
    "\n",
    "- NLP 패키지의 WordNet :시맨틱 분석 제공하는 어휘 사전\n",
    "    - 시맨틱 : 문맥상 의미 \n",
    "    - Synset(Sets of congnitive synonyms) : 단어가 가지는 문맥, 시맨틱 정보를 제공하는 WordNet의 핵심 개념\n",
    "\n",
    "\n",
    "- NLTK의 예측 성능이 그리 좋지는 않음 / 실무에서는 주로 다른 감성 사전 적용함\n",
    "    - SentiWordNet\n",
    "    - VADER\n",
    "    - Pattern\n"
   ]
  },
  {
   "cell_type": "markdown",
   "metadata": {},
   "source": [
    "#### SentiWordNet을 이용한 감성 분석"
   ]
  },
  {
   "cell_type": "code",
   "execution_count": 29,
   "metadata": {},
   "outputs": [
    {
     "name": "stdout",
     "output_type": "stream",
     "text": [
      "synsets() 반환 type: <class 'list'>\n",
      "synsets() 반환 값 개수: 18\n",
      "synsets() 반환 값 :  [Synset('present.n.01'), Synset('present.n.02'), Synset('present.n.03'), Synset('show.v.01'), Synset('present.v.02'), Synset('stage.v.01'), Synset('present.v.04'), Synset('present.v.05'), Synset('award.v.01'), Synset('give.v.08'), Synset('deliver.v.01'), Synset('introduce.v.01'), Synset('portray.v.04'), Synset('confront.v.03'), Synset('present.v.12'), Synset('salute.v.06'), Synset('present.a.01'), Synset('present.a.02')]\n"
     ]
    }
   ],
   "source": [
    "from nltk.corpus import wordnet as wn\n",
    "\n",
    "term = 'present'\n",
    "\n",
    "# present 라는 단어로 wordnet의 synsets 생성\n",
    "synsets = wn.synsets(term)\n",
    "print('synsets() 반환 type:', type(synsets))\n",
    "print('synsets() 반환 값 개수:', len(synsets))\n",
    "print('synsets() 반환 값 : ',synsets)"
   ]
  },
  {
   "cell_type": "code",
   "execution_count": 30,
   "metadata": {},
   "outputs": [
    {
     "name": "stdout",
     "output_type": "stream",
     "text": [
      "##### synset name :  present.n.01 #####\n",
      "POS :  noun.time\n",
      "Definition: the period of time that is happening now; any continuous stretch of time including the moment of speech\n",
      "Lemmas: ['present', 'nowadays']\n",
      "##### synset name :  present.n.02 #####\n",
      "POS :  noun.possession\n",
      "Definition: something presented as a gift\n",
      "Lemmas: ['present']\n",
      "##### synset name :  present.n.03 #####\n",
      "POS :  noun.communication\n",
      "Definition: a verb tense that expresses actions or states at the time of speaking\n",
      "Lemmas: ['present', 'present_tense']\n",
      "##### synset name :  show.v.01 #####\n",
      "POS :  verb.perception\n",
      "Definition: give an exhibition of to an interested audience\n",
      "Lemmas: ['show', 'demo', 'exhibit', 'present', 'demonstrate']\n",
      "##### synset name :  present.v.02 #####\n",
      "POS :  verb.communication\n",
      "Definition: bring forward and present to the mind\n",
      "Lemmas: ['present', 'represent', 'lay_out']\n",
      "##### synset name :  stage.v.01 #####\n",
      "POS :  verb.creation\n",
      "Definition: perform (a play), especially on a stage\n",
      "Lemmas: ['stage', 'present', 'represent']\n",
      "##### synset name :  present.v.04 #####\n",
      "POS :  verb.possession\n",
      "Definition: hand over formally\n",
      "Lemmas: ['present', 'submit']\n",
      "##### synset name :  present.v.05 #####\n",
      "POS :  verb.stative\n",
      "Definition: introduce\n",
      "Lemmas: ['present', 'pose']\n",
      "##### synset name :  award.v.01 #####\n",
      "POS :  verb.possession\n",
      "Definition: give, especially as an honor or reward\n",
      "Lemmas: ['award', 'present']\n",
      "##### synset name :  give.v.08 #####\n",
      "POS :  verb.possession\n",
      "Definition: give as a present; make a gift of\n",
      "Lemmas: ['give', 'gift', 'present']\n",
      "##### synset name :  deliver.v.01 #####\n",
      "POS :  verb.communication\n",
      "Definition: deliver (a speech, oration, or idea)\n",
      "Lemmas: ['deliver', 'present']\n",
      "##### synset name :  introduce.v.01 #####\n",
      "POS :  verb.communication\n",
      "Definition: cause to come to know personally\n",
      "Lemmas: ['introduce', 'present', 'acquaint']\n",
      "##### synset name :  portray.v.04 #####\n",
      "POS :  verb.creation\n",
      "Definition: represent abstractly, for example in a painting, drawing, or sculpture\n",
      "Lemmas: ['portray', 'present']\n",
      "##### synset name :  confront.v.03 #####\n",
      "POS :  verb.communication\n",
      "Definition: present somebody with something, usually to accuse or criticize\n",
      "Lemmas: ['confront', 'face', 'present']\n",
      "##### synset name :  present.v.12 #####\n",
      "POS :  verb.communication\n",
      "Definition: formally present a debutante, a representative of a country, etc.\n",
      "Lemmas: ['present']\n",
      "##### synset name :  salute.v.06 #####\n",
      "POS :  verb.communication\n",
      "Definition: recognize with a gesture prescribed by a military regulation; assume a prescribed position\n",
      "Lemmas: ['salute', 'present']\n",
      "##### synset name :  present.a.01 #####\n",
      "POS :  adj.all\n",
      "Definition: temporal sense; intermediate between past and future; now existing or happening or in consideration\n",
      "Lemmas: ['present']\n",
      "##### synset name :  present.a.02 #####\n",
      "POS :  adj.all\n",
      "Definition: being or existing in a specified place\n",
      "Lemmas: ['present']\n"
     ]
    }
   ],
   "source": [
    "# synset 객체가 가지는 속성 살펴보기\n",
    "for synset in synsets:\n",
    "    print(\"##### synset name : \", synset.name(), '#####')\n",
    "    print('POS : ', synset.lexname())\n",
    "    print('Definition:', synset.definition())\n",
    "    print('Lemmas:',synset.lemma_names())"
   ]
  },
  {
   "cell_type": "code",
   "execution_count": 32,
   "metadata": {},
   "outputs": [
    {
     "data": {
      "text/html": [
       "<div>\n",
       "<style scoped>\n",
       "    .dataframe tbody tr th:only-of-type {\n",
       "        vertical-align: middle;\n",
       "    }\n",
       "\n",
       "    .dataframe tbody tr th {\n",
       "        vertical-align: top;\n",
       "    }\n",
       "\n",
       "    .dataframe thead th {\n",
       "        text-align: right;\n",
       "    }\n",
       "</style>\n",
       "<table border=\"1\" class=\"dataframe\">\n",
       "  <thead>\n",
       "    <tr style=\"text-align: right;\">\n",
       "      <th></th>\n",
       "      <th>tree</th>\n",
       "      <th>lion</th>\n",
       "      <th>tiger</th>\n",
       "      <th>cat</th>\n",
       "      <th>dog</th>\n",
       "    </tr>\n",
       "  </thead>\n",
       "  <tbody>\n",
       "    <tr>\n",
       "      <th>tree</th>\n",
       "      <td>1.00</td>\n",
       "      <td>0.07</td>\n",
       "      <td>0.07</td>\n",
       "      <td>0.08</td>\n",
       "      <td>0.12</td>\n",
       "    </tr>\n",
       "    <tr>\n",
       "      <th>lion</th>\n",
       "      <td>0.07</td>\n",
       "      <td>1.00</td>\n",
       "      <td>0.33</td>\n",
       "      <td>0.25</td>\n",
       "      <td>0.17</td>\n",
       "    </tr>\n",
       "    <tr>\n",
       "      <th>tiger</th>\n",
       "      <td>0.07</td>\n",
       "      <td>0.33</td>\n",
       "      <td>1.00</td>\n",
       "      <td>0.25</td>\n",
       "      <td>0.17</td>\n",
       "    </tr>\n",
       "    <tr>\n",
       "      <th>cat</th>\n",
       "      <td>0.08</td>\n",
       "      <td>0.25</td>\n",
       "      <td>0.25</td>\n",
       "      <td>1.00</td>\n",
       "      <td>0.20</td>\n",
       "    </tr>\n",
       "    <tr>\n",
       "      <th>dog</th>\n",
       "      <td>0.12</td>\n",
       "      <td>0.17</td>\n",
       "      <td>0.17</td>\n",
       "      <td>0.20</td>\n",
       "      <td>1.00</td>\n",
       "    </tr>\n",
       "  </tbody>\n",
       "</table>\n",
       "</div>"
      ],
      "text/plain": [
       "       tree  lion  tiger   cat   dog\n",
       "tree   1.00  0.07   0.07  0.08  0.12\n",
       "lion   0.07  1.00   0.33  0.25  0.17\n",
       "tiger  0.07  0.33   1.00  0.25  0.17\n",
       "cat    0.08  0.25   0.25  1.00  0.20\n",
       "dog    0.12  0.17   0.17  0.20  1.00"
      ]
     },
     "execution_count": 32,
     "metadata": {},
     "output_type": "execute_result"
    }
   ],
   "source": [
    "# WordNet은 어떤 어휘와 다른 어휘간의 관계 유사도로 나타낼 수 있음\n",
    "# synset 객체를 단어별로 생성\n",
    "tree = wn.synset('tree.n.01')\n",
    "lion = wn.synset('lion.n.01')\n",
    "tiger = wn.synset('tiger.n.02')\n",
    "cat = wn.synset('cat.n.01')\n",
    "dog = wn.synset('dog.n.01')\n",
    "\n",
    "entities = [tree, lion, tiger, cat, dog]\n",
    "similarities = []\n",
    "entity_names = [entity.name().split('.')[0] for entity in entities]\n",
    "\n",
    "# 단어별 synset을 반복하면서 다른 단어의 synset과 유사도를 측정합니다.\n",
    "for entity in entities:\n",
    "    similarity = [round(entity.path_similarity(compared_entity),2)\n",
    "                 for compared_entity in entities]\n",
    "    similarities.append(similarity)\n",
    "\n",
    "similarity_df = pd.DataFrame(similarities, columns=entity_names, index=entity_names)\n",
    "similarity_df"
   ]
  },
  {
   "cell_type": "code",
   "execution_count": 37,
   "metadata": {},
   "outputs": [
    {
     "name": "stdout",
     "output_type": "stream",
     "text": [
      "senti_synsets() 반환 type: <class 'list'>\n",
      "senti_synsets() 반환 값 개수: 11\n",
      "senti_synsets() 반환 값: [SentiSynset('decelerate.v.01'), SentiSynset('slow.v.02'), SentiSynset('slow.v.03'), SentiSynset('slow.a.01'), SentiSynset('slow.a.02'), SentiSynset('dense.s.04'), SentiSynset('slow.a.04'), SentiSynset('boring.s.01'), SentiSynset('dull.s.08'), SentiSynset('slowly.r.01'), SentiSynset('behind.r.03')]\n"
     ]
    }
   ],
   "source": [
    "# SentiWordNet\n",
    "import nltk\n",
    "from nltk.corpus import sentiwordnet as swn\n",
    "\n",
    "senti_synsets = list(swn.senti_synsets('slow'))\n",
    "print('senti_synsets() 반환 type:',type(senti_synsets))\n",
    "print('senti_synsets() 반환 값 개수:',len(senti_synsets))\n",
    "print('senti_synsets() 반환 값:',senti_synsets)"
   ]
  },
  {
   "cell_type": "code",
   "execution_count": 38,
   "metadata": {},
   "outputs": [
    {
     "name": "stdout",
     "output_type": "stream",
     "text": [
      "father 긍정감성 지수: 0.0\n",
      "father 부정감성 지수: 0.0\n",
      "father 객관성 지수: 1.0\n",
      "\n",
      "\n",
      "fabulous 긍정감성 지수: 0.875\n",
      "fabulous 부정감성 지수: 0.125\n",
      "fabulous 객관성 지수: 0.0\n"
     ]
    }
   ],
   "source": [
    "# 감성 지수와 객관성 지수 가짐\n",
    "# 전혀 감성적이지 않음 = 객관성 지수 1 , 감성 지수 = 0\n",
    "father = swn.senti_synset('father.n.01')\n",
    "print('father 긍정감성 지수:',father.pos_score())\n",
    "print('father 부정감성 지수:',father.neg_score())\n",
    "print('father 객관성 지수:',father.obj_score())\n",
    "print('\\n')\n",
    "fabulous = swn.senti_synset('fabulous.a.01')\n",
    "print('fabulous 긍정감성 지수:',fabulous.pos_score())\n",
    "print('fabulous 부정감성 지수:',fabulous.neg_score())\n",
    "print('fabulous 객관성 지수:',fabulous.obj_score())"
   ]
  },
  {
   "cell_type": "markdown",
   "metadata": {},
   "source": [
    "#### SentiWordNet을 이용한 영화 감상평 감성 분석\n",
    "1. 문서를 문장 단위로 분해\n",
    "2. 다시 문장을 단어 단위로 토큰화하고 품사 태깅\n",
    "3. 품사 태깅된 단어 기반으로 synset 객체와 senti_synset 객체 생성\n",
    "4. Senti_synset에서 긍정 감성/부정 감성 지수 구하고 이를 모두 합산해 특정 임계치 값 이상일 때 긍정 감성 , 아닐때는 부정 감성으로 결정"
   ]
  },
  {
   "cell_type": "code",
   "execution_count": 40,
   "metadata": {},
   "outputs": [],
   "source": [
    "# WordNet을 이용해 문서를 단어로 토큰화 후 어근 추출과 품사 태깅 적용\n",
    "\n",
    "# 품사 태깅 함수\n",
    "def penn_to_wn(tag):\n",
    "    if tag.startswith('J'):\n",
    "        return wn.ADJ\n",
    "    elif tag.startswith('N'):\n",
    "        return wn.NOUN\n",
    "    elif tag.startswith('R'):\n",
    "        return wn.ADV\n",
    "    elif tag.startswith('V'):\n",
    "        return wn.VERB"
   ]
  },
  {
   "cell_type": "code",
   "execution_count": 41,
   "metadata": {},
   "outputs": [],
   "source": [
    "from nltk.stem import WordNetLemmatizer\n",
    "from nltk.corpus import sentiwordnet as swn\n",
    "from nltk import sent_tokenize, word_tokenize, pos_tag\n",
    "\n",
    "def swn_polarity(text):\n",
    "    # 감성 지수 초기화\n",
    "    sentiment = 0.0\n",
    "    tokens_count = 0\n",
    "    \n",
    "    lemmatizer = WordNetLemmatizer()\n",
    "    raw_sentences = sent_tokenize(text)\n",
    "    \n",
    "    for raw_sentence in raw_sentences:\n",
    "        tagged_sentence = pos_tag(word_tokenize(raw_sentence))\n",
    "        for word, tag in tagged_sentence:\n",
    "            wn_tag = penn_to_wn(tag)\n",
    "            if wn_tag not in (wn.NOUN, wn.ADJ, wn.ADV):\n",
    "                continue\n",
    "            lemma = lemmatizer.lemmatize(word, pos=wn_tag)\n",
    "            if not lemma:\n",
    "                continue\n",
    "            synsets = wn.synsets(lemma, pos=wn_tag)\n",
    "            if not synsets:\n",
    "                continue\n",
    "            synset = synsets[0]\n",
    "            swn_synset = swn.senti_synset(synset.name())\n",
    "            sentiment += (swn_synset.pos_score() - swn_synset.neg_score())\n",
    "            tokens_count += 1\n",
    "    if not tokens_count:\n",
    "        return 0\n",
    "    if sentiment >= 0:\n",
    "        return 1\n",
    "    return 0"
   ]
  },
  {
   "cell_type": "code",
   "execution_count": 50,
   "metadata": {},
   "outputs": [],
   "source": [
    "review_df['preds'] = review_df['review'].apply(lambda x : swn_polarity(x))\n",
    "y_target = review_df['sentiment'].values\n",
    "preds = review_df['preds'].values"
   ]
  },
  {
   "cell_type": "code",
   "execution_count": 51,
   "metadata": {},
   "outputs": [
    {
     "name": "stdout",
     "output_type": "stream",
     "text": [
      "[[7669 4831]\n",
      " [3644 8856]]\n",
      "정확도 : 0.661\n",
      "정밀도 : 0.647\n",
      "재현율 : 0.7085\n"
     ]
    }
   ],
   "source": [
    "from sklearn.metrics import accuracy_score, confusion_matrix, precision_score\n",
    "from sklearn.metrics import recall_score, f1_score, roc_auc_score\n",
    "import numpy as np\n",
    "print(confusion_matrix(y_target, preds))\n",
    "print('정확도 :', np.round(accuracy_score(y_target, preds),4))\n",
    "print('정밀도 :', np.round(precision_score(y_target, preds),4))\n",
    "print('재현율 :', np.round(recall_score(y_target, preds),4))"
   ]
  },
  {
   "cell_type": "markdown",
   "metadata": {},
   "source": [
    "#### VADER를 이용한 감성 분석\n",
    "- 소셜 미디어의 감성 분석 용도로 만들어진 룰 기반의 Lexicon"
   ]
  },
  {
   "cell_type": "code",
   "execution_count": 47,
   "metadata": {
    "scrolled": true
   },
   "outputs": [
    {
     "name": "stdout",
     "output_type": "stream",
     "text": [
      "{'neg': 0.117, 'neu': 0.759, 'pos': 0.124, 'compound': -0.0678}\n"
     ]
    }
   ],
   "source": [
    "# VADER 사용법 알아보기\n",
    "from nltk.sentiment.vader import SentimentIntensityAnalyzer\n",
    "\n",
    "senti_analyzer = SentimentIntensityAnalyzer()\n",
    "senti_scores = senti_analyzer.polarity_scores(review_df['review'][0])\n",
    "print(senti_scores)"
   ]
  },
  {
   "cell_type": "code",
   "execution_count": 53,
   "metadata": {},
   "outputs": [
    {
     "name": "stdout",
     "output_type": "stream",
     "text": [
      "[[7669 4831]\n",
      " [3644 8856]]\n",
      "정확도 : 0.661\n",
      "정밀도 : 0.647\n",
      "재현율 : 0.7085\n"
     ]
    }
   ],
   "source": [
    "# compound score를 기반으로 0.1 이상이면 긍정 감성, 그 이하면 부정 감성으로 판단 / 임계값 적절히 조절해 예측 성능 조절\n",
    "def vader_polarity(review, threshold=0.1):\n",
    "    analyzer = SentimentIntensityAnalyzer()\n",
    "    scores = analyzer.polarity_scores(review)\n",
    "    \n",
    "    agg_scores = scores['compound']\n",
    "    final_sentiment = 1 if agg_scores >= threshold else 0\n",
    "    return final_sentiment\n",
    "\n",
    "review_df['vader_preds'] = review_df['review'].apply(lambda x : vader_polarity(x,0.1))\n",
    "y_target = review_df['sentiment'].values\n",
    "vader_preds = review_df['vader_preds'].values\n",
    "\n",
    "print(confusion_matrix(y_target, preds))\n",
    "print('정확도 :', np.round(accuracy_score(y_target, preds),4))\n",
    "print('정밀도 :', np.round(precision_score(y_target, preds),4))\n",
    "print('재현율 :', np.round(recall_score(y_target, preds),4))"
   ]
  },
  {
   "cell_type": "markdown",
   "metadata": {},
   "source": [
    "### 6. 토픽 모델링 - 20 뉴스그룹\n",
    "- 토픽 모델링 : 문서 집합에 숨어 있는 주제 찾아내는 것\n",
    "- 숨겨진 주제를 효과적으로 표현할 수 있는 중심 단어를 함축적으로 추출\n",
    "\n",
    "\n",
    "- 머신러닝 토픽 모델링에 자주 사용되는 기법\n",
    "    - LSA(Latent Semantic Analysis)\n",
    "    - LDA(Latent Dirichlet Allocation)"
   ]
  },
  {
   "cell_type": "code",
   "execution_count": 54,
   "metadata": {},
   "outputs": [
    {
     "name": "stdout",
     "output_type": "stream",
     "text": [
      "CountVectorizer Shape: (7862, 1000)\n"
     ]
    }
   ],
   "source": [
    "# 추출 주제 리스트\n",
    "cats = ['rec.motorcycles','rec.sport.baseball','comp.graphics','comp.windows.x',\n",
    "       'talk.politics.mideast','soc.religion.christian','sci.electronics','sci.med']\n",
    "\n",
    "news_df = fetch_20newsgroups(subset='all', remove=('headers','footers','quotes'),\n",
    "                            categories=cats, random_state=0)\n",
    "# LDA는 Count 기반의 벡터화만 적용\n",
    "count_vect = CountVectorizer(max_df=0.95, max_features=1000, min_df=2, stop_words='english',\n",
    "                            ngram_range=(1,2))\n",
    "feat_vect = count_vect.fit_transform(news_df.data)\n",
    "print('CountVectorizer Shape:', feat_vect.shape)"
   ]
  },
  {
   "cell_type": "code",
   "execution_count": 56,
   "metadata": {},
   "outputs": [
    {
     "data": {
      "text/plain": [
       "LatentDirichletAllocation(n_components=8, random_state=0)"
      ]
     },
     "execution_count": 56,
     "metadata": {},
     "output_type": "execute_result"
    }
   ],
   "source": [
    "from sklearn.decomposition import LatentDirichletAllocation\n",
    "lda = LatentDirichletAllocation(n_components=8, random_state=0) # 토픽 개수 조정\n",
    "lda.fit(feat_vect)"
   ]
  },
  {
   "cell_type": "code",
   "execution_count": null,
   "metadata": {},
   "outputs": [],
   "source": [
    "# 개별 토픽별 각 word 피처가 얼마나 많이 그 토픽에 할당됐는지에 대한 수치\n",
    "# 높은 값일수록 해당 word 피처는 그 토픽의 중심 word가 됨\n",
    "print(lad.components_.shape)\n",
    "lda.components_"
   ]
  },
  {
   "cell_type": "code",
   "execution_count": null,
   "metadata": {},
   "outputs": [],
   "source": [
    "# 토픽별 연관도가 높은 순으로 Word 나열 함수\n",
    "def display_topics(model, feature_names, no_top_words):\n",
    "    for topic_index, topic in enumertate(model, components_):\n",
    "        print('Topic #', topic_index)\n",
    "        \n",
    "        topic_word_indexes = topic.argsort()[::-1]\n",
    "        top_indexes = topic_word_indexes[:no_top_words]\n",
    "        \n",
    "        feature_concat = ' '.join([feature_names[i] for i in top_indexes])\n",
    "        print(feature_concat)\n",
    "        \n",
    "feature_names = count_vect.get_feature_names()\n",
    "\n",
    "display_topicstopics(lda, feature_names, 15)"
   ]
  },
  {
   "cell_type": "markdown",
   "metadata": {},
   "source": [
    "### 7. 문서 군집화 소개와 실습 (Opinion Review 데이터 세트)"
   ]
  },
  {
   "cell_type": "markdown",
   "metadata": {},
   "source": [
    "#### 문서 군집화 개념\n",
    "- 비슷한 텍스트 구성의 문서 군집화\n",
    "- 동일한 군집에 속하는 문서를 같은카테고리 소속으로 분류할 수 있으므로 텍스트 분류 기반의 문서 분류와 유사\n",
    "- 학습 데이터 세트가 필요없는 비지도학습 기반으로 동작"
   ]
  },
  {
   "cell_type": "markdown",
   "metadata": {},
   "source": [
    "#### Opinion Review 데이터 세트를 이용한 문서 군집화 수행하기"
   ]
  },
  {
   "cell_type": "code",
   "execution_count": 58,
   "metadata": {
    "scrolled": false
   },
   "outputs": [
    {
     "data": {
      "text/html": [
       "<div>\n",
       "<style scoped>\n",
       "    .dataframe tbody tr th:only-of-type {\n",
       "        vertical-align: middle;\n",
       "    }\n",
       "\n",
       "    .dataframe tbody tr th {\n",
       "        vertical-align: top;\n",
       "    }\n",
       "\n",
       "    .dataframe thead th {\n",
       "        text-align: right;\n",
       "    }\n",
       "</style>\n",
       "<table border=\"1\" class=\"dataframe\">\n",
       "  <thead>\n",
       "    <tr style=\"text-align: right;\">\n",
       "      <th></th>\n",
       "      <th>filename</th>\n",
       "      <th>opinion_text</th>\n",
       "    </tr>\n",
       "  </thead>\n",
       "  <tbody>\n",
       "    <tr>\n",
       "      <th>0</th>\n",
       "      <td>accuracy_garmin_nuvi_255W_gps</td>\n",
       "      <td>, and is very, very accurate .\\n0                                                                                                                                                                           but for the most part, we find that the Garmin software provides accurate directions, whereever we intend to go .\\n1                                                                                                              This functi...</td>\n",
       "    </tr>\n",
       "    <tr>\n",
       "      <th>1</th>\n",
       "      <td>bathroom_bestwestern_hotel_sfo</td>\n",
       "      <td>The room was not overly big, but clean and very comfortable beds, a great shower and very clean bathrooms .\\n0                                                                                                                                                                                                                          The second room was smaller, with a very inconvenient bathroom layout, but at least it was quieter and we were able to sleep .\\n1 ...</td>\n",
       "    </tr>\n",
       "    <tr>\n",
       "      <th>2</th>\n",
       "      <td>battery-life_amazon_kindle</td>\n",
       "      <td>After I plugged it in to my USB hub on my computer to charge the battery the charging cord design is very clever !\\n0                                                                                                                                     After you have paged tru a 500, page book one, page, at, a, time to get from Chapter 2 to Chapter 15, see how excited you are about a low battery and all the time it took to get there !\\n1                                                     ...</td>\n",
       "    </tr>\n",
       "    <tr>\n",
       "      <th>3</th>\n",
       "      <td>battery-life_ipod_nano_8gb</td>\n",
       "      <td>short battery life  I moved up from an 8gb .\\n0                                                                                                                                                                                                                                                                                            I love this ipod except for the battery life .\\n1                             ...</td>\n",
       "    </tr>\n",
       "    <tr>\n",
       "      <th>4</th>\n",
       "      <td>battery-life_netbook_1005ha</td>\n",
       "      <td>6GHz 533FSB cpu, glossy display, 3, Cell 23Wh Li, ion Battery  , and a 1 .\\n0                                                                                                                                                                                                                                                                                              Not to mention that as of now...</td>\n",
       "    </tr>\n",
       "  </tbody>\n",
       "</table>\n",
       "</div>"
      ],
      "text/plain": [
       "                         filename  \\\n",
       "0   accuracy_garmin_nuvi_255W_gps   \n",
       "1  bathroom_bestwestern_hotel_sfo   \n",
       "2      battery-life_amazon_kindle   \n",
       "3      battery-life_ipod_nano_8gb   \n",
       "4     battery-life_netbook_1005ha   \n",
       "\n",
       "                                                                                                                                                                                                                                                                                                                                                                                                                                                                                                                                                                                                                                                                                                                  opinion_text  \n",
       "0                                                                                                                                                                                                                                                                 , and is very, very accurate .\\n0                                                                                                                                                                           but for the most part, we find that the Garmin software provides accurate directions, whereever we intend to go .\\n1                                                                                                              This functi...  \n",
       "1                                                                                                                                                                                                                                                The room was not overly big, but clean and very comfortable beds, a great shower and very clean bathrooms .\\n0                                                                                                                                                                                                                          The second room was smaller, with a very inconvenient bathroom layout, but at least it was quieter and we were able to sleep .\\n1 ...  \n",
       "2                                                                                                                                                                                                               After I plugged it in to my USB hub on my computer to charge the battery the charging cord design is very clever !\\n0                                                                                                                                     After you have paged tru a 500, page book one, page, at, a, time to get from Chapter 2 to Chapter 15, see how excited you are about a low battery and all the time it took to get there !\\n1                                                     ...  \n",
       "3                                                                                                                                                                                                                                                                                                 short battery life  I moved up from an 8gb .\\n0                                                                                                                                                                                                                                                                                            I love this ipod except for the battery life .\\n1                             ...  \n",
       "4                                                                                                                                                                                                                                                                                                                  6GHz 533FSB cpu, glossy display, 3, Cell 23Wh Li, ion Battery  , and a 1 .\\n0                                                                                                                                                                                                                                                                                              Not to mention that as of now...  "
      ]
     },
     "execution_count": 58,
     "metadata": {},
     "output_type": "execute_result"
    }
   ],
   "source": [
    "import glob, os\n",
    "pd.set_option('display.max_colwidth',700)\n",
    "\n",
    "path = r'C:\\Users\\samsung\\판다스 스터디\\data\\OpinosisDataset1.0\\topics'\n",
    "\n",
    "all_files = glob.glob(os.path.join(path, '*.data'))\n",
    "filename_list = []\n",
    "opinion_text = []\n",
    "\n",
    "for file_ in all_files:\n",
    "    df = pd.read_table(file_, index_col=None, header=0, encoding='latin1')\n",
    "    filename_ = file_.split('\\\\')[-1]\n",
    "    filename = filename_.split('.')[0]\n",
    "    \n",
    "    filename_list.append(filename)\n",
    "    opinion_text.append(df.to_string())\n",
    "\n",
    "document_df = pd.DataFrame({'filename':filename_list, 'opinion_text':opinion_text})\n",
    "document_df.head()"
   ]
  },
  {
   "cell_type": "code",
   "execution_count": 60,
   "metadata": {},
   "outputs": [],
   "source": [
    "from nltk.stem import WordNetLemmatizer\n",
    "import nltk\n",
    "import string\n",
    "\n",
    "remove_punct_dict = dict((ord(punct), None) for punct in string.punctuation)\n",
    "lemmar = WordNetLemmatizer()\n",
    "\n",
    "# 입력으로 들어온 token단어들에 대해서 lemmatization 어근 변환. \n",
    "def LemTokens(tokens):\n",
    "    return [lemmar.lemmatize(token) for token in tokens]\n",
    "\n",
    "# TfidfVectorizer 객체 생성 시 tokenizer인자로 해당 함수를 설정하여 lemmatization 적용\n",
    "# 입력으로 문장을 받아서 stop words 제거-> 소문자 변환 -> 단어 토큰화 -> lemmatization 어근 변환. \n",
    "def LemNormalize(text):\n",
    "    return LemTokens(nltk.word_tokenize(text.lower().translate(remove_punct_dict)))"
   ]
  },
  {
   "cell_type": "code",
   "execution_count": 63,
   "metadata": {
    "scrolled": true
   },
   "outputs": [],
   "source": [
    "# TF-IDF 형태로 피처 벡터화\n",
    "tfidf_vect = TfidfVectorizer(tokenizer=LemNormalize, stop_words = 'english',\n",
    "                            ngram_range=(1,2), min_df = 0.05, max_df=0.95)\n",
    "feature_vect = tfidf_vect.fit_transform(document_df['opinion_text'])"
   ]
  },
  {
   "cell_type": "code",
   "execution_count": 64,
   "metadata": {},
   "outputs": [],
   "source": [
    "from sklearn.cluster import KMeans\n",
    "km_cluster = KMeans(n_clusters=5, max_iter=10000, random_state=0)\n",
    "km_cluster.fit(feature_vect)\n",
    "cluster_label = km_cluster.labels_\n",
    "cluster_centers = km_cluster.cluster_centers_"
   ]
  },
  {
   "cell_type": "code",
   "execution_count": 65,
   "metadata": {},
   "outputs": [
    {
     "data": {
      "text/html": [
       "<div>\n",
       "<style scoped>\n",
       "    .dataframe tbody tr th:only-of-type {\n",
       "        vertical-align: middle;\n",
       "    }\n",
       "\n",
       "    .dataframe tbody tr th {\n",
       "        vertical-align: top;\n",
       "    }\n",
       "\n",
       "    .dataframe thead th {\n",
       "        text-align: right;\n",
       "    }\n",
       "</style>\n",
       "<table border=\"1\" class=\"dataframe\">\n",
       "  <thead>\n",
       "    <tr style=\"text-align: right;\">\n",
       "      <th></th>\n",
       "      <th>filename</th>\n",
       "      <th>opinion_text</th>\n",
       "      <th>cluster_label</th>\n",
       "    </tr>\n",
       "  </thead>\n",
       "  <tbody>\n",
       "    <tr>\n",
       "      <th>0</th>\n",
       "      <td>accuracy_garmin_nuvi_255W_gps</td>\n",
       "      <td>, and is very, very accurate .\\n0                                                                                                                                                                           but for the most part, we find that the Garmin software provides accurate directions, whereever we intend to go .\\n1                                                                                                              This functi...</td>\n",
       "      <td>0</td>\n",
       "    </tr>\n",
       "    <tr>\n",
       "      <th>1</th>\n",
       "      <td>bathroom_bestwestern_hotel_sfo</td>\n",
       "      <td>The room was not overly big, but clean and very comfortable beds, a great shower and very clean bathrooms .\\n0                                                                                                                                                                                                                          The second room was smaller, with a very inconvenient bathroom layout, but at least it was quieter and we were able to sleep .\\n1 ...</td>\n",
       "      <td>1</td>\n",
       "    </tr>\n",
       "    <tr>\n",
       "      <th>2</th>\n",
       "      <td>battery-life_amazon_kindle</td>\n",
       "      <td>After I plugged it in to my USB hub on my computer to charge the battery the charging cord design is very clever !\\n0                                                                                                                                     After you have paged tru a 500, page book one, page, at, a, time to get from Chapter 2 to Chapter 15, see how excited you are about a low battery and all the time it took to get there !\\n1                                                     ...</td>\n",
       "      <td>3</td>\n",
       "    </tr>\n",
       "    <tr>\n",
       "      <th>3</th>\n",
       "      <td>battery-life_ipod_nano_8gb</td>\n",
       "      <td>short battery life  I moved up from an 8gb .\\n0                                                                                                                                                                                                                                                                                            I love this ipod except for the battery life .\\n1                             ...</td>\n",
       "      <td>3</td>\n",
       "    </tr>\n",
       "    <tr>\n",
       "      <th>4</th>\n",
       "      <td>battery-life_netbook_1005ha</td>\n",
       "      <td>6GHz 533FSB cpu, glossy display, 3, Cell 23Wh Li, ion Battery  , and a 1 .\\n0                                                                                                                                                                                                                                                                                              Not to mention that as of now...</td>\n",
       "      <td>3</td>\n",
       "    </tr>\n",
       "  </tbody>\n",
       "</table>\n",
       "</div>"
      ],
      "text/plain": [
       "                         filename  \\\n",
       "0   accuracy_garmin_nuvi_255W_gps   \n",
       "1  bathroom_bestwestern_hotel_sfo   \n",
       "2      battery-life_amazon_kindle   \n",
       "3      battery-life_ipod_nano_8gb   \n",
       "4     battery-life_netbook_1005ha   \n",
       "\n",
       "                                                                                                                                                                                                                                                                                                                                                                                                                                                                                                                                                                                                                                                                                                                  opinion_text  \\\n",
       "0                                                                                                                                                                                                                                                                 , and is very, very accurate .\\n0                                                                                                                                                                           but for the most part, we find that the Garmin software provides accurate directions, whereever we intend to go .\\n1                                                                                                              This functi...   \n",
       "1                                                                                                                                                                                                                                                The room was not overly big, but clean and very comfortable beds, a great shower and very clean bathrooms .\\n0                                                                                                                                                                                                                          The second room was smaller, with a very inconvenient bathroom layout, but at least it was quieter and we were able to sleep .\\n1 ...   \n",
       "2                                                                                                                                                                                                               After I plugged it in to my USB hub on my computer to charge the battery the charging cord design is very clever !\\n0                                                                                                                                     After you have paged tru a 500, page book one, page, at, a, time to get from Chapter 2 to Chapter 15, see how excited you are about a low battery and all the time it took to get there !\\n1                                                     ...   \n",
       "3                                                                                                                                                                                                                                                                                                 short battery life  I moved up from an 8gb .\\n0                                                                                                                                                                                                                                                                                            I love this ipod except for the battery life .\\n1                             ...   \n",
       "4                                                                                                                                                                                                                                                                                                                  6GHz 533FSB cpu, glossy display, 3, Cell 23Wh Li, ion Battery  , and a 1 .\\n0                                                                                                                                                                                                                                                                                              Not to mention that as of now...   \n",
       "\n",
       "   cluster_label  \n",
       "0              0  \n",
       "1              1  \n",
       "2              3  \n",
       "3              3  \n",
       "4              3  "
      ]
     },
     "execution_count": 65,
     "metadata": {},
     "output_type": "execute_result"
    }
   ],
   "source": [
    "document_df['cluster_label'] = cluster_label\n",
    "document_df.head()"
   ]
  },
  {
   "cell_type": "code",
   "execution_count": 67,
   "metadata": {
    "scrolled": true
   },
   "outputs": [
    {
     "data": {
      "text/html": [
       "<div>\n",
       "<style scoped>\n",
       "    .dataframe tbody tr th:only-of-type {\n",
       "        vertical-align: middle;\n",
       "    }\n",
       "\n",
       "    .dataframe tbody tr th {\n",
       "        vertical-align: top;\n",
       "    }\n",
       "\n",
       "    .dataframe thead th {\n",
       "        text-align: right;\n",
       "    }\n",
       "</style>\n",
       "<table border=\"1\" class=\"dataframe\">\n",
       "  <thead>\n",
       "    <tr style=\"text-align: right;\">\n",
       "      <th></th>\n",
       "      <th>filename</th>\n",
       "      <th>opinion_text</th>\n",
       "      <th>cluster_label</th>\n",
       "    </tr>\n",
       "  </thead>\n",
       "  <tbody>\n",
       "    <tr>\n",
       "      <th>1</th>\n",
       "      <td>bathroom_bestwestern_hotel_sfo</td>\n",
       "      <td>The room was not overly big, but clean and very comfortable beds, a great shower and very clean bathrooms .\\n0                                                                                                                                                                                                                          The second room was smaller, with a very inconvenient bathroom layout, but at least it was quieter and we were able to sleep .\\n1 ...</td>\n",
       "      <td>1</td>\n",
       "    </tr>\n",
       "    <tr>\n",
       "      <th>13</th>\n",
       "      <td>food_holiday_inn_london</td>\n",
       "      <td>The room was packed to capacity with queues at the food buffets .\\n0                                                                                                                                                   The over zealous   staff cleared our unfinished drinks while we were collecting cooked food and movement around the room with plates was difficult in the crowded circumstances .\\n1                                         ...</td>\n",
       "      <td>1</td>\n",
       "    </tr>\n",
       "    <tr>\n",
       "      <th>14</th>\n",
       "      <td>food_swissotel_chicago</td>\n",
       "      <td>The food for our event was delicious .\\n0                                                                                                                                                                                                                                                                                                              ...</td>\n",
       "      <td>1</td>\n",
       "    </tr>\n",
       "    <tr>\n",
       "      <th>15</th>\n",
       "      <td>free_bestwestern_hotel_sfo</td>\n",
       "      <td>The wine reception is a great idea as it is nice to meet other travellers and great having access to the free Internet access in our room .\\n0                                                                                      They also have a computer available with free internet which is a nice bonus but I didn't find that out till the day before we left but was still able to get on there to check our flight to Vegas the next day .\\n1                                                                                                 ...</td>\n",
       "      <td>1</td>\n",
       "    </tr>\n",
       "    <tr>\n",
       "      <th>20</th>\n",
       "      <td>location_bestwestern_hotel_sfo</td>\n",
       "      <td>Good Value good location ,  ideal choice .\\n0                                                                                                                                                                                                                                                                                          Great Location ,  Nice   Rooms ,  Helpless Concierge\\n1                     ...</td>\n",
       "      <td>1</td>\n",
       "    </tr>\n",
       "    <tr>\n",
       "      <th>21</th>\n",
       "      <td>location_holiday_inn_london</td>\n",
       "      <td>Great location for tube and we crammed in a fair amount of sightseeing in a short time .\\n0                                                                                                                                                                                                                                                                All in all, a normal chain hotel on a nice lo...</td>\n",
       "      <td>1</td>\n",
       "    </tr>\n",
       "    <tr>\n",
       "      <th>24</th>\n",
       "      <td>parking_bestwestern_hotel_sfo</td>\n",
       "      <td>Parking was expensive but I think this is common for San Fran .\\n0                                                                                                                                                                                        there is a fee for parking but well worth it seeing no where to park if you do have a car .\\n1                                                                                                                                           ...</td>\n",
       "      <td>1</td>\n",
       "    </tr>\n",
       "    <tr>\n",
       "      <th>28</th>\n",
       "      <td>price_holiday_inn_london</td>\n",
       "      <td>All in all, a normal chain hotel on a nice location  , I will be back if I do not find anthing closer to Picadilly for a better price .\\n0                                                                                                                                                                                                                 ...</td>\n",
       "      <td>1</td>\n",
       "    </tr>\n",
       "    <tr>\n",
       "      <th>32</th>\n",
       "      <td>room_holiday_inn_london</td>\n",
       "      <td>We arrived at 23,30 hours and they could not recommend a restaurant so we decided to go to Tesco, with very limited choices but when you are hingry you do not careNext day they rang the bell at 8,00 hours to clean the room, not being very nice being waken up so earlyEvery day they gave u...</td>\n",
       "      <td>1</td>\n",
       "    </tr>\n",
       "    <tr>\n",
       "      <th>30</th>\n",
       "      <td>rooms_bestwestern_hotel_sfo</td>\n",
       "      <td>Great Location ,  Nice   Rooms ,  H...</td>\n",
       "      <td>1</td>\n",
       "    </tr>\n",
       "    <tr>\n",
       "      <th>31</th>\n",
       "      <td>rooms_swissotel_chicago</td>\n",
       "      <td>The Swissotel is one of our favorite hotels in Chicago and the corner rooms have the most fantastic views in the city .\\n0                                                                                                                                   The rooms look like they were just remodled and upgraded, there was an HD TV and a nice iHome docking station to put my iPod so I could set the alarm to wake up with my music instead of the radio .\\n1                                 ...</td>\n",
       "      <td>1</td>\n",
       "    </tr>\n",
       "    <tr>\n",
       "      <th>38</th>\n",
       "      <td>service_bestwestern_hotel_sfo</td>\n",
       "      <td>Both of us having worked in tourism for over 14 years were very disappointed at the level of service provided by this gentleman .\\n0                                                                                                                                                                                              The service was good, very friendly staff and we loved the free wine reception each night .\\n1                                                                                                                               ...</td>\n",
       "      <td>1</td>\n",
       "    </tr>\n",
       "    <tr>\n",
       "      <th>39</th>\n",
       "      <td>service_holiday_inn_london</td>\n",
       "      <td>not customer, oriented hotelvery low service levelboor reception\\n0                                                                                                                                                                                                                                                                    The room was quiet, clean, the bed and pillows were comfortable, and the serv...</td>\n",
       "      <td>1</td>\n",
       "    </tr>\n",
       "    <tr>\n",
       "      <th>40</th>\n",
       "      <td>service_swissotel_hotel_chicago</td>\n",
       "      <td>Mediocre room and service for a very extravagant price .\\n0                                                                                                                                                                                                                                                                                                             ...</td>\n",
       "      <td>1</td>\n",
       "    </tr>\n",
       "    <tr>\n",
       "      <th>45</th>\n",
       "      <td>staff_bestwestern_hotel_sfo</td>\n",
       "      <td>Staff are friendl...</td>\n",
       "      <td>1</td>\n",
       "    </tr>\n",
       "    <tr>\n",
       "      <th>46</th>\n",
       "      <td>staff_swissotel_chicago</td>\n",
       "      <td>The staff at Swissotel were not particularly nice .\\n0                                                                                                                                                               Each time I waited at the counter for staff   for several minutes and then was waved to the desk upon my turn with no hello or anything, or apology for waiting in line .\\n1                                 ...</td>\n",
       "      <td>1</td>\n",
       "    </tr>\n",
       "  </tbody>\n",
       "</table>\n",
       "</div>"
      ],
      "text/plain": [
       "                           filename  \\\n",
       "1    bathroom_bestwestern_hotel_sfo   \n",
       "13          food_holiday_inn_london   \n",
       "14           food_swissotel_chicago   \n",
       "15       free_bestwestern_hotel_sfo   \n",
       "20   location_bestwestern_hotel_sfo   \n",
       "21      location_holiday_inn_london   \n",
       "24    parking_bestwestern_hotel_sfo   \n",
       "28         price_holiday_inn_london   \n",
       "32          room_holiday_inn_london   \n",
       "30      rooms_bestwestern_hotel_sfo   \n",
       "31          rooms_swissotel_chicago   \n",
       "38    service_bestwestern_hotel_sfo   \n",
       "39       service_holiday_inn_london   \n",
       "40  service_swissotel_hotel_chicago   \n",
       "45      staff_bestwestern_hotel_sfo   \n",
       "46          staff_swissotel_chicago   \n",
       "\n",
       "                                                                                                                                                                                                                                                                                                                                                                                                                                                                                                                                                                                                                                                                                                                   opinion_text  \\\n",
       "1                                                                                                                                                                                                                                                 The room was not overly big, but clean and very comfortable beds, a great shower and very clean bathrooms .\\n0                                                                                                                                                                                                                          The second room was smaller, with a very inconvenient bathroom layout, but at least it was quieter and we were able to sleep .\\n1 ...   \n",
       "13                                                                                                                                                                                                                                                                      The room was packed to capacity with queues at the food buffets .\\n0                                                                                                                                                   The over zealous   staff cleared our unfinished drinks while we were collecting cooked food and movement around the room with plates was difficult in the crowded circumstances .\\n1                                         ...   \n",
       "14                                                                                                                                                                                                                                                                                                                                                                   The food for our event was delicious .\\n0                                                                                                                                                                                                                                                                                                              ...   \n",
       "15                                                                                                                                                                The wine reception is a great idea as it is nice to meet other travellers and great having access to the free Internet access in our room .\\n0                                                                                      They also have a computer available with free internet which is a nice bonus but I didn't find that out till the day before we left but was still able to get on there to check our flight to Vegas the next day .\\n1                                                                                                 ...   \n",
       "20                                                                                                                                                                                                                                                                                                       Good Value good location ,  ideal choice .\\n0                                                                                                                                                                                                                                                                                          Great Location ,  Nice   Rooms ,  Helpless Concierge\\n1                     ...   \n",
       "21                                                                                                                                                                                                                                                                                                                  Great location for tube and we crammed in a fair amount of sightseeing in a short time .\\n0                                                                                                                                                                                                                                                                All in all, a normal chain hotel on a nice lo...   \n",
       "24                                                                                                                                                                                                                       Parking was expensive but I think this is common for San Fran .\\n0                                                                                                                                                                                        there is a fee for parking but well worth it seeing no where to park if you do have a car .\\n1                                                                                                                                           ...   \n",
       "28                                                                                                                                                                                                                                                                                                                                                               All in all, a normal chain hotel on a nice location  , I will be back if I do not find anthing closer to Picadilly for a better price .\\n0                                                                                                                                                                                                                 ...   \n",
       "32                                                                                                                                                                                                                                                                                                                                                                                                                          We arrived at 23,30 hours and they could not recommend a restaurant so we decided to go to Tesco, with very limited choices but when you are hingry you do not careNext day they rang the bell at 8,00 hours to clean the room, not being very nice being waken up so earlyEvery day they gave u...   \n",
       "30                                                                                                                                                                                                                                                                                                                                                                                                                                                                                                                                                                                                                                                                                       Great Location ,  Nice   Rooms ,  H...   \n",
       "31                                                                                                                                                                                                                    The Swissotel is one of our favorite hotels in Chicago and the corner rooms have the most fantastic views in the city .\\n0                                                                                                                                   The rooms look like they were just remodled and upgraded, there was an HD TV and a nice iHome docking station to put my iPod so I could set the alarm to wake up with my music instead of the radio .\\n1                                 ...   \n",
       "38                                                                                                                                                           Both of us having worked in tourism for over 14 years were very disappointed at the level of service provided by this gentleman .\\n0                                                                                                                                                                                              The service was good, very friendly staff and we loved the free wine reception each night .\\n1                                                                                                                               ...   \n",
       "39                                                                                                                                                                                                                                                                                                      not customer, oriented hotelvery low service levelboor reception\\n0                                                                                                                                                                                                                                                                    The room was quiet, clean, the bed and pillows were comfortable, and the serv...   \n",
       "40                                                                                                                                                                                                                                                                                                                                                  Mediocre room and service for a very extravagant price .\\n0                                                                                                                                                                                                                                                                                                             ...   \n",
       "45                                                                                                                                                                                                                                                                                                                                                                                                                                                                                                                                                                                                                                                                                                         Staff are friendl...   \n",
       "46                                                                                                                                                                                                                                                                                        The staff at Swissotel were not particularly nice .\\n0                                                                                                                                                               Each time I waited at the counter for staff   for several minutes and then was waved to the desk upon my turn with no hello or anything, or apology for waiting in line .\\n1                                 ...   \n",
       "\n",
       "    cluster_label  \n",
       "1               1  \n",
       "13              1  \n",
       "14              1  \n",
       "15              1  \n",
       "20              1  \n",
       "21              1  \n",
       "24              1  \n",
       "28              1  \n",
       "32              1  \n",
       "30              1  \n",
       "31              1  \n",
       "38              1  \n",
       "39              1  \n",
       "40              1  \n",
       "45              1  \n",
       "46              1  "
      ]
     },
     "execution_count": 67,
     "metadata": {},
     "output_type": "execute_result"
    }
   ],
   "source": [
    "document_df[document_df['cluster_label']==1].sort_values(by='filename') # 호텔에 대한 리뷰로 군집화"
   ]
  },
  {
   "cell_type": "code",
   "execution_count": 68,
   "metadata": {},
   "outputs": [
    {
     "data": {
      "text/html": [
       "<div>\n",
       "<style scoped>\n",
       "    .dataframe tbody tr th:only-of-type {\n",
       "        vertical-align: middle;\n",
       "    }\n",
       "\n",
       "    .dataframe tbody tr th {\n",
       "        vertical-align: top;\n",
       "    }\n",
       "\n",
       "    .dataframe thead th {\n",
       "        text-align: right;\n",
       "    }\n",
       "</style>\n",
       "<table border=\"1\" class=\"dataframe\">\n",
       "  <thead>\n",
       "    <tr style=\"text-align: right;\">\n",
       "      <th></th>\n",
       "      <th>filename</th>\n",
       "      <th>opinion_text</th>\n",
       "      <th>cluster_label</th>\n",
       "    </tr>\n",
       "  </thead>\n",
       "  <tbody>\n",
       "    <tr>\n",
       "      <th>2</th>\n",
       "      <td>battery-life_amazon_kindle</td>\n",
       "      <td>After I plugged it in to my USB hub on my computer to charge the battery the charging cord design is very clever !\\n0                                                                                                                                     After you have paged tru a 500, page book one, page, at, a, time to get from Chapter 2 to Chapter 15, see how excited you are about a low battery and all the time it took to get there !\\n1                                                     ...</td>\n",
       "      <td>3</td>\n",
       "    </tr>\n",
       "    <tr>\n",
       "      <th>3</th>\n",
       "      <td>battery-life_ipod_nano_8gb</td>\n",
       "      <td>short battery life  I moved up from an 8gb .\\n0                                                                                                                                                                                                                                                                                            I love this ipod except for the battery life .\\n1                             ...</td>\n",
       "      <td>3</td>\n",
       "    </tr>\n",
       "    <tr>\n",
       "      <th>4</th>\n",
       "      <td>battery-life_netbook_1005ha</td>\n",
       "      <td>6GHz 533FSB cpu, glossy display, 3, Cell 23Wh Li, ion Battery  , and a 1 .\\n0                                                                                                                                                                                                                                                                                              Not to mention that as of now...</td>\n",
       "      <td>3</td>\n",
       "    </tr>\n",
       "    <tr>\n",
       "      <th>26</th>\n",
       "      <td>performance_netbook_1005ha</td>\n",
       "      <td>The Eee Super Hybrid Engine utility lets users overclock or underclock their Eee PC's to boost performance or provide better battery life depending on their immediate requirements .\\n0                                                                                                                                                                                                                  In Super Performance mode CPU, Z shows the bus speed to increase up to 169 .\\n1                                                                                                                  One...</td>\n",
       "      <td>3</td>\n",
       "    </tr>\n",
       "    <tr>\n",
       "      <th>42</th>\n",
       "      <td>sound_ipod_nano_8gb</td>\n",
       "      <td>headphone jack i got a clear case for it and it  i got a clear case for it and it like prvents me from being able to put the jack all the way in so the sound can b messsed up or i can get it in there and its playing well them go to move or something and it slides out .\\n0                                                                                                                                                                                                                 Picture and sound quality are excellent for this typ of devic .\\n1                                                                                                                                                 ...</td>\n",
       "      <td>3</td>\n",
       "    </tr>\n",
       "    <tr>\n",
       "      <th>49</th>\n",
       "      <td>video_ipod_nano_8gb</td>\n",
       "      <td>I bought the 8, gig Ipod Nano that has the built, in video camera .\\n0                                                                                                                                                                                                                      Itunes has an on, line store, where you may purchase and download music and videos which will install onto the ipod .\\n1                           ...</td>\n",
       "      <td>3</td>\n",
       "    </tr>\n",
       "  </tbody>\n",
       "</table>\n",
       "</div>"
      ],
      "text/plain": [
       "                       filename  \\\n",
       "2    battery-life_amazon_kindle   \n",
       "3    battery-life_ipod_nano_8gb   \n",
       "4   battery-life_netbook_1005ha   \n",
       "26   performance_netbook_1005ha   \n",
       "42          sound_ipod_nano_8gb   \n",
       "49          video_ipod_nano_8gb   \n",
       "\n",
       "                                                                                                                                                                                                                                                                                                                                                                                                                                                                                                                                                                                                                                                                                                                   opinion_text  \\\n",
       "2                                                                                                                                                                                                                After I plugged it in to my USB hub on my computer to charge the battery the charging cord design is very clever !\\n0                                                                                                                                     After you have paged tru a 500, page book one, page, at, a, time to get from Chapter 2 to Chapter 15, see how excited you are about a low battery and all the time it took to get there !\\n1                                                     ...   \n",
       "3                                                                                                                                                                                                                                                                                                  short battery life  I moved up from an 8gb .\\n0                                                                                                                                                                                                                                                                                            I love this ipod except for the battery life .\\n1                             ...   \n",
       "4                                                                                                                                                                                                                                                                                                                   6GHz 533FSB cpu, glossy display, 3, Cell 23Wh Li, ion Battery  , and a 1 .\\n0                                                                                                                                                                                                                                                                                              Not to mention that as of now...   \n",
       "26                                                                                                            The Eee Super Hybrid Engine utility lets users overclock or underclock their Eee PC's to boost performance or provide better battery life depending on their immediate requirements .\\n0                                                                                                                                                                                                                  In Super Performance mode CPU, Z shows the bus speed to increase up to 169 .\\n1                                                                                                                  One...   \n",
       "42      headphone jack i got a clear case for it and it  i got a clear case for it and it like prvents me from being able to put the jack all the way in so the sound can b messsed up or i can get it in there and its playing well them go to move or something and it slides out .\\n0                                                                                                                                                                                                                 Picture and sound quality are excellent for this typ of devic .\\n1                                                                                                                                                 ...   \n",
       "49                                                                                                                                                                                                                                                                           I bought the 8, gig Ipod Nano that has the built, in video camera .\\n0                                                                                                                                                                                                                      Itunes has an on, line store, where you may purchase and download music and videos which will install onto the ipod .\\n1                           ...   \n",
       "\n",
       "    cluster_label  \n",
       "2               3  \n",
       "3               3  \n",
       "4               3  \n",
       "26              3  \n",
       "42              3  \n",
       "49              3  "
      ]
     },
     "execution_count": 68,
     "metadata": {},
     "output_type": "execute_result"
    }
   ],
   "source": [
    "document_df[document_df['cluster_label']==3].sort_values(by='filename') # 전자기기 및 주요 구성 요소에 대한 리뷰로 군집화"
   ]
  },
  {
   "cell_type": "code",
   "execution_count": 69,
   "metadata": {
    "scrolled": true
   },
   "outputs": [
    {
     "data": {
      "text/html": [
       "<div>\n",
       "<style scoped>\n",
       "    .dataframe tbody tr th:only-of-type {\n",
       "        vertical-align: middle;\n",
       "    }\n",
       "\n",
       "    .dataframe tbody tr th {\n",
       "        vertical-align: top;\n",
       "    }\n",
       "\n",
       "    .dataframe thead th {\n",
       "        text-align: right;\n",
       "    }\n",
       "</style>\n",
       "<table border=\"1\" class=\"dataframe\">\n",
       "  <thead>\n",
       "    <tr style=\"text-align: right;\">\n",
       "      <th></th>\n",
       "      <th>filename</th>\n",
       "      <th>opinion_text</th>\n",
       "      <th>cluster_label</th>\n",
       "    </tr>\n",
       "  </thead>\n",
       "  <tbody>\n",
       "    <tr>\n",
       "      <th>0</th>\n",
       "      <td>accuracy_garmin_nuvi_255W_gps</td>\n",
       "      <td>, and is very, very accurate .\\n0                                                                                                                                                                           but for the most part, we find that the Garmin software provides accurate directions, whereever we intend to go .\\n1                                                                                                              This functi...</td>\n",
       "      <td>0</td>\n",
       "    </tr>\n",
       "    <tr>\n",
       "      <th>8</th>\n",
       "      <td>directions_garmin_nuvi_255W_gps</td>\n",
       "      <td>You also get upscale features like spoken directions including street names and programmable POIs .\\n0                                                                                                                                                                                                                                                                                                I used to hesitate to go out of my directions but no...</td>\n",
       "      <td>0</td>\n",
       "    </tr>\n",
       "    <tr>\n",
       "      <th>9</th>\n",
       "      <td>display_garmin_nuvi_255W_gps</td>\n",
       "      <td>3 quot  widescreen display was a bonus .\\n0                                                                                                                                           This made for smoother graphics on the 255w of the vehicle moving along displayed roads, where the 750's display was more of a  jerky  movement .\\n1                                                                                                                         ...</td>\n",
       "      <td>0</td>\n",
       "    </tr>\n",
       "    <tr>\n",
       "      <th>33</th>\n",
       "      <td>satellite_garmin_nuvi_255W_gps</td>\n",
       "      <td>It's fast to acquire satellites .\\n0    If you've ever had a  Brand X  GPS take you on some strange route that adds 20 minutes to your trip, has you turn the wrong way down a one way road, tell you to turn AFTER you've passed the street, frequently loses the satellite signal, or has old maps missing streets, you know how important this stuff is .\\n1                                                                 ...</td>\n",
       "      <td>0</td>\n",
       "    </tr>\n",
       "    <tr>\n",
       "      <th>34</th>\n",
       "      <td>screen_garmin_nuvi_255W_gps</td>\n",
       "      <td>It is easy to read and when touching the screen it works great !\\n0                                                                                                                                                                    and zoom out   buttons on the 255w to the same side of the screen which makes it a bit easier .\\n1                                                                                                                                                                           ...</td>\n",
       "      <td>0</td>\n",
       "    </tr>\n",
       "    <tr>\n",
       "      <th>43</th>\n",
       "      <td>speed_garmin_nuvi_255W_gps</td>\n",
       "      <td>Another feature on the 255w is a display of the posted speed limit on the road which you are currently on right above your current displayed speed .\\n0                                                                                                                                                                   I found myself not even looking at my car speedometer as I could easily see my current speed and the speed limit of my route at a glance .\\n1                                                                                       ...</td>\n",
       "      <td>0</td>\n",
       "    </tr>\n",
       "    <tr>\n",
       "      <th>47</th>\n",
       "      <td>transmission_toyota_camry_2007</td>\n",
       "      <td>After slowing down, transmission has to be  kicked  to speed up .\\n0                                                                                                                                                                                                                                                                       ...</td>\n",
       "      <td>0</td>\n",
       "    </tr>\n",
       "    <tr>\n",
       "      <th>48</th>\n",
       "      <td>updates_garmin_nuvi_255W_gps</td>\n",
       "      <td>Another thing to consider was that I paid $50 less for the 750 and it came with the FM transmitter cable and a USB cord to connect it to your computer for updates and downloads .\\n0                                                                                                                                                                                                update and reroute much _more_ quickly than my other GPS   .\\n1                                                                                                       UPDATE ON THIS ,  It finally turned out that to see the elevation contours at lowe...</td>\n",
       "      <td>0</td>\n",
       "    </tr>\n",
       "  </tbody>\n",
       "</table>\n",
       "</div>"
      ],
      "text/plain": [
       "                           filename  \\\n",
       "0     accuracy_garmin_nuvi_255W_gps   \n",
       "8   directions_garmin_nuvi_255W_gps   \n",
       "9      display_garmin_nuvi_255W_gps   \n",
       "33   satellite_garmin_nuvi_255W_gps   \n",
       "34      screen_garmin_nuvi_255W_gps   \n",
       "43       speed_garmin_nuvi_255W_gps   \n",
       "47   transmission_toyota_camry_2007   \n",
       "48     updates_garmin_nuvi_255W_gps   \n",
       "\n",
       "                                                                                                                                                                                                                                                                                                                                                                                                                                                                                                                                                                                                                                                                                                                   opinion_text  \\\n",
       "0                                                                                                                                                                                                                                                                  , and is very, very accurate .\\n0                                                                                                                                                                           but for the most part, we find that the Garmin software provides accurate directions, whereever we intend to go .\\n1                                                                                                              This functi...   \n",
       "8                                                                                                                                                                                                                                                                 You also get upscale features like spoken directions including street names and programmable POIs .\\n0                                                                                                                                                                                                                                                                                                I used to hesitate to go out of my directions but no...   \n",
       "9                                                                                                                                                                                                                                                        3 quot  widescreen display was a bonus .\\n0                                                                                                                                           This made for smoother graphics on the 255w of the vehicle moving along displayed roads, where the 750's display was more of a  jerky  movement .\\n1                                                                                                                         ...   \n",
       "33                                                                                                                                                                                                                                                                                          It's fast to acquire satellites .\\n0    If you've ever had a  Brand X  GPS take you on some strange route that adds 20 minutes to your trip, has you turn the wrong way down a one way road, tell you to turn AFTER you've passed the street, frequently loses the satellite signal, or has old maps missing streets, you know how important this stuff is .\\n1                                                                 ...   \n",
       "34                                                                                                                                                                                                      It is easy to read and when touching the screen it works great !\\n0                                                                                                                                                                    and zoom out   buttons on the 255w to the same side of the screen which makes it a bit easier .\\n1                                                                                                                                                                           ...   \n",
       "43                                                                                                                                                            Another feature on the 255w is a display of the posted speed limit on the road which you are currently on right above your current displayed speed .\\n0                                                                                                                                                                   I found myself not even looking at my car speedometer as I could easily see my current speed and the speed limit of my route at a glance .\\n1                                                                                       ...   \n",
       "47                                                                                                                                                                                                                                                                                                                                                                               After slowing down, transmission has to be  kicked  to speed up .\\n0                                                                                                                                                                                                                                                                       ...   \n",
       "48                                                                             Another thing to consider was that I paid $50 less for the 750 and it came with the FM transmitter cable and a USB cord to connect it to your computer for updates and downloads .\\n0                                                                                                                                                                                                update and reroute much _more_ quickly than my other GPS   .\\n1                                                                                                       UPDATE ON THIS ,  It finally turned out that to see the elevation contours at lowe...   \n",
       "\n",
       "    cluster_label  \n",
       "0               0  \n",
       "8               0  \n",
       "9               0  \n",
       "33              0  \n",
       "34              0  \n",
       "43              0  \n",
       "47              0  \n",
       "48              0  "
      ]
     },
     "execution_count": 69,
     "metadata": {},
     "output_type": "execute_result"
    }
   ],
   "source": [
    "document_df[document_df['cluster_label']==0].sort_values(by='filename') # 주로 차량용 네비에 대한 리뷰로 군집화"
   ]
  },
  {
   "cell_type": "code",
   "execution_count": 70,
   "metadata": {},
   "outputs": [
    {
     "data": {
      "text/html": [
       "<div>\n",
       "<style scoped>\n",
       "    .dataframe tbody tr th:only-of-type {\n",
       "        vertical-align: middle;\n",
       "    }\n",
       "\n",
       "    .dataframe tbody tr th {\n",
       "        vertical-align: top;\n",
       "    }\n",
       "\n",
       "    .dataframe thead th {\n",
       "        text-align: right;\n",
       "    }\n",
       "</style>\n",
       "<table border=\"1\" class=\"dataframe\">\n",
       "  <thead>\n",
       "    <tr style=\"text-align: right;\">\n",
       "      <th></th>\n",
       "      <th>filename</th>\n",
       "      <th>opinion_text</th>\n",
       "      <th>cluster_label</th>\n",
       "    </tr>\n",
       "  </thead>\n",
       "  <tbody>\n",
       "    <tr>\n",
       "      <th>0</th>\n",
       "      <td>accuracy_garmin_nuvi_255W_gps</td>\n",
       "      <td>, and is very, very accurate .\\n0                                                                                                                                                                           but for the most part, we find that the Garmin software provides accurate directions, whereever we intend to go .\\n1                                                                                                              This functi...</td>\n",
       "      <td>0</td>\n",
       "    </tr>\n",
       "    <tr>\n",
       "      <th>48</th>\n",
       "      <td>updates_garmin_nuvi_255W_gps</td>\n",
       "      <td>Another thing to consider was that I paid $50 less for the 750 and it came with the FM transmitter cable and a USB cord to connect it to your computer for updates and downloads .\\n0                                                                                                                                                                                                update and reroute much _more_ quickly than my other GPS   .\\n1                                                                                                       UPDATE ON THIS ,  It finally turned out that to see the elevation contours at lowe...</td>\n",
       "      <td>0</td>\n",
       "    </tr>\n",
       "    <tr>\n",
       "      <th>47</th>\n",
       "      <td>transmission_toyota_camry_2007</td>\n",
       "      <td>After slowing down, transmission has to be  kicked  to speed up .\\n0                                                                                                                                                                                                                                                                       ...</td>\n",
       "      <td>0</td>\n",
       "    </tr>\n",
       "    <tr>\n",
       "      <th>44</th>\n",
       "      <td>speed_windows7</td>\n",
       "      <td>Windows 7 is quite simply faster, more stable, boots faster, goes to sleep faster, comes back from sleep faster, manages your files better and on top of that it's beautiful to look at and easy to use .\\n0                                                                                                                                                                                                                                           , faster about 20% to 30% faster at running applications than my Vista ,  seriously\\n1                                                     ...</td>\n",
       "      <td>0</td>\n",
       "    </tr>\n",
       "    <tr>\n",
       "      <th>43</th>\n",
       "      <td>speed_garmin_nuvi_255W_gps</td>\n",
       "      <td>Another feature on the 255w is a display of the posted speed limit on the road which you are currently on right above your current displayed speed .\\n0                                                                                                                                                                   I found myself not even looking at my car speedometer as I could easily see my current speed and the speed limit of my route at a glance .\\n1                                                                                       ...</td>\n",
       "      <td>0</td>\n",
       "    </tr>\n",
       "    <tr>\n",
       "      <th>42</th>\n",
       "      <td>sound_ipod_nano_8gb</td>\n",
       "      <td>headphone jack i got a clear case for it and it  i got a clear case for it and it like prvents me from being able to put the jack all the way in so the sound can b messsed up or i can get it in there and its playing well them go to move or something and it slides out .\\n0                                                                                                                                                                                                                 Picture and sound quality are excellent for this typ of devic .\\n1                                                                                                                                                 ...</td>\n",
       "      <td>0</td>\n",
       "    </tr>\n",
       "    <tr>\n",
       "      <th>41</th>\n",
       "      <td>size_asus_netbook_1005ha</td>\n",
       "      <td>A few other things I'd like to point out is that you must push the micro, sized right angle end of the ac adapter until it snaps in place or the battery may not charge .\\n0                                                                                                                                                                                                                                                                                                           The full size right shift k...</td>\n",
       "      <td>0</td>\n",
       "    </tr>\n",
       "    <tr>\n",
       "      <th>36</th>\n",
       "      <td>screen_netbook_1005ha</td>\n",
       "      <td>Keep in mind that once you get in a room full of light or step outdoors screen reflections could become annoying .\\n0                                                                                                                                                                                                                                                                                                       I've used mine outsi...</td>\n",
       "      <td>0</td>\n",
       "    </tr>\n",
       "    <tr>\n",
       "      <th>35</th>\n",
       "      <td>screen_ipod_nano_8gb</td>\n",
       "      <td>As always, the video screen is sharp and bright .\\n0                                                                                                                                                                                                        2, inch screen   and a glossy, polished aluminum finish that one CNET editor described as looking like a Christmas tree ornament .\\n1                             ...</td>\n",
       "      <td>0</td>\n",
       "    </tr>\n",
       "    <tr>\n",
       "      <th>34</th>\n",
       "      <td>screen_garmin_nuvi_255W_gps</td>\n",
       "      <td>It is easy to read and when touching the screen it works great !\\n0                                                                                                                                                                    and zoom out   buttons on the 255w to the same side of the screen which makes it a bit easier .\\n1                                                                                                                                                                           ...</td>\n",
       "      <td>0</td>\n",
       "    </tr>\n",
       "    <tr>\n",
       "      <th>33</th>\n",
       "      <td>satellite_garmin_nuvi_255W_gps</td>\n",
       "      <td>It's fast to acquire satellites .\\n0    If you've ever had a  Brand X  GPS take you on some strange route that adds 20 minutes to your trip, has you turn the wrong way down a one way road, tell you to turn AFTER you've passed the street, frequently loses the satellite signal, or has old maps missing streets, you know how important this stuff is .\\n1                                                                 ...</td>\n",
       "      <td>0</td>\n",
       "    </tr>\n",
       "    <tr>\n",
       "      <th>27</th>\n",
       "      <td>price_amazon_kindle</td>\n",
       "      <td>If a case was included, as with the Kindle 1, that would have been reflected in a higher price .\\n0                                                                                                                                                                                                                                                                                lower overall price, with nice leather cover .\\n1                                                     ...</td>\n",
       "      <td>0</td>\n",
       "    </tr>\n",
       "    <tr>\n",
       "      <th>26</th>\n",
       "      <td>performance_netbook_1005ha</td>\n",
       "      <td>The Eee Super Hybrid Engine utility lets users overclock or underclock their Eee PC's to boost performance or provide better battery life depending on their immediate requirements .\\n0                                                                                                                                                                                                                  In Super Performance mode CPU, Z shows the bus speed to increase up to 169 .\\n1                                                                                                                  One...</td>\n",
       "      <td>0</td>\n",
       "    </tr>\n",
       "    <tr>\n",
       "      <th>49</th>\n",
       "      <td>video_ipod_nano_8gb</td>\n",
       "      <td>I bought the 8, gig Ipod Nano that has the built, in video camera .\\n0                                                                                                                                                                                                                      Itunes has an on, line store, where you may purchase and download music and videos which will install onto the ipod .\\n1                           ...</td>\n",
       "      <td>0</td>\n",
       "    </tr>\n",
       "    <tr>\n",
       "      <th>23</th>\n",
       "      <td>navigation_amazon_kindle</td>\n",
       "      <td>In fact, the entire navigation structure has been completely revised ,  I'm still getting used to it but it's a huge step forward .\\n0                                                                                                                                                                                                                                                                 ...</td>\n",
       "      <td>0</td>\n",
       "    </tr>\n",
       "    <tr>\n",
       "      <th>19</th>\n",
       "      <td>keyboard_netbook_1005ha</td>\n",
       "      <td>,  I think the new keyboard rivals the great hp mini keyboards .\\n0                                                                                                                                 Since the battery life difference is minimum, the only reason to upgrade would be to get the better keyboard .\\n1                                                                                                                                                                                   The keyboard is now as good as t...</td>\n",
       "      <td>0</td>\n",
       "    </tr>\n",
       "    <tr>\n",
       "      <th>50</th>\n",
       "      <td>voice_garmin_nuvi_255W_gps</td>\n",
       "      <td>The voice prompts and maps are wonderful especially when driving after dark .\\n0                                                                                                                                                                               I also thought the the voice prompts of the 750 where more pleasant sounding than the 255w's .\\n1                                                                                                                                                       ...</td>\n",
       "      <td>0</td>\n",
       "    </tr>\n",
       "    <tr>\n",
       "      <th>10</th>\n",
       "      <td>eyesight-issues_amazon_kindle</td>\n",
       "      <td>It feels as easy to read as the K1 but doesn't seem any crisper to my eyes   .\\n0                                                                                                                                                            the white is really GREY, and to avoid considerable eye, strain I had to refresh pages   every other page .\\n1                                    The dream has always been a portable electronic device that could hold a ton of reading material, automate subscriptions and fa...</td>\n",
       "      <td>0</td>\n",
       "    </tr>\n",
       "    <tr>\n",
       "      <th>4</th>\n",
       "      <td>battery-life_netbook_1005ha</td>\n",
       "      <td>6GHz 533FSB cpu, glossy display, 3, Cell 23Wh Li, ion Battery  , and a 1 .\\n0                                                                                                                                                                                                                                                                                              Not to mention that as of now...</td>\n",
       "      <td>0</td>\n",
       "    </tr>\n",
       "    <tr>\n",
       "      <th>3</th>\n",
       "      <td>battery-life_ipod_nano_8gb</td>\n",
       "      <td>short battery life  I moved up from an 8gb .\\n0                                                                                                                                                                                                                                                                                            I love this ipod except for the battery life .\\n1                             ...</td>\n",
       "      <td>0</td>\n",
       "    </tr>\n",
       "    <tr>\n",
       "      <th>8</th>\n",
       "      <td>directions_garmin_nuvi_255W_gps</td>\n",
       "      <td>You also get upscale features like spoken directions including street names and programmable POIs .\\n0                                                                                                                                                                                                                                                                                                I used to hesitate to go out of my directions but no...</td>\n",
       "      <td>0</td>\n",
       "    </tr>\n",
       "    <tr>\n",
       "      <th>9</th>\n",
       "      <td>display_garmin_nuvi_255W_gps</td>\n",
       "      <td>3 quot  widescreen display was a bonus .\\n0                                                                                                                                           This made for smoother graphics on the 255w of the vehicle moving along displayed roads, where the 750's display was more of a  jerky  movement .\\n1                                                                                                                         ...</td>\n",
       "      <td>0</td>\n",
       "    </tr>\n",
       "    <tr>\n",
       "      <th>11</th>\n",
       "      <td>features_windows7</td>\n",
       "      <td>I had to uninstall anti, virus and selected other programs, some of which did not have listings in the  Programs and Features  Control Panel section .\\n0                                                                                                                                                                                                                           This review briefly touches upon some of the key features and enhancements of Microsoft's latest OS .\\n1                                                 ...</td>\n",
       "      <td>0</td>\n",
       "    </tr>\n",
       "    <tr>\n",
       "      <th>12</th>\n",
       "      <td>fonts_amazon_kindle</td>\n",
       "      <td>Being able to change the font sizes is awesome !\\n0                                                                                                                                                                                                                                                                        For whatever reason, Amazon decided to make the Font on the Home Screen   ...</td>\n",
       "      <td>0</td>\n",
       "    </tr>\n",
       "    <tr>\n",
       "      <th>5</th>\n",
       "      <td>buttons_amazon_kindle</td>\n",
       "      <td>I thought it would be fitting to christen my Kindle with the Stephen King novella UR, so went to the Amazon site on my computer and clicked on the button to buy it .\\n0                                                                                                                                                                                                            As soon as I'd clicked the button to confirm my order it appeared on my Kindle almost immediately !\\n1                                                                                   ...</td>\n",
       "      <td>0</td>\n",
       "    </tr>\n",
       "    <tr>\n",
       "      <th>2</th>\n",
       "      <td>battery-life_amazon_kindle</td>\n",
       "      <td>After I plugged it in to my USB hub on my computer to charge the battery the charging cord design is very clever !\\n0                                                                                                                                     After you have paged tru a 500, page book one, page, at, a, time to get from Chapter 2 to Chapter 15, see how excited you are about a low battery and all the time it took to get there !\\n1                                                     ...</td>\n",
       "      <td>0</td>\n",
       "    </tr>\n",
       "    <tr>\n",
       "      <th>13</th>\n",
       "      <td>food_holiday_inn_london</td>\n",
       "      <td>The room was packed to capacity with queues at the food buffets .\\n0                                                                                                                                                   The over zealous   staff cleared our unfinished drinks while we were collecting cooked food and movement around the room with plates was difficult in the crowded circumstances .\\n1                                         ...</td>\n",
       "      <td>1</td>\n",
       "    </tr>\n",
       "    <tr>\n",
       "      <th>39</th>\n",
       "      <td>service_holiday_inn_london</td>\n",
       "      <td>not customer, oriented hotelvery low service levelboor reception\\n0                                                                                                                                                                                                                                                                    The room was quiet, clean, the bed and pillows were comfortable, and the serv...</td>\n",
       "      <td>1</td>\n",
       "    </tr>\n",
       "    <tr>\n",
       "      <th>38</th>\n",
       "      <td>service_bestwestern_hotel_sfo</td>\n",
       "      <td>Both of us having worked in tourism for over 14 years were very disappointed at the level of service provided by this gentleman .\\n0                                                                                                                                                                                              The service was good, very friendly staff and we loved the free wine reception each night .\\n1                                                                                                                               ...</td>\n",
       "      <td>1</td>\n",
       "    </tr>\n",
       "    <tr>\n",
       "      <th>1</th>\n",
       "      <td>bathroom_bestwestern_hotel_sfo</td>\n",
       "      <td>The room was not overly big, but clean and very comfortable beds, a great shower and very clean bathrooms .\\n0                                                                                                                                                                                                                          The second room was smaller, with a very inconvenient bathroom layout, but at least it was quieter and we were able to sleep .\\n1 ...</td>\n",
       "      <td>1</td>\n",
       "    </tr>\n",
       "    <tr>\n",
       "      <th>15</th>\n",
       "      <td>free_bestwestern_hotel_sfo</td>\n",
       "      <td>The wine reception is a great idea as it is nice to meet other travellers and great having access to the free Internet access in our room .\\n0                                                                                      They also have a computer available with free internet which is a nice bonus but I didn't find that out till the day before we left but was still able to get on there to check our flight to Vegas the next day .\\n1                                                                                                 ...</td>\n",
       "      <td>1</td>\n",
       "    </tr>\n",
       "    <tr>\n",
       "      <th>20</th>\n",
       "      <td>location_bestwestern_hotel_sfo</td>\n",
       "      <td>Good Value good location ,  ideal choice .\\n0                                                                                                                                                                                                                                                                                          Great Location ,  Nice   Rooms ,  Helpless Concierge\\n1                     ...</td>\n",
       "      <td>1</td>\n",
       "    </tr>\n",
       "    <tr>\n",
       "      <th>21</th>\n",
       "      <td>location_holiday_inn_london</td>\n",
       "      <td>Great location for tube and we crammed in a fair amount of sightseeing in a short time .\\n0                                                                                                                                                                                                                                                                All in all, a normal chain hotel on a nice lo...</td>\n",
       "      <td>1</td>\n",
       "    </tr>\n",
       "    <tr>\n",
       "      <th>45</th>\n",
       "      <td>staff_bestwestern_hotel_sfo</td>\n",
       "      <td>Staff are friendl...</td>\n",
       "      <td>1</td>\n",
       "    </tr>\n",
       "    <tr>\n",
       "      <th>32</th>\n",
       "      <td>room_holiday_inn_london</td>\n",
       "      <td>We arrived at 23,30 hours and they could not recommend a restaurant so we decided to go to Tesco, with very limited choices but when you are hingry you do not careNext day they rang the bell at 8,00 hours to clean the room, not being very nice being waken up so earlyEvery day they gave u...</td>\n",
       "      <td>1</td>\n",
       "    </tr>\n",
       "    <tr>\n",
       "      <th>31</th>\n",
       "      <td>rooms_swissotel_chicago</td>\n",
       "      <td>The Swissotel is one of our favorite hotels in Chicago and the corner rooms have the most fantastic views in the city .\\n0                                                                                                                                   The rooms look like they were just remodled and upgraded, there was an HD TV and a nice iHome docking station to put my iPod so I could set the alarm to wake up with my music instead of the radio .\\n1                                 ...</td>\n",
       "      <td>1</td>\n",
       "    </tr>\n",
       "    <tr>\n",
       "      <th>30</th>\n",
       "      <td>rooms_bestwestern_hotel_sfo</td>\n",
       "      <td>Great Location ,  Nice   Rooms ,  H...</td>\n",
       "      <td>1</td>\n",
       "    </tr>\n",
       "    <tr>\n",
       "      <th>40</th>\n",
       "      <td>service_swissotel_hotel_chicago</td>\n",
       "      <td>Mediocre room and service for a very extravagant price .\\n0                                                                                                                                                                                                                                                                                                             ...</td>\n",
       "      <td>1</td>\n",
       "    </tr>\n",
       "    <tr>\n",
       "      <th>28</th>\n",
       "      <td>price_holiday_inn_london</td>\n",
       "      <td>All in all, a normal chain hotel on a nice location  , I will be back if I do not find anthing closer to Picadilly for a better price .\\n0                                                                                                                                                                                                                 ...</td>\n",
       "      <td>1</td>\n",
       "    </tr>\n",
       "    <tr>\n",
       "      <th>14</th>\n",
       "      <td>food_swissotel_chicago</td>\n",
       "      <td>The food for our event was delicious .\\n0                                                                                                                                                                                                                                                                                                              ...</td>\n",
       "      <td>1</td>\n",
       "    </tr>\n",
       "    <tr>\n",
       "      <th>24</th>\n",
       "      <td>parking_bestwestern_hotel_sfo</td>\n",
       "      <td>Parking was expensive but I think this is common for San Fran .\\n0                                                                                                                                                                                        there is a fee for parking but well worth it seeing no where to park if you do have a car .\\n1                                                                                                                                           ...</td>\n",
       "      <td>1</td>\n",
       "    </tr>\n",
       "    <tr>\n",
       "      <th>46</th>\n",
       "      <td>staff_swissotel_chicago</td>\n",
       "      <td>The staff at Swissotel were not particularly nice .\\n0                                                                                                                                                               Each time I waited at the counter for staff   for several minutes and then was waved to the desk upon my turn with no hello or anything, or apology for waiting in line .\\n1                                 ...</td>\n",
       "      <td>1</td>\n",
       "    </tr>\n",
       "    <tr>\n",
       "      <th>17</th>\n",
       "      <td>interior_honda_accord_2008</td>\n",
       "      <td>I love the new body style and the interior is a simple pleasure except for the center dash .\\n0                                                                                                                                              ...</td>\n",
       "      <td>2</td>\n",
       "    </tr>\n",
       "    <tr>\n",
       "      <th>37</th>\n",
       "      <td>seats_honda_accord_2008</td>\n",
       "      <td>Front seats are very uncomfortable .\\n0                                                                                                                                                                                                                                  No memory seats, no trip computer, can only display outside temp with trip odometer .\\n1                                                                   ...</td>\n",
       "      <td>2</td>\n",
       "    </tr>\n",
       "    <tr>\n",
       "      <th>7</th>\n",
       "      <td>comfort_toyota_camry_2007</td>\n",
       "      <td>Ride seems comfortable and gas mileage fairly good averaging 26 city and 30 open road .\\n0                                                                                                        Seats are fine, in fact of all the smaller sedans this is the most comfortable I found for the price as I am 6', 2  and 250# .\\n1                                                                                                                                                                                     Great gas mileage and comfortable on long trips ...</td>\n",
       "      <td>2</td>\n",
       "    </tr>\n",
       "    <tr>\n",
       "      <th>16</th>\n",
       "      <td>gas_mileage_toyota_camry_2007</td>\n",
       "      <td>Ride seems comfortable and gas mileage fairly good averaging 26 city and 30 open road .\\n0                                                                                                                                                                                                                                                  ...</td>\n",
       "      <td>2</td>\n",
       "    </tr>\n",
       "    <tr>\n",
       "      <th>29</th>\n",
       "      <td>quality_toyota_camry_2007</td>\n",
       "      <td>I previously owned a Toyota 4Runner which had incredible build quality and reliability .\\n0                                                                                                                                                                                                                                                                                               I bought the Camry because of Toyota reliability and qua...</td>\n",
       "      <td>2</td>\n",
       "    </tr>\n",
       "    <tr>\n",
       "      <th>22</th>\n",
       "      <td>mileage_honda_accord_2008</td>\n",
       "      <td>It's quiet, get good gas mileage and looks clean inside and out .\\n0                                                                                                                                                                     The mileage is great, and I've had to get used to stopping less for gas .\\n1                                                                                                                                                                                                         Thought gas ...</td>\n",
       "      <td>2</td>\n",
       "    </tr>\n",
       "    <tr>\n",
       "      <th>18</th>\n",
       "      <td>interior_toyota_camry_2007</td>\n",
       "      <td>First of all, the interior has way too many cheap plastic parts like the cheap plastic center piece that houses the clock .\\n0                                                                                                                                                                       3 blown struts at 30,000 miles, interior trim coming loose and rattling squeaking, stains on paint, and bug splats taking paint off, premature uneven brake wear, on 3rd windsh...</td>\n",
       "      <td>2</td>\n",
       "    </tr>\n",
       "    <tr>\n",
       "      <th>6</th>\n",
       "      <td>comfort_honda_accord_2008</td>\n",
       "      <td>Drivers seat not comfortable, the car itself compared to other models of similar class .\\n0                                                                                                                                                                                                                               ...</td>\n",
       "      <td>2</td>\n",
       "    </tr>\n",
       "    <tr>\n",
       "      <th>25</th>\n",
       "      <td>performance_honda_accord_2008</td>\n",
       "      <td>Very happy with my 08 Accord, performance is quite adequate it has nice looks and is a great long,  distance cruiser .\\n0                                                                                                                                 6, 4, 3 eco engine has poor performance and gas mileage of 22 highway .\\n1                                                                                                                                                 Overall performance is good but comfort level is poor .\\n2                                                                                      ...</td>\n",
       "      <td>2</td>\n",
       "    </tr>\n",
       "  </tbody>\n",
       "</table>\n",
       "</div>"
      ],
      "text/plain": [
       "                           filename  \\\n",
       "0     accuracy_garmin_nuvi_255W_gps   \n",
       "48     updates_garmin_nuvi_255W_gps   \n",
       "47   transmission_toyota_camry_2007   \n",
       "44                   speed_windows7   \n",
       "43       speed_garmin_nuvi_255W_gps   \n",
       "42              sound_ipod_nano_8gb   \n",
       "41         size_asus_netbook_1005ha   \n",
       "36            screen_netbook_1005ha   \n",
       "35             screen_ipod_nano_8gb   \n",
       "34      screen_garmin_nuvi_255W_gps   \n",
       "33   satellite_garmin_nuvi_255W_gps   \n",
       "27              price_amazon_kindle   \n",
       "26       performance_netbook_1005ha   \n",
       "49              video_ipod_nano_8gb   \n",
       "23         navigation_amazon_kindle   \n",
       "19          keyboard_netbook_1005ha   \n",
       "50       voice_garmin_nuvi_255W_gps   \n",
       "10    eyesight-issues_amazon_kindle   \n",
       "4       battery-life_netbook_1005ha   \n",
       "3        battery-life_ipod_nano_8gb   \n",
       "8   directions_garmin_nuvi_255W_gps   \n",
       "9      display_garmin_nuvi_255W_gps   \n",
       "11                features_windows7   \n",
       "12              fonts_amazon_kindle   \n",
       "5             buttons_amazon_kindle   \n",
       "2        battery-life_amazon_kindle   \n",
       "13          food_holiday_inn_london   \n",
       "39       service_holiday_inn_london   \n",
       "38    service_bestwestern_hotel_sfo   \n",
       "1    bathroom_bestwestern_hotel_sfo   \n",
       "15       free_bestwestern_hotel_sfo   \n",
       "20   location_bestwestern_hotel_sfo   \n",
       "21      location_holiday_inn_london   \n",
       "45      staff_bestwestern_hotel_sfo   \n",
       "32          room_holiday_inn_london   \n",
       "31          rooms_swissotel_chicago   \n",
       "30      rooms_bestwestern_hotel_sfo   \n",
       "40  service_swissotel_hotel_chicago   \n",
       "28         price_holiday_inn_london   \n",
       "14           food_swissotel_chicago   \n",
       "24    parking_bestwestern_hotel_sfo   \n",
       "46          staff_swissotel_chicago   \n",
       "17       interior_honda_accord_2008   \n",
       "37          seats_honda_accord_2008   \n",
       "7         comfort_toyota_camry_2007   \n",
       "16    gas_mileage_toyota_camry_2007   \n",
       "29        quality_toyota_camry_2007   \n",
       "22        mileage_honda_accord_2008   \n",
       "18       interior_toyota_camry_2007   \n",
       "6         comfort_honda_accord_2008   \n",
       "25    performance_honda_accord_2008   \n",
       "\n",
       "                                                                                                                                                                                                                                                                                                                                                                                                                                                                                                                                                                                                                                                                                                                   opinion_text  \\\n",
       "0                                                                                                                                                                                                                                                                  , and is very, very accurate .\\n0                                                                                                                                                                           but for the most part, we find that the Garmin software provides accurate directions, whereever we intend to go .\\n1                                                                                                              This functi...   \n",
       "48                                                                             Another thing to consider was that I paid $50 less for the 750 and it came with the FM transmitter cable and a USB cord to connect it to your computer for updates and downloads .\\n0                                                                                                                                                                                                update and reroute much _more_ quickly than my other GPS   .\\n1                                                                                                       UPDATE ON THIS ,  It finally turned out that to see the elevation contours at lowe...   \n",
       "47                                                                                                                                                                                                                                                                                                                                                                               After slowing down, transmission has to be  kicked  to speed up .\\n0                                                                                                                                                                                                                                                                       ...   \n",
       "44                                                                                                                        Windows 7 is quite simply faster, more stable, boots faster, goes to sleep faster, comes back from sleep faster, manages your files better and on top of that it's beautiful to look at and easy to use .\\n0                                                                                                                                                                                                                                           , faster about 20% to 30% faster at running applications than my Vista ,  seriously\\n1                                                     ...   \n",
       "43                                                                                                                                                            Another feature on the 255w is a display of the posted speed limit on the road which you are currently on right above your current displayed speed .\\n0                                                                                                                                                                   I found myself not even looking at my car speedometer as I could easily see my current speed and the speed limit of my route at a glance .\\n1                                                                                       ...   \n",
       "42      headphone jack i got a clear case for it and it  i got a clear case for it and it like prvents me from being able to put the jack all the way in so the sound can b messsed up or i can get it in there and its playing well them go to move or something and it slides out .\\n0                                                                                                                                                                                                                 Picture and sound quality are excellent for this typ of devic .\\n1                                                                                                                                                 ...   \n",
       "41                                                                                                                                                                                                        A few other things I'd like to point out is that you must push the micro, sized right angle end of the ac adapter until it snaps in place or the battery may not charge .\\n0                                                                                                                                                                                                                                                                                                           The full size right shift k...   \n",
       "36                                                                                                                                                                                                                                                                          Keep in mind that once you get in a room full of light or step outdoors screen reflections could become annoying .\\n0                                                                                                                                                                                                                                                                                                       I've used mine outsi...   \n",
       "35                                                                                                                                                                                                                                                                                            As always, the video screen is sharp and bright .\\n0                                                                                                                                                                                                        2, inch screen   and a glossy, polished aluminum finish that one CNET editor described as looking like a Christmas tree ornament .\\n1                             ...   \n",
       "34                                                                                                                                                                                                      It is easy to read and when touching the screen it works great !\\n0                                                                                                                                                                    and zoom out   buttons on the 255w to the same side of the screen which makes it a bit easier .\\n1                                                                                                                                                                           ...   \n",
       "33                                                                                                                                                                                                                                                                                          It's fast to acquire satellites .\\n0    If you've ever had a  Brand X  GPS take you on some strange route that adds 20 minutes to your trip, has you turn the wrong way down a one way road, tell you to turn AFTER you've passed the street, frequently loses the satellite signal, or has old maps missing streets, you know how important this stuff is .\\n1                                                                 ...   \n",
       "27                                                                                                                                                                                                                                 If a case was included, as with the Kindle 1, that would have been reflected in a higher price .\\n0                                                                                                                                                                                                                                                                                lower overall price, with nice leather cover .\\n1                                                     ...   \n",
       "26                                                                                                            The Eee Super Hybrid Engine utility lets users overclock or underclock their Eee PC's to boost performance or provide better battery life depending on their immediate requirements .\\n0                                                                                                                                                                                                                  In Super Performance mode CPU, Z shows the bus speed to increase up to 169 .\\n1                                                                                                                  One...   \n",
       "49                                                                                                                                                                                                                                                                           I bought the 8, gig Ipod Nano that has the built, in video camera .\\n0                                                                                                                                                                                                                      Itunes has an on, line store, where you may purchase and download music and videos which will install onto the ipod .\\n1                           ...   \n",
       "23                                                                                                                                                                                                                                                                                                                   In fact, the entire navigation structure has been completely revised ,  I'm still getting used to it but it's a huge step forward .\\n0                                                                                                                                                                                                                                                                 ...   \n",
       "19                                                                                                                                                                                  ,  I think the new keyboard rivals the great hp mini keyboards .\\n0                                                                                                                                 Since the battery life difference is minimum, the only reason to upgrade would be to get the better keyboard .\\n1                                                                                                                                                                                   The keyboard is now as good as t...   \n",
       "50                                                                                                                                                                                                   The voice prompts and maps are wonderful especially when driving after dark .\\n0                                                                                                                                                                               I also thought the the voice prompts of the 750 where more pleasant sounding than the 255w's .\\n1                                                                                                                                                       ...   \n",
       "10                                                                                                                                                                                            It feels as easy to read as the K1 but doesn't seem any crisper to my eyes   .\\n0                                                                                                                                                            the white is really GREY, and to avoid considerable eye, strain I had to refresh pages   every other page .\\n1                                    The dream has always been a portable electronic device that could hold a ton of reading material, automate subscriptions and fa...   \n",
       "4                                                                                                                                                                                                                                                                                                                   6GHz 533FSB cpu, glossy display, 3, Cell 23Wh Li, ion Battery  , and a 1 .\\n0                                                                                                                                                                                                                                                                                              Not to mention that as of now...   \n",
       "3                                                                                                                                                                                                                                                                                                  short battery life  I moved up from an 8gb .\\n0                                                                                                                                                                                                                                                                                            I love this ipod except for the battery life .\\n1                             ...   \n",
       "8                                                                                                                                                                                                                                                                 You also get upscale features like spoken directions including street names and programmable POIs .\\n0                                                                                                                                                                                                                                                                                                I used to hesitate to go out of my directions but no...   \n",
       "9                                                                                                                                                                                                                                                        3 quot  widescreen display was a bonus .\\n0                                                                                                                                           This made for smoother graphics on the 255w of the vehicle moving along displayed roads, where the 750's display was more of a  jerky  movement .\\n1                                                                                                                         ...   \n",
       "11                                                                                                                                                                             I had to uninstall anti, virus and selected other programs, some of which did not have listings in the  Programs and Features  Control Panel section .\\n0                                                                                                                                                                                                                           This review briefly touches upon some of the key features and enhancements of Microsoft's latest OS .\\n1                                                 ...   \n",
       "12                                                                                                                                                                                                                                                                                                                     Being able to change the font sizes is awesome !\\n0                                                                                                                                                                                                                                                                        For whatever reason, Amazon decided to make the Font on the Home Screen   ...   \n",
       "5                                                                                                                                              I thought it would be fitting to christen my Kindle with the Stephen King novella UR, so went to the Amazon site on my computer and clicked on the button to buy it .\\n0                                                                                                                                                                                                            As soon as I'd clicked the button to confirm my order it appeared on my Kindle almost immediately !\\n1                                                                                   ...   \n",
       "2                                                                                                                                                                                                                After I plugged it in to my USB hub on my computer to charge the battery the charging cord design is very clever !\\n0                                                                                                                                     After you have paged tru a 500, page book one, page, at, a, time to get from Chapter 2 to Chapter 15, see how excited you are about a low battery and all the time it took to get there !\\n1                                                     ...   \n",
       "13                                                                                                                                                                                                                                                                      The room was packed to capacity with queues at the food buffets .\\n0                                                                                                                                                   The over zealous   staff cleared our unfinished drinks while we were collecting cooked food and movement around the room with plates was difficult in the crowded circumstances .\\n1                                         ...   \n",
       "39                                                                                                                                                                                                                                                                                                      not customer, oriented hotelvery low service levelboor reception\\n0                                                                                                                                                                                                                                                                    The room was quiet, clean, the bed and pillows were comfortable, and the serv...   \n",
       "38                                                                                                                                                           Both of us having worked in tourism for over 14 years were very disappointed at the level of service provided by this gentleman .\\n0                                                                                                                                                                                              The service was good, very friendly staff and we loved the free wine reception each night .\\n1                                                                                                                               ...   \n",
       "1                                                                                                                                                                                                                                                 The room was not overly big, but clean and very comfortable beds, a great shower and very clean bathrooms .\\n0                                                                                                                                                                                                                          The second room was smaller, with a very inconvenient bathroom layout, but at least it was quieter and we were able to sleep .\\n1 ...   \n",
       "15                                                                                                                                                                The wine reception is a great idea as it is nice to meet other travellers and great having access to the free Internet access in our room .\\n0                                                                                      They also have a computer available with free internet which is a nice bonus but I didn't find that out till the day before we left but was still able to get on there to check our flight to Vegas the next day .\\n1                                                                                                 ...   \n",
       "20                                                                                                                                                                                                                                                                                                       Good Value good location ,  ideal choice .\\n0                                                                                                                                                                                                                                                                                          Great Location ,  Nice   Rooms ,  Helpless Concierge\\n1                     ...   \n",
       "21                                                                                                                                                                                                                                                                                                                  Great location for tube and we crammed in a fair amount of sightseeing in a short time .\\n0                                                                                                                                                                                                                                                                All in all, a normal chain hotel on a nice lo...   \n",
       "45                                                                                                                                                                                                                                                                                                                                                                                                                                                                                                                                                                                                                                                                                                         Staff are friendl...   \n",
       "32                                                                                                                                                                                                                                                                                                                                                                                                                          We arrived at 23,30 hours and they could not recommend a restaurant so we decided to go to Tesco, with very limited choices but when you are hingry you do not careNext day they rang the bell at 8,00 hours to clean the room, not being very nice being waken up so earlyEvery day they gave u...   \n",
       "31                                                                                                                                                                                                                    The Swissotel is one of our favorite hotels in Chicago and the corner rooms have the most fantastic views in the city .\\n0                                                                                                                                   The rooms look like they were just remodled and upgraded, there was an HD TV and a nice iHome docking station to put my iPod so I could set the alarm to wake up with my music instead of the radio .\\n1                                 ...   \n",
       "30                                                                                                                                                                                                                                                                                                                                                                                                                                                                                                                                                                                                                                                                                       Great Location ,  Nice   Rooms ,  H...   \n",
       "40                                                                                                                                                                                                                                                                                                                                                  Mediocre room and service for a very extravagant price .\\n0                                                                                                                                                                                                                                                                                                             ...   \n",
       "28                                                                                                                                                                                                                                                                                                                                                               All in all, a normal chain hotel on a nice location  , I will be back if I do not find anthing closer to Picadilly for a better price .\\n0                                                                                                                                                                                                                 ...   \n",
       "14                                                                                                                                                                                                                                                                                                                                                                   The food for our event was delicious .\\n0                                                                                                                                                                                                                                                                                                              ...   \n",
       "24                                                                                                                                                                                                                       Parking was expensive but I think this is common for San Fran .\\n0                                                                                                                                                                                        there is a fee for parking but well worth it seeing no where to park if you do have a car .\\n1                                                                                                                                           ...   \n",
       "46                                                                                                                                                                                                                                                                                        The staff at Swissotel were not particularly nice .\\n0                                                                                                                                                               Each time I waited at the counter for staff   for several minutes and then was waved to the desk upon my turn with no hello or anything, or apology for waiting in line .\\n1                                 ...   \n",
       "17                                                                                                                                                                                                                                                                                                                                                                                                                                                                             I love the new body style and the interior is a simple pleasure except for the center dash .\\n0                                                                                                                                              ...   \n",
       "37                                                                                                                                                                                                                                                                                      Front seats are very uncomfortable .\\n0                                                                                                                                                                                                                                  No memory seats, no trip computer, can only display outside temp with trip odometer .\\n1                                                                   ...   \n",
       "7                                                                                                                                                   Ride seems comfortable and gas mileage fairly good averaging 26 city and 30 open road .\\n0                                                                                                        Seats are fine, in fact of all the smaller sedans this is the most comfortable I found for the price as I am 6', 2  and 250# .\\n1                                                                                                                                                                                     Great gas mileage and comfortable on long trips ...   \n",
       "16                                                                                                                                                                                                                                                                                                                                                                              Ride seems comfortable and gas mileage fairly good averaging 26 city and 30 open road .\\n0                                                                                                                                                                                                                                                  ...   \n",
       "29                                                                                                                                                                                                                                                                        I previously owned a Toyota 4Runner which had incredible build quality and reliability .\\n0                                                                                                                                                                                                                                                                                               I bought the Camry because of Toyota reliability and qua...   \n",
       "22                                                                                                                                                                                It's quiet, get good gas mileage and looks clean inside and out .\\n0                                                                                                                                                                     The mileage is great, and I've had to get used to stopping less for gas .\\n1                                                                                                                                                                                                         Thought gas ...   \n",
       "18                                                                                                                                                                                                                                      First of all, the interior has way too many cheap plastic parts like the cheap plastic center piece that houses the clock .\\n0                                                                                                                                                                       3 blown struts at 30,000 miles, interior trim coming loose and rattling squeaking, stains on paint, and bug splats taking paint off, premature uneven brake wear, on 3rd windsh...   \n",
       "6                                                                                                                                                                                                                                                                                                                                                                                                 Drivers seat not comfortable, the car itself compared to other models of similar class .\\n0                                                                                                                                                                                                                               ...   \n",
       "25                                                                                     Very happy with my 08 Accord, performance is quite adequate it has nice looks and is a great long,  distance cruiser .\\n0                                                                                                                                 6, 4, 3 eco engine has poor performance and gas mileage of 22 highway .\\n1                                                                                                                                                 Overall performance is good but comfort level is poor .\\n2                                                                                      ...   \n",
       "\n",
       "    cluster_label  \n",
       "0               0  \n",
       "48              0  \n",
       "47              0  \n",
       "44              0  \n",
       "43              0  \n",
       "42              0  \n",
       "41              0  \n",
       "36              0  \n",
       "35              0  \n",
       "34              0  \n",
       "33              0  \n",
       "27              0  \n",
       "26              0  \n",
       "49              0  \n",
       "23              0  \n",
       "19              0  \n",
       "50              0  \n",
       "10              0  \n",
       "4               0  \n",
       "3               0  \n",
       "8               0  \n",
       "9               0  \n",
       "11              0  \n",
       "12              0  \n",
       "5               0  \n",
       "2               0  \n",
       "13              1  \n",
       "39              1  \n",
       "38              1  \n",
       "1               1  \n",
       "15              1  \n",
       "20              1  \n",
       "21              1  \n",
       "45              1  \n",
       "32              1  \n",
       "31              1  \n",
       "30              1  \n",
       "40              1  \n",
       "28              1  \n",
       "14              1  \n",
       "24              1  \n",
       "46              1  \n",
       "17              2  \n",
       "37              2  \n",
       "7               2  \n",
       "16              2  \n",
       "29              2  \n",
       "22              2  \n",
       "18              2  \n",
       "6               2  \n",
       "25              2  "
      ]
     },
     "execution_count": 70,
     "metadata": {},
     "output_type": "execute_result"
    }
   ],
   "source": [
    "# 중심개수 3개로 낮춰 군집화\n",
    "km_cluster = KMeans(n_clusters=3, max_iter=10000, random_state=0)\n",
    "km_cluster.fit(feature_vect)\n",
    "cluster_label = km_cluster.labels_\n",
    "\n",
    "document_df['cluster_label'] = cluster_label\n",
    "document_df.sort_values(by='cluster_label')"
   ]
  },
  {
   "cell_type": "markdown",
   "metadata": {},
   "source": [
    "#### 군집별 핵심 단어 추출"
   ]
  },
  {
   "cell_type": "code",
   "execution_count": 71,
   "metadata": {
    "scrolled": true
   },
   "outputs": [
    {
     "name": "stdout",
     "output_type": "stream",
     "text": [
      "(3, 4630)\n",
      "[[0.00965052 0.         0.         ... 0.00677953 0.         0.        ]\n",
      " [0.         0.00099345 0.00174248 ... 0.         0.00183225 0.00144448]\n",
      " [0.         0.0010274  0.         ... 0.         0.         0.        ]]\n"
     ]
    }
   ],
   "source": [
    "cluster_centers = km_cluster.cluster_centers_\n",
    "print(cluster_centers.shape)\n",
    "print(cluster_centers)\n",
    "# 군집 3개, word 피처가 4630 개로 구성되었음\n",
    "# 1에 가까울수록 중심과 가까운 값임"
   ]
  },
  {
   "cell_type": "code",
   "execution_count": 72,
   "metadata": {},
   "outputs": [],
   "source": [
    "# 군집별 top n 핵심단어, 그 단어의 중심 위치 상대값, 대상 파일명들을 반환함. \n",
    "def get_cluster_details(cluster_model, cluster_data, feature_names, clusters_num, top_n_features=10):\n",
    "    cluster_details = {}\n",
    "    \n",
    "    # cluster_centers array 의 값이 큰 순으로 정렬된 index 값을 반환\n",
    "    # 군집 중심점(centroid)별 할당된 word 피처들의 거리값이 큰 순으로 값을 구하기 위함.  \n",
    "    centroid_feature_ordered_ind = cluster_model.cluster_centers_.argsort()[:,::-1]\n",
    "    \n",
    "    #개별 군집별로 iteration하면서 핵심단어, 그 단어의 중심 위치 상대값, 대상 파일명 입력\n",
    "    for cluster_num in range(clusters_num):\n",
    "        # 개별 군집별 정보를 담을 데이터 초기화. \n",
    "        cluster_details[cluster_num] = {}\n",
    "        cluster_details[cluster_num]['cluster'] = cluster_num\n",
    "        \n",
    "        # cluster_centers_.argsort()[:,::-1] 로 구한 index 를 이용하여 top n 피처 단어를 구함. \n",
    "        top_feature_indexes = centroid_feature_ordered_ind[cluster_num, :top_n_features]\n",
    "        top_features = [ feature_names[ind] for ind in top_feature_indexes ]\n",
    "        \n",
    "        # top_feature_indexes를 이용해 해당 피처 단어의 중심 위치 상댓값 구함 \n",
    "        top_feature_values = cluster_model.cluster_centers_[cluster_num, top_feature_indexes].tolist()\n",
    "        \n",
    "        # cluster_details 딕셔너리 객체에 개별 군집별 핵심 단어와 중심위치 상대값, 그리고 해당 파일명 입력\n",
    "        cluster_details[cluster_num]['top_features'] = top_features\n",
    "        cluster_details[cluster_num]['top_features_value'] = top_feature_values\n",
    "        filenames = cluster_data[cluster_data['cluster_label'] == cluster_num]['filename']\n",
    "        filenames = filenames.values.tolist()\n",
    "        cluster_details[cluster_num]['filenames'] = filenames\n",
    "        \n",
    "    return cluster_details"
   ]
  },
  {
   "cell_type": "code",
   "execution_count": 73,
   "metadata": {},
   "outputs": [],
   "source": [
    "def print_cluster_details(cluster_details):\n",
    "    for cluster_num, cluster_detail in cluster_details.items():\n",
    "        print('####### Cluster {0}'.format(cluster_num))\n",
    "        print('Top features:', cluster_detail['top_features'])\n",
    "        print('Reviews 파일명 :',cluster_detail['filenames'][:7])\n",
    "        print('==================================================')"
   ]
  },
  {
   "cell_type": "code",
   "execution_count": 74,
   "metadata": {
    "scrolled": true
   },
   "outputs": [
    {
     "name": "stdout",
     "output_type": "stream",
     "text": [
      "####### Cluster 0\n",
      "Top features: ['screen', 'battery', 'keyboard', 'battery life', 'life', 'kindle', 'video', 'direction', 'size', 'voice']\n",
      "Reviews 파일명 : ['accuracy_garmin_nuvi_255W_gps', 'battery-life_amazon_kindle', 'battery-life_ipod_nano_8gb', 'battery-life_netbook_1005ha', 'buttons_amazon_kindle', 'directions_garmin_nuvi_255W_gps', 'display_garmin_nuvi_255W_gps']\n",
      "==================================================\n",
      "####### Cluster 1\n",
      "Top features: ['room', 'hotel', 'service', 'staff', 'food', 'location', 'bathroom', 'clean', 'price', 'parking']\n",
      "Reviews 파일명 : ['bathroom_bestwestern_hotel_sfo', 'food_holiday_inn_london', 'food_swissotel_chicago', 'free_bestwestern_hotel_sfo', 'location_bestwestern_hotel_sfo', 'location_holiday_inn_london', 'parking_bestwestern_hotel_sfo']\n",
      "==================================================\n",
      "####### Cluster 2\n",
      "Top features: ['interior', 'seat', 'mileage', 'comfortable', 'gas', 'gas mileage', 'car', 'performance', 'quality', 'comfort']\n",
      "Reviews 파일명 : ['comfort_honda_accord_2008', 'comfort_toyota_camry_2007', 'gas_mileage_toyota_camry_2007', 'interior_honda_accord_2008', 'interior_toyota_camry_2007', 'mileage_honda_accord_2008', 'performance_honda_accord_2008']\n",
      "==================================================\n"
     ]
    }
   ],
   "source": [
    "feature_names = tfidf_vect.get_feature_names()\n",
    "\n",
    "cluster_details = get_cluster_details(cluster_model=km_cluster, cluster_data=document_df,\\\n",
    "                                  feature_names=feature_names, clusters_num=3, top_n_features=10 )\n",
    "print_cluster_details(cluster_details)"
   ]
  },
  {
   "cell_type": "markdown",
   "metadata": {},
   "source": [
    "### 8. 문서 유사도"
   ]
  },
  {
   "cell_type": "markdown",
   "metadata": {},
   "source": [
    "#### 문서 유사도 측정 방법 - 코사인 유사도\n",
    "- 벡터와 벡터 간의 유사도 비교할 때 벡터의 크기보다는 벡터의 상호 방향성이 얼마나 유사한지에 기반\n",
    "- 두 벡터 사이의 사잇각 구해서 얼마나 유사한지 수치로 적용"
   ]
  },
  {
   "attachments": {
    "image-2.png": {
     "image/png": "[encoded data removed]"
    },
    "image.png": {
     "image/png": "[encoded data removed]"
    }
   },
   "cell_type": "markdown",
   "metadata": {},
   "source": [
    "#### 두 벡터 사잇각\n",
    "![image.png](attachment:image.png)\n",
    "![image-2.png](attachment:image-2.png)"
   ]
  },
  {
   "cell_type": "code",
   "execution_count": 75,
   "metadata": {},
   "outputs": [],
   "source": [
    "def cos_similarity(v1, v2):\n",
    "    dot_product = np.dot(v1, v2)\n",
    "    l2_norm = (np.sqrt(sum(np.square(v1))) * np.sqrt(sum(np.square(v2))))\n",
    "    similarity = dot_product / l2_norm     \n",
    "    \n",
    "    return similarity"
   ]
  },
  {
   "cell_type": "code",
   "execution_count": 76,
   "metadata": {},
   "outputs": [
    {
     "name": "stdout",
     "output_type": "stream",
     "text": [
      "(3, 18)\n"
     ]
    }
   ],
   "source": [
    "from sklearn.feature_extraction.text import TfidfVectorizer\n",
    "\n",
    "doc_list = ['if you take the blue pill, the story ends' ,\n",
    "            'if you take the red pill, you stay in Wonderland',\n",
    "            'if you take the red pill, I show you how deep the rabbit hole goes']\n",
    "\n",
    "tfidf_vect_simple = TfidfVectorizer()\n",
    "feature_vect_simple = tfidf_vect_simple.fit_transform(doc_list)\n",
    "print(feature_vect_simple.shape)"
   ]
  },
  {
   "cell_type": "code",
   "execution_count": 77,
   "metadata": {},
   "outputs": [
    {
     "name": "stdout",
     "output_type": "stream",
     "text": [
      "문장 1, 문장 2 Cosine 유사도: 0.402\n"
     ]
    }
   ],
   "source": [
    "# TFidfVectorizer로 transform()한 결과는 Sparse Matrix이므로 Dense Matrix로 변환. \n",
    "feature_vect_dense = feature_vect_simple.todense()\n",
    "\n",
    "#첫번째 문장과 두번째 문장의 feature vector  추출\n",
    "vect1 = np.array(feature_vect_dense[0]).reshape(-1,)\n",
    "vect2 = np.array(feature_vect_dense[1]).reshape(-1,)\n",
    "\n",
    "#첫번째 문장과 두번째 문장의 feature vector로 두개 문장의 Cosine 유사도 추출\n",
    "similarity_simple = cos_similarity(vect1, vect2 )\n",
    "print('문장 1, 문장 2 Cosine 유사도: {0:.3f}'.format(similarity_simple))"
   ]
  },
  {
   "cell_type": "code",
   "execution_count": 78,
   "metadata": {},
   "outputs": [
    {
     "name": "stdout",
     "output_type": "stream",
     "text": [
      "문장 1, 문장 3 Cosine 유사도: 0.404\n",
      "문장 2, 문장 3 Cosine 유사도: 0.456\n"
     ]
    }
   ],
   "source": [
    "vect1 = np.array(feature_vect_dense[0]).reshape(-1,)\n",
    "vect3 = np.array(feature_vect_dense[2]).reshape(-1,)\n",
    "similarity_simple = cos_similarity(vect1, vect3 )\n",
    "print('문장 1, 문장 3 Cosine 유사도: {0:.3f}'.format(similarity_simple))\n",
    "\n",
    "vect2 = np.array(feature_vect_dense[1]).reshape(-1,)\n",
    "vect3 = np.array(feature_vect_dense[2]).reshape(-1,)\n",
    "similarity_simple = cos_similarity(vect2, vect3 )\n",
    "print('문장 2, 문장 3 Cosine 유사도: {0:.3f}'.format(similarity_simple))"
   ]
  },
  {
   "cell_type": "code",
   "execution_count": 81,
   "metadata": {},
   "outputs": [
    {
     "name": "stdout",
     "output_type": "stream",
     "text": [
      "[[0.40207758 0.40425045]]\n"
     ]
    }
   ],
   "source": [
    "from sklearn.metrics.pairwise import cosine_similarity\n",
    "# 사이킷런에서 제공하는 API로 계산\n",
    "similarity_simple_pair = cosine_similarity(feature_vect_simple[0] , feature_vect_simple[1:])\n",
    "print(similarity_simple_pair)"
   ]
  },
  {
   "cell_type": "code",
   "execution_count": 82,
   "metadata": {},
   "outputs": [
    {
     "name": "stdout",
     "output_type": "stream",
     "text": [
      "[[1.         0.40207758 0.40425045]\n",
      " [0.40207758 1.         0.45647296]\n",
      " [0.40425045 0.45647296 1.        ]]\n",
      "shape: (3, 3)\n"
     ]
    }
   ],
   "source": [
    "similarity_simple_pair = cosine_similarity(feature_vect_simple , feature_vect_simple)\n",
    "print(similarity_simple_pair)\n",
    "print('shape:',similarity_simple_pair.shape)"
   ]
  },
  {
   "cell_type": "markdown",
   "metadata": {},
   "source": [
    "#### Opinion Review 데이터 세트를 이용한 문서 유사도 측정"
   ]
  },
  {
   "cell_type": "code",
   "execution_count": 83,
   "metadata": {},
   "outputs": [],
   "source": [
    "path = r'C:\\Users\\samsung\\판다스 스터디\\data\\OpinosisDataset1.0\\topics'\n",
    "all_files = glob.glob(os.path.join(path, \"*.data\"))     \n",
    "filename_list = []\n",
    "opinion_text = []\n",
    "\n",
    "for file_ in all_files:\n",
    "    df = pd.read_table(file_,index_col=None, header=0,encoding='latin1')\n",
    "    filename_ = file_.split('\\\\')[-1]\n",
    "    filename = filename_.split('.')[0]\n",
    "    filename_list.append(filename)\n",
    "    opinion_text.append(df.to_string())\n",
    "\n",
    "document_df = pd.DataFrame({'filename':filename_list, 'opinion_text':opinion_text})\n",
    "\n",
    "tfidf_vect = TfidfVectorizer(tokenizer=LemNormalize, stop_words='english' , \\\n",
    "                             ngram_range=(1,2), min_df=0.05, max_df=0.85 )\n",
    "feature_vect = tfidf_vect.fit_transform(document_df['opinion_text'])\n",
    "\n",
    "km_cluster = KMeans(n_clusters=3, max_iter=10000, random_state=0)\n",
    "km_cluster.fit(feature_vect)\n",
    "cluster_label = km_cluster.labels_\n",
    "cluster_centers = km_cluster.cluster_centers_\n",
    "document_df['cluster_label'] = cluster_label"
   ]
  },
  {
   "cell_type": "code",
   "execution_count": 86,
   "metadata": {
    "scrolled": true
   },
   "outputs": [
    {
     "name": "stdout",
     "output_type": "stream",
     "text": [
      "호텔로 클러스터링 된 문서들의 DataFrame Index: Int64Index([1, 13, 14, 15, 20, 21, 24, 28, 30, 31, 32, 38, 39, 40, 45, 46], dtype='int64')\n",
      "##### 비교 기준 문서명  bathroom_bestwestern_hotel_sfo  와 타 문서 유사도######\n",
      "[[1.         0.0430688  0.05221059 0.06189595 0.05846178 0.06193118\n",
      "  0.03638665 0.11742762 0.38038865 0.32619948 0.51442299 0.11282857\n",
      "  0.13989623 0.1386783  0.09518068 0.07049362]]\n"
     ]
    }
   ],
   "source": [
    "from sklearn.metrics.pairwise import cosine_similarity\n",
    "\n",
    "# cluster_label=2인 데이터는 호텔로 클러스터링된 데이터임. DataFrame에서 해당 Index를 추출\n",
    "hotel_indexes = document_df[document_df['cluster_label']==1].index\n",
    "print('호텔로 클러스터링 된 문서들의 DataFrame Index:', hotel_indexes)\n",
    "\n",
    "# 호텔로 클러스터링된 데이터 중 첫번째 문서를 추출하여 파일명 표시.  \n",
    "comparison_docname = document_df.iloc[hotel_indexes[0]]['filename']\n",
    "print('##### 비교 기준 문서명 ',comparison_docname,' 와 타 문서 유사도######')\n",
    "\n",
    "''' document_df에서 추출한 Index 객체를 feature_vect로 입력하여 호텔 클러스터링된 feature_vect 추출 \n",
    "이를 이용하여 호텔로 클러스터링된 문서 중 첫번째 문서와 다른 문서간의 코사인 유사도 측정.'''\n",
    "similarity_pair = cosine_similarity(feature_vect[hotel_indexes[0]] , feature_vect[hotel_indexes])\n",
    "print(similarity_pair)"
   ]
  },
  {
   "cell_type": "code",
   "execution_count": 87,
   "metadata": {},
   "outputs": [
    {
     "data": {
      "image/png": "[encoded data removed]",
      "text/plain": [
       "<Figure size 432x288 with 1 Axes>"
      ]
     },
     "metadata": {
      "needs_background": "light"
     },
     "output_type": "display_data"
    }
   ],
   "source": [
    "import seaborn as sns\n",
    "import numpy as np\n",
    "import matplotlib.pyplot as plt\n",
    "%matplotlib inline\n",
    "\n",
    "# argsort()를 이용하여 앞예제의 첫번째 문서와 타 문서간 유사도가 큰 순으로 정렬한 인덱스 반환하되 자기 자신은 제외. \n",
    "sorted_index = similarity_pair.argsort()[:,::-1]\n",
    "sorted_index = sorted_index[:, 1:]\n",
    "\n",
    "# 유사도가 큰 순으로 hotel_indexes를 추출하여 재 정렬. \n",
    "hotel_sorted_indexes = hotel_indexes[sorted_index.reshape(-1)]\n",
    "\n",
    "# 유사도가 큰 순으로 유사도 값을 재정렬하되 자기 자신은 제외\n",
    "hotel_1_sim_value = np.sort(similarity_pair.reshape(-1))[::-1]\n",
    "hotel_1_sim_value = hotel_1_sim_value[1:]\n",
    "\n",
    "# 유사도가 큰 순으로 정렬된 Index와 유사도값을 이용하여 파일명과 유사도값을 Seaborn 막대 그래프로 시각화\n",
    "hotel_1_sim_df = pd.DataFrame()\n",
    "hotel_1_sim_df['filename'] = document_df.iloc[hotel_sorted_indexes]['filename']\n",
    "hotel_1_sim_df['similarity'] = hotel_1_sim_value\n",
    "\n",
    "fig1 = plt.gcf()\n",
    "sns.barplot(x='similarity', y='filename',data=hotel_1_sim_df)\n",
    "plt.title(comparison_docname)\n",
    "fig1.savefig('p553_hotel.tif', format='tif', dpi=300, bbox_inches='tight')"
   ]
  }
 ],
 "metadata": {
  "kernelspec": {
   "display_name": "Python 3",
   "language": "python",
   "name": "python3"
  },
  "language_info": {
   "codemirror_mode": {
    "name": "ipython",
    "version": 3
   },
   "file_extension": ".py",
   "mimetype": "text/x-python",
   "name": "python",
   "nbconvert_exporter": "python",
   "pygments_lexer": "ipython3",
   "version": "3.8.5"
  }
 },
 "nbformat": 4,
 "nbformat_minor": 4
}
