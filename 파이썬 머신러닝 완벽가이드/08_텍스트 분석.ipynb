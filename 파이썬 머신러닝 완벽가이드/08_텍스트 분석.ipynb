{
 "cells": [
  {
   "cell_type": "markdown",
   "metadata": {},
   "source": [
    "#### NLP / 텍스트 분석"
   ]
  },
  {
   "cell_type": "markdown",
   "metadata": {},
   "source": [
    "NLP(National Language Processing)   \n",
    "- 머신이 인간의 언어를 이해하고 해석하는데 중점을 두고 발전\n",
    "- 기계 번역, 질의응답 시스템\n",
    "- 텍스트 분석을 향상하게 하는 기반 기술이라고 볼 수도 있음\n",
    "\n",
    "TA(Text Analytics)   \n",
    "- 텍스트 마이닝이라고도 불림\n",
    "- 비정형 텍스트에서 의미 있는 정보를 추출하는 것에 좀 더 중점을 두고 발전\n",
    "- 머신러닝, 언어 이해, 통계 등을 활용해 모델을 수립하고 정보 추출해 비즈니스 인텔리전스나 예측 분석 등의 분석 작업을 주로 수행\n",
    "    - 텍스트 분류 : 문서가 특정 분류 또는 카테고리에 속하는 것을 예측하는 기법 통칭/ 지도학습을 적용\n",
    "        - ex ) 기사 카테고리 분류 / 스팸 메일 검출 \n",
    "    - 감성 분석 : 텍스트에서 나타나는 감정/판단/믿음/의견/기분 등 주관적 요소를 분석하는 기법 총칭 / 지도학습 , 비지도학습에도 적용 가능\n",
    "        - ex ) SNS 감정 분석 / 제품에 대한 긍정 또는 리뷰,조사 의견 분석\n",
    "        - TA에서 가장 활발하게 사용 \n",
    "    - 텍스트 요약 : 텍스트 내 중요한 주제나 중심 사상을 추출하는 기법\n",
    "        - ex) 토픽 모델링\n",
    "    - 텍스트 군집화와 유사도 측정 : 비슷한 유형의 문서에 대한 군집화 수행\n",
    "    - 텍스트 분류를 비지도학습으로 수행하는 방법의 일환으로 사용 가능\n",
    "    \n",
    "NLP와 TA를 구분하는 것이 큰 의미는 없음"
   ]
  },
  {
   "cell_type": "markdown",
   "metadata": {},
   "source": [
    "### 1. 텍스트 분석 이해"
   ]
  },
  {
   "cell_type": "markdown",
   "metadata": {},
   "source": [
    "비정형 데이터인 텍스트 분석   \n",
    "머신러닝 알고리즘은 숫자형의 피처 기반 데이터만 입력받을 수 있기 때문에 비정형 텍스트 데이터를 어떻게 피처 형태로 추출하고 추출된 피처에 의미 있는 값을 부여하는가 하는 것이 매우 중요한 요소임   \n",
    "텍스트를 word 기반의 다수 피처로 추출하고 단어 빈도수와 같은 숫자 값을 부여하면 단어 조합인 벡터값으로 표현 가능 => 피처 벡터화 / 피처 추출   \n",
    "ex) BOW / Word2Vec"
   ]
  },
  {
   "cell_type": "markdown",
   "metadata": {},
   "source": [
    "#### 텍스트 분석 수행 프로세스\n",
    "1. 텍스트 사전 준비작업(텍스트 전처리)\n",
    "    - 피처로 만들기 전에 미리 클렌징,대/소문자 변경, 특수문자 삭제 등 클렌징 작업, 단어 등의 토큰화 작업, 의미 없는 단어(Stop word_ 제거 작업, 어근 추출(Stemming/Lemmatization) 등의 텍스트 정규화 작업 수행\n",
    "2. 피처 벡터화/추출\n",
    "    - 사전 준비 작업으로 가공된 텍스트에서 피처 추출하고 여기에 벡터 값 할당\n",
    "    - BOW / Word2Vec , BOW는 대표적으로 Count 기반 , TF-IDF 기반 벡터화로 나뉨\n",
    "3. ML 모델 수립 및 학습/예측/평가\n",
    "    - 피처 벡터화된 데이터 세트에 ML모델 적용해 학습/예측 및 평가 수행"
   ]
  },
  {
   "cell_type": "markdown",
   "metadata": {},
   "source": [
    "#### 파이썬 기반의 NLP , 텍스트 분석 패키지\n",
    "파이썬 기반 NLP / 텍스트 분석 패키지\n",
    "1. NLTK(Natural Language Toolkit for Python) : 파이썬의 가장 대표적인 NLP 패키지 / 방대한 데이터 세트와 서브 모듈 가지고 있으며 NLP의 거의 모든 영역 커버 / 수행속도 측면에서 아쉬운 부분이 있어 대량 데이터 기반에서는 제대로 활용 X\n",
    "2. Gensim : 토픽 모델링 분야에서 두각을 나타냄 / SpaCy와 함께 가장 많이 사용됨\n",
    "3. SpaCy : 뛰어난 수행 성능으로 최근에 가장 주목 받음"
   ]
  },
  {
   "cell_type": "markdown",
   "metadata": {},
   "source": [
    "### 2. 텍스트 사전 준비 작업(텍스트 전처리) - 텍스트 정규화"
   ]
  },
  {
   "cell_type": "markdown",
   "metadata": {},
   "source": [
    "- 텍스트 자체를 바로 피처로 만들 수는 없음. 사전에 텍스트 가공하는 준비 작업 필요\n",
    "- 클렌징, 정제, 토큰화, 어근화 등 텍스트 사전작업 수행을 의미함\n",
    "- 클랜징 : 분석에 방해되는 불필요한 문자, 기호 등을 사전에 제거하는 작업 / HTML,XML 태그나 특정 기호 등 제거\n",
    "- 텍스트 토큰화 : 문장토큰화 / 단어토큰화\n",
    "    - 문장 토큰화 : 마침표 , 개행문자 등 문장의 마지막을 뜻하는 기호에 따라 분리하는 것이 일반적임 / 정규 표현식에 따른 토큰화도 가능   \n",
    "    각 문장이 가지는 시맨틱적 의미가 중요한 요소로 사용되는 경우 사용\n",
    "    - 단어 토큰화 : 공백, 콤마, 마침표, 개행문자등으로 단어 분리 / 정규 표현식을 이용해 다양한 유형으로 토큰화 수행 가능   \n",
    "    단어 순서가 중요하지 않은 경우 주로 단어 토큰화만 사용해도 충분함"
   ]
  },
  {
   "cell_type": "code",
   "execution_count": 2,
   "metadata": {},
   "outputs": [
    {
     "name": "stdout",
     "output_type": "stream",
     "text": [
      "<class 'list'> 3\n",
      "['The Matrix is everywhere its all around us, here even in this room.', 'You can see it out your window or on your television.', 'You feel it when you go to work, or go to church or pay your taxes.']\n"
     ]
    }
   ],
   "source": [
    "# NLTK sent_tokenize로 문장 토큰화 수행\n",
    "from nltk import sent_tokenize\n",
    "import nltk\n",
    "\n",
    "text_sample = 'The Matrix is everywhere its all around us, here even in this room. \\\n",
    "                You can see it out your window or on your television. \\\n",
    "                You feel it when you go to work, or go to church or pay your taxes.'\n",
    "sentences = sent_tokenize(text=text_sample)\n",
    "print(type(sentences), len(sentences))\n",
    "print(sentences)"
   ]
  },
  {
   "cell_type": "code",
   "execution_count": 3,
   "metadata": {},
   "outputs": [
    {
     "name": "stdout",
     "output_type": "stream",
     "text": [
      "<class 'list'> 15\n",
      "['The', 'Matrix', 'is', 'everywhere', 'its', 'all', 'around', 'us', ',', 'here', 'even', 'in', 'this', 'room', '.']\n"
     ]
    }
   ],
   "source": [
    "# NLTK word_tokenize로 단어 토큰화 수행\n",
    "from nltk import word_tokenize\n",
    "\n",
    "sentence = 'The Matrix is everywhere its all around us, here even in this room.'\n",
    "words = word_tokenize(sentence)\n",
    "print(type(words),len(words))\n",
    "print(words)"
   ]
  },
  {
   "cell_type": "code",
   "execution_count": 4,
   "metadata": {
    "scrolled": true
   },
   "outputs": [
    {
     "name": "stdout",
     "output_type": "stream",
     "text": [
      "<class 'list'> 3\n",
      "[['The', 'Matrix', 'is', 'everywhere', 'its', 'all', 'around', 'us', ',', 'here', 'even', 'in', 'this', 'room', '.'], ['You', 'can', 'see', 'it', 'out', 'your', 'window', 'or', 'on', 'your', 'television', '.'], ['You', 'feel', 'it', 'when', 'you', 'go', 'to', 'work', ',', 'or', 'go', 'to', 'church', 'or', 'pay', 'your', 'taxes', '.']]\n"
     ]
    }
   ],
   "source": [
    "# sent_tokenize와 word_tokenize로 모든 단어 토큰화\n",
    "def tokenize_text(text):\n",
    "    sentences == sent_tokenize(text)\n",
    "    word_tokens = [word_tokenize(sentence) for sentence in sentences]\n",
    "    return word_tokens\n",
    "\n",
    "word_tokens = tokenize_text(text_sample)\n",
    "print(type(word_tokens), len(word_tokens))\n",
    "print(word_tokens)\n",
    "# 문장을 단어별로 하나씩 토큰화 할 경우 문맥적 의미 무시될 수 밖에 없음\n",
    "# n-gram : 연속된 n개의 단어를 하나의 토큰화 단위로 분리"
   ]
  },
  {
   "cell_type": "markdown",
   "metadata": {},
   "source": [
    "#### 스톱 워드 제거\n",
    "- Stop word ; 분석에 큰 의미가 없는 단어 지칭\n",
    "- 문법적 특성에 의해 빈번하게 나타나므로 중요한 단어로 인지될 수 있음"
   ]
  },
  {
   "cell_type": "code",
   "execution_count": 5,
   "metadata": {},
   "outputs": [
    {
     "name": "stderr",
     "output_type": "stream",
     "text": [
      "[nltk_data] Downloading package stopwords to\n",
      "[nltk_data]     C:\\Users\\samsung\\AppData\\Roaming\\nltk_data...\n",
      "[nltk_data]   Unzipping corpora\\stopwords.zip.\n"
     ]
    },
    {
     "data": {
      "text/plain": [
       "True"
      ]
     },
     "execution_count": 5,
     "metadata": {},
     "output_type": "execute_result"
    }
   ],
   "source": [
    "nltk.download('stopwords')"
   ]
  },
  {
   "cell_type": "code",
   "execution_count": 6,
   "metadata": {},
   "outputs": [
    {
     "name": "stdout",
     "output_type": "stream",
     "text": [
      "영어 stop words 개수: 179\n",
      "['i', 'me', 'my', 'myself', 'we', 'our', 'ours', 'ourselves', 'you', \"you're\", \"you've\", \"you'll\", \"you'd\", 'your', 'yours', 'yourself', 'yourselves', 'he', 'him', 'his']\n"
     ]
    }
   ],
   "source": [
    "print('영어 stop words 개수:', len(nltk.corpus.stopwords.words('english')))\n",
    "print(nltk.corpus.stopwords.words('english')[:20])"
   ]
  },
  {
   "cell_type": "code",
   "execution_count": 7,
   "metadata": {},
   "outputs": [
    {
     "name": "stdout",
     "output_type": "stream",
     "text": [
      "[['matrix', 'everywhere', 'around', 'us', ',', 'even', 'room', '.'], ['see', 'window', 'television', '.'], ['feel', 'go', 'work', ',', 'go', 'church', 'pay', 'taxes', '.']]\n"
     ]
    }
   ],
   "source": [
    "# stopwords 필터링으로 제거해 분석에 의미 있는 단어만 추출\n",
    "stopwords = nltk.corpus.stopwords.words('english')\n",
    "all_tokens = []\n",
    "\n",
    "for sentence in word_tokens:\n",
    "    filtered_words = []\n",
    "    for word in sentence :\n",
    "        word = word.lower()\n",
    "        \n",
    "        if word not in stopwords:\n",
    "            filtered_words.append(word)\n",
    "    all_tokens.append(filtered_words)\n",
    "\n",
    "print(all_tokens)"
   ]
  },
  {
   "cell_type": "markdown",
   "metadata": {},
   "source": [
    "#### Stemming 과 Lemmatization\n",
    "- 문법적 또는 의미적으로 변화하는 단어의 원형 찾아줌\n",
    "- Lemmatization이 Stemming보다 정교하며 의미론적인 기반에서 단어의 원형 찾음 \n",
    "- Stemming은 좀 더 일반적이고 단순화된 방법을 적용해 원래 단어에서 일부 철자가 훼손된 어근 단어 추출하는 경향이 있음\n",
    "- Lemmatization이 변환에 더 오랜 시간 필요함"
   ]
  },
  {
   "cell_type": "code",
   "execution_count": 8,
   "metadata": {
    "scrolled": true
   },
   "outputs": [
    {
     "name": "stdout",
     "output_type": "stream",
     "text": [
      "work work work\n",
      "amus amus amus\n",
      "happy happiest\n",
      "fant fanciest\n"
     ]
    }
   ],
   "source": [
    "# NLTK의 LancasterStemmer를 이용해 Stemmer 살펴보기\n",
    "# 진행형, 3인칭 단수, 과거형에 따른 동사, 비교, 최상에 따른 형용사 변화에 따라 원형 단어 찾아줌\n",
    "from nltk.stem import LancasterStemmer\n",
    "\n",
    "stemmer = LancasterStemmer()\n",
    "\n",
    "print(stemmer.stem('working'), stemmer.stem('works'), stemmer.stem('worked'))\n",
    "print(stemmer.stem('amusing'), stemmer.stem('amuses'), stemmer.stem('amused'))\n",
    "print(stemmer.stem('happier'), stemmer.stem('happiest'))\n",
    "print(stemmer.stem('fancier'), stemmer.stem('fanciest'))\n",
    "# 정확한 원형을 찾지 못하거나 , 비교형, 최상급형으로 변형된 단어의 원형 찾지 못하는 경우가 발생함"
   ]
  },
  {
   "cell_type": "code",
   "execution_count": 9,
   "metadata": {},
   "outputs": [
    {
     "name": "stderr",
     "output_type": "stream",
     "text": [
      "[nltk_data] Downloading package wordnet to\n",
      "[nltk_data]     C:\\Users\\samsung\\AppData\\Roaming\\nltk_data...\n",
      "[nltk_data]   Package wordnet is already up-to-date!\n"
     ]
    },
    {
     "name": "stdout",
     "output_type": "stream",
     "text": [
      "amuse amuse amuse\n",
      "happy happy\n",
      "fancy fancy\n"
     ]
    }
   ],
   "source": [
    "# WordNetLemmatizer로 Lemmatization 수행\n",
    "# 단어의 품사 입력 필요\n",
    "from nltk.stem import WordNetLemmatizer\n",
    "nltk.download('wordnet')\n",
    "\n",
    "lemma = WordNetLemmatizer()\n",
    "print(lemma.lemmatize('amusing','v'), lemma.lemmatize('amuses','v'), lemma.lemmatize('amused','v'))\n",
    "print(lemma.lemmatize('happier','a'), lemma.lemmatize('happiest','a'))\n",
    "print(lemma.lemmatize('fancier','a'), lemma.lemmatize('fanciest','a'))\n",
    "# Stemmer보다 정확하게 원형 단어 추출해줌"
   ]
  },
  {
   "cell_type": "markdown",
   "metadata": {},
   "source": [
    "### 3. Bag of Words - BOW"
   ]
  },
  {
   "cell_type": "markdown",
   "metadata": {},
   "source": [
    "모든 문서가 가지는 모든 단어를 문맥이나 순서를 무시하고 일괄적으로 단어에 대한 빈도값을 부여해 피처 값 추출하는 모델   \n",
    "1. 모든 단어의 중복 제거하고 각 단어를 칼럼 형태로 나열해 고유 인덱스 부여\n",
    "2. 개별 문장에서 단어가 나타나는 횟수를 단어 인덱스에 기재\n",
    "\n",
    "장점\n",
    "- 쉽고 빠른 구축\n",
    "- 예상보다 문서의 특징을 잘 나타낼 수 있는 모델로 여러 분야에서 활용도가 높음\n",
    "\n",
    "단점\n",
    "- 문맥 의미(Semantic Context) 반영 부족\n",
    "- 희소 행렬 문제 -> ML 알고리즘의 수행 시간과 예측 성능 떨어뜨림"
   ]
  },
  {
   "attachments": {
    "image.png": {
     "image/png": "[encoded data removed]"
    }
   },
   "cell_type": "markdown",
   "metadata": {},
   "source": [
    "#### BOW 피처 벡터화\n",
    "- 모든 문서에서 모든 단어를 칼럼 형태로 나열하고 각 문서에서 해당 단어의 횟수나 정규화된 빈도를 값으로 부여하는 데이터 세트 모델로 변경\n",
    "- M개의 문서에 총 N개의 단어가 있다면 M*N개의 단어 피처로 이뤄진 행렬 구성\n",
    "\n",
    "1. 카운트 기반 벡터화\n",
    "    - 단어 피처에 값 부여 시 단어가 나타나는 횟수 부여하는 경우\n",
    "    - 그 문서의 특징보다는 언어의 특성상 문장에서 자주 사용될 수 밖에 없는 단어까지 높은 값 부여\n",
    "2. TF-IDF(Term Frequency - Inverse Document Frequency) 기반 벡터화\n",
    "    - 카운트 기반 벡터화의 문제 보완\n",
    "    - 개별 문서에 자주 나타나는 단어에 높은 가중치 주되, 모든 문서에 전반적으로 자주 나타나는 단어에 대해서는 페널티 주는 방식으로 값 부여\n",
    "    - 문서마다 텍스트가 길고 문서 개수가 많은 경우 더 좋은 예측 성능 보장\n",
    "    ![image.png](attachment:image.png)"
   ]
  },
  {
   "cell_type": "markdown",
   "metadata": {},
   "source": [
    "#### 사이킷런의 Count 및 TF-IDF 벡터화 구현 : CountVectorizer, TfidVectorizer\n",
    "- CountVectorizer / TfidVectorizer 벡터화 방법\n",
    "    1. 영어의 경우 모든 문자 소문자로 변경\n",
    "    2. 디폴트로 단어 기준으로 n_gram_range 반영해 각 단어 토큰화\n",
    "    3. 텍스트 정규화 수행 / stop_words 파라미터가 주어진 경우 스톱 워드 필터링\n",
    "    4. 토큰화된 단어 피처로 추출하고 단어 빈도수 벡터값 적용"
   ]
  },
  {
   "cell_type": "markdown",
   "metadata": {},
   "source": [
    "#### BOW 벡터화를 위한 희소 행렬\n",
    "- 희소행렬 : 대규모 행렬의 대부분의 값을 0이 차지하는 행렬\n",
    "- BOW 형태를 가진 언어 모델의 피처 벡터화는 대부분 희소 행렬임\n",
    "- 너무 많은 불필요한 0 값이 메모리 공간에 할당되어 메모리 공간이 많이 필요하고, 행렬 크기가 커서 연산 시에도 데이터 액세스를 위한 시간 많이 소모\n",
    "- COO 형식 / CSR 형식으로 물리적으로 적은 메모리 공간 차지하도록 변환 가능\n",
    "- 일반적으로 큰 희소 행렬 저장하고 계산 수행 능력이 뛰어난 CSR 형식 많이 사용"
   ]
  },
  {
   "cell_type": "markdown",
   "metadata": {},
   "source": [
    "#### 희소 행렬 - COO 형식\n",
    "- COO(Coordinate:좌표) 형식\n",
    "    - 0이 아닌 데이터만 별도의 데이터 배열에 저장하고, 그 데이터가 가리키는 행과 열의 위치를 별도의 배열로 저장하는 방식"
   ]
  },
  {
   "cell_type": "code",
   "execution_count": 12,
   "metadata": {},
   "outputs": [
    {
     "data": {
      "text/plain": [
       "array([[3, 0, 1],\n",
       "       [0, 2, 0]])"
      ]
     },
     "execution_count": 12,
     "metadata": {},
     "output_type": "execute_result"
    }
   ],
   "source": [
    "import numpy as np\n",
    "dense = np.array([[3,0,1], [0,2,0]])\n",
    "\n",
    "from scipy import sparse\n",
    "# 0이 아닌 데이터 추출\n",
    "data = np.array([3,1,2])\n",
    "\n",
    "# 행과 열 위치 각각 배열로 생성\n",
    "row_pos = np.array([0,0,1])\n",
    "col_pos = np.array([0,2,1])\n",
    "\n",
    "sparse_coo = sparse.coo_matrix((data, (row_pos, col_pos))) # 희소 행렬 객체 변수\n",
    "sparse_coo.toarray() # 다시 밀집 행렬 형태로 출력"
   ]
  },
  {
   "cell_type": "markdown",
   "metadata": {},
   "source": [
    "#### 희소 행렬 - CSR 형식\n",
    "- CSR(Compressed Sparse Row) 형식 \n",
    "    - COO 형식의 경우 행과 열 위치를 나타내기 위해 반복적인 위치 데이터 사용해야함\n",
    "    - 행 위치 배열 내에 있는 고유한 값의 시작 위치만 다시 별도의 위치 배열로 가지는 변환 방식"
   ]
  },
  {
   "cell_type": "code",
   "execution_count": 13,
   "metadata": {
    "scrolled": true
   },
   "outputs": [
    {
     "name": "stdout",
     "output_type": "stream",
     "text": [
      "COO 변환 다시 Dense로 출력 확인\n",
      "[[0 0 1 0 0 5]\n",
      " [1 4 0 3 2 5]\n",
      " [0 6 0 3 0 0]\n",
      " [2 0 0 0 0 0]\n",
      " [0 0 0 7 0 8]\n",
      " [1 0 0 0 0 0]]\n",
      "CSR 변환 다시 Dense로 출력 확인\n",
      "[[0 0 1 0 0 5]\n",
      " [1 4 0 3 2 5]\n",
      " [0 6 0 3 0 0]\n",
      " [2 0 0 0 0 0]\n",
      " [0 0 0 7 0 8]\n",
      " [1 0 0 0 0 0]]\n"
     ]
    }
   ],
   "source": [
    "from scipy import sparse\n",
    "\n",
    "dense2 = np.array([[0,0,1,0,0,5],\n",
    "                  [1,4,0,3,2,5],\n",
    "                  [0,6,0,3,0,0],\n",
    "                  [2,0,0,0,0,0],\n",
    "                  [0,0,0,7,0,8],\n",
    "                  [1,0,0,0,0,0]])\n",
    "data2 = np.array([1,5,1,4,3,2,5,6,3,2,7,8,1])\n",
    "\n",
    "row_pos = np.array([0,0,1,1,1,1,1,2,2,3,4,4,5])\n",
    "col_pos = np.array([2,5,0,1,3,4,5,1,3,0,3,5,0])\n",
    "\n",
    "sparse_coo = sparse.coo_matrix((data2, (row_pos, col_pos)))\n",
    "\n",
    "row_pos_ind = np.array([0,2,7,9,10,12,13])\n",
    "\n",
    "sparse_csr = sparse.csr_matrix((data2, col_pos, row_pos_ind))\n",
    "\n",
    "print('COO 변환 다시 Dense로 출력 확인')\n",
    "print(sparse_coo.toarray())\n",
    "print('CSR 변환 다시 Dense로 출력 확인')\n",
    "print(sparse_csr.toarray())"
   ]
  },
  {
   "cell_type": "code",
   "execution_count": 14,
   "metadata": {},
   "outputs": [],
   "source": [
    "# 실제 사용 시 밀집 행렬을 파라미터로 입력하면 COO나 CSR 희소 행렬로 생성해줌\n",
    "dense3 = np.array([[0,0,1,0,0,5],\n",
    "                  [1,4,0,3,2,5],\n",
    "                  [0,6,0,3,0,0],\n",
    "                  [2,0,0,0,0,0],\n",
    "                  [0,0,0,7,0,8],\n",
    "                  [1,0,0,0,0,0]])\n",
    "coo = sparse.coo_matrix(dense3)\n",
    "csr = sparse.csr_matrix(dense3)"
   ]
  }
 ],
 "metadata": {
  "kernelspec": {
   "display_name": "Python 3",
   "language": "python",
   "name": "python3"
  },
  "language_info": {
   "codemirror_mode": {
    "name": "ipython",
    "version": 3
   },
   "file_extension": ".py",
   "mimetype": "text/x-python",
   "name": "python",
   "nbconvert_exporter": "python",
   "pygments_lexer": "ipython3",
   "version": "3.8.5"
  }
 },
 "nbformat": 4,
 "nbformat_minor": 4
}
